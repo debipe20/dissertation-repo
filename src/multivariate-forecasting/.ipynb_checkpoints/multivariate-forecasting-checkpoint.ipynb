{
 "cells": [
  {
   "cell_type": "code",
   "execution_count": 1,
   "metadata": {},
   "outputs": [
    {
     "name": "stderr",
     "output_type": "stream",
     "text": [
      "Using TensorFlow backend.\n"
     ]
    }
   ],
   "source": [
    "import numpy as np\n",
    "from keras.models import Sequential\n",
    "from keras.layers import LSTM\n",
    "from keras.layers import Dense\n",
    "from keras.layers import Dropout\n",
    "import pandas as pd\n",
    "import matplotlib.pyplot as plt\n",
    "from sklearn.preprocessing import StandardScaler\n",
    "import seaborn as sns"
   ]
  },
  {
   "cell_type": "code",
   "execution_count": 2,
   "metadata": {},
   "outputs": [
    {
     "name": "stdout",
     "output_type": "stream",
     "text": [
      "Number of rows and columns: (252, 7)\n"
     ]
    }
   ],
   "source": [
    "df = pd.read_csv('GE.csv')\n",
    "print(\"Number of rows and columns:\", df.shape)"
   ]
  },
  {
   "cell_type": "code",
   "execution_count": 3,
   "metadata": {},
   "outputs": [
    {
     "data": {
      "text/html": [
       "<div>\n",
       "<style scoped>\n",
       "    .dataframe tbody tr th:only-of-type {\n",
       "        vertical-align: middle;\n",
       "    }\n",
       "\n",
       "    .dataframe tbody tr th {\n",
       "        vertical-align: top;\n",
       "    }\n",
       "\n",
       "    .dataframe thead th {\n",
       "        text-align: right;\n",
       "    }\n",
       "</style>\n",
       "<table border=\"1\" class=\"dataframe\">\n",
       "  <thead>\n",
       "    <tr style=\"text-align: right;\">\n",
       "      <th></th>\n",
       "      <th>Date</th>\n",
       "      <th>Open</th>\n",
       "      <th>High</th>\n",
       "      <th>Low</th>\n",
       "      <th>Close</th>\n",
       "      <th>Adj Close</th>\n",
       "      <th>Volume</th>\n",
       "    </tr>\n",
       "  </thead>\n",
       "  <tbody>\n",
       "    <tr>\n",
       "      <th>0</th>\n",
       "      <td>2020-06-08</td>\n",
       "      <td>8.22</td>\n",
       "      <td>8.57</td>\n",
       "      <td>8.11</td>\n",
       "      <td>8.46</td>\n",
       "      <td>8.419436</td>\n",
       "      <td>158459100</td>\n",
       "    </tr>\n",
       "    <tr>\n",
       "      <th>1</th>\n",
       "      <td>2020-06-09</td>\n",
       "      <td>8.19</td>\n",
       "      <td>8.21</td>\n",
       "      <td>7.90</td>\n",
       "      <td>8.02</td>\n",
       "      <td>7.981545</td>\n",
       "      <td>117645200</td>\n",
       "    </tr>\n",
       "    <tr>\n",
       "      <th>2</th>\n",
       "      <td>2020-06-10</td>\n",
       "      <td>7.97</td>\n",
       "      <td>7.98</td>\n",
       "      <td>7.52</td>\n",
       "      <td>7.61</td>\n",
       "      <td>7.573512</td>\n",
       "      <td>116954500</td>\n",
       "    </tr>\n",
       "    <tr>\n",
       "      <th>3</th>\n",
       "      <td>2020-06-11</td>\n",
       "      <td>7.06</td>\n",
       "      <td>7.35</td>\n",
       "      <td>6.84</td>\n",
       "      <td>6.95</td>\n",
       "      <td>6.916676</td>\n",
       "      <td>124502900</td>\n",
       "    </tr>\n",
       "    <tr>\n",
       "      <th>4</th>\n",
       "      <td>2020-06-12</td>\n",
       "      <td>7.34</td>\n",
       "      <td>7.43</td>\n",
       "      <td>7.08</td>\n",
       "      <td>7.25</td>\n",
       "      <td>7.215238</td>\n",
       "      <td>100985700</td>\n",
       "    </tr>\n",
       "  </tbody>\n",
       "</table>\n",
       "</div>"
      ],
      "text/plain": [
       "         Date  Open  High   Low  Close  Adj Close     Volume\n",
       "0  2020-06-08  8.22  8.57  8.11   8.46   8.419436  158459100\n",
       "1  2020-06-09  8.19  8.21  7.90   8.02   7.981545  117645200\n",
       "2  2020-06-10  7.97  7.98  7.52   7.61   7.573512  116954500\n",
       "3  2020-06-11  7.06  7.35  6.84   6.95   6.916676  124502900\n",
       "4  2020-06-12  7.34  7.43  7.08   7.25   7.215238  100985700"
      ]
     },
     "execution_count": 3,
     "metadata": {},
     "output_type": "execute_result"
    }
   ],
   "source": [
    "df.head(5)"
   ]
  },
  {
   "cell_type": "code",
   "execution_count": 4,
   "metadata": {},
   "outputs": [],
   "source": [
    "#seperate dates for future plotting\n",
    "train_dates = pd.to_datetime(df['Date'])"
   ]
  },
  {
   "cell_type": "code",
   "execution_count": 5,
   "metadata": {},
   "outputs": [
    {
     "data": {
      "text/plain": [
       "['Open', 'High', 'Low', 'Close', 'Adj Close']"
      ]
     },
     "execution_count": 5,
     "metadata": {},
     "output_type": "execute_result"
    }
   ],
   "source": [
    "#variable for training\n",
    "cols = list(df)[1:6]\n",
    "cols"
   ]
  },
  {
   "cell_type": "code",
   "execution_count": 6,
   "metadata": {},
   "outputs": [
    {
     "data": {
      "text/html": [
       "<div>\n",
       "<style scoped>\n",
       "    .dataframe tbody tr th:only-of-type {\n",
       "        vertical-align: middle;\n",
       "    }\n",
       "\n",
       "    .dataframe tbody tr th {\n",
       "        vertical-align: top;\n",
       "    }\n",
       "\n",
       "    .dataframe thead th {\n",
       "        text-align: right;\n",
       "    }\n",
       "</style>\n",
       "<table border=\"1\" class=\"dataframe\">\n",
       "  <thead>\n",
       "    <tr style=\"text-align: right;\">\n",
       "      <th></th>\n",
       "      <th>Open</th>\n",
       "      <th>High</th>\n",
       "      <th>Low</th>\n",
       "      <th>Close</th>\n",
       "      <th>Adj Close</th>\n",
       "    </tr>\n",
       "  </thead>\n",
       "  <tbody>\n",
       "    <tr>\n",
       "      <th>0</th>\n",
       "      <td>8.22</td>\n",
       "      <td>8.57</td>\n",
       "      <td>8.11</td>\n",
       "      <td>8.46</td>\n",
       "      <td>8.419436</td>\n",
       "    </tr>\n",
       "    <tr>\n",
       "      <th>1</th>\n",
       "      <td>8.19</td>\n",
       "      <td>8.21</td>\n",
       "      <td>7.90</td>\n",
       "      <td>8.02</td>\n",
       "      <td>7.981545</td>\n",
       "    </tr>\n",
       "    <tr>\n",
       "      <th>2</th>\n",
       "      <td>7.97</td>\n",
       "      <td>7.98</td>\n",
       "      <td>7.52</td>\n",
       "      <td>7.61</td>\n",
       "      <td>7.573512</td>\n",
       "    </tr>\n",
       "    <tr>\n",
       "      <th>3</th>\n",
       "      <td>7.06</td>\n",
       "      <td>7.35</td>\n",
       "      <td>6.84</td>\n",
       "      <td>6.95</td>\n",
       "      <td>6.916676</td>\n",
       "    </tr>\n",
       "    <tr>\n",
       "      <th>4</th>\n",
       "      <td>7.34</td>\n",
       "      <td>7.43</td>\n",
       "      <td>7.08</td>\n",
       "      <td>7.25</td>\n",
       "      <td>7.215238</td>\n",
       "    </tr>\n",
       "  </tbody>\n",
       "</table>\n",
       "</div>"
      ],
      "text/plain": [
       "   Open  High   Low  Close  Adj Close\n",
       "0  8.22  8.57  8.11   8.46   8.419436\n",
       "1  8.19  8.21  7.90   8.02   7.981545\n",
       "2  7.97  7.98  7.52   7.61   7.573512\n",
       "3  7.06  7.35  6.84   6.95   6.916676\n",
       "4  7.34  7.43  7.08   7.25   7.215238"
      ]
     },
     "execution_count": 6,
     "metadata": {},
     "output_type": "execute_result"
    }
   ],
   "source": [
    "df_for_training = df[cols].astype(float)\n",
    "df_for_training.head(5)"
   ]
  },
  {
   "cell_type": "code",
   "execution_count": 7,
   "metadata": {},
   "outputs": [
    {
     "name": "stdout",
     "output_type": "stream",
     "text": [
      "[[-0.56291362 -0.49267093 -0.54789303 -0.47557634 -0.48413222]\n",
      " [-0.57347559 -0.61823662 -0.62262112 -0.63005227 -0.63744335]\n",
      " [-0.65093    -0.69845914 -0.75784338 -0.77399576 -0.78030082]\n",
      " ...\n",
      " [ 1.46850434  1.53033183  1.5267011   1.50101344  1.50120333]\n",
      " [ 1.52835548  1.47103692  1.49823326  1.45537283  1.4556887 ]\n",
      " [ 1.47202499  1.42569375  1.49823326  1.43781874  1.43818308]]\n"
     ]
    }
   ],
   "source": [
    "#LSTM uses sigmoid and tanh that are sensitive to magnitude so values need to be normalized\n",
    "#normalize the dataset\n",
    "scaler = StandardScaler()\n",
    "scaler = scaler.fit(df_for_training)\n",
    "df_for_training_scaled = scaler.transform(df_for_training)\n",
    "print(df_for_training_scaled)"
   ]
  },
  {
   "cell_type": "code",
   "execution_count": 8,
   "metadata": {},
   "outputs": [],
   "source": [
    "trainX = []\n",
    "trainY = []"
   ]
  },
  {
   "cell_type": "code",
   "execution_count": 9,
   "metadata": {},
   "outputs": [],
   "source": [
    "n_future = 1 #Number of days we want to predict into the future\n",
    "n_past = 14 #Number of past days we want to use to predict the future"
   ]
  },
  {
   "cell_type": "code",
   "execution_count": 10,
   "metadata": {},
   "outputs": [],
   "source": [
    "for i in range (n_past, len(df_for_training_scaled) - n_future + 1):\n",
    "    trainX.append(df_for_training_scaled[i - n_past:i, 0:df_for_training.shape[1]])\n",
    "    trainY.append(df_for_training_scaled[i + n_future -1:i +n_future, 0])\n",
    "    \n",
    "trainX, trainY = np.array(trainX), np.array(trainY)"
   ]
  },
  {
   "cell_type": "code",
   "execution_count": 11,
   "metadata": {},
   "outputs": [
    {
     "name": "stdout",
     "output_type": "stream",
     "text": [
      "trainX shape == (238, 14, 5).\n",
      "trainY shape == (238, 1).\n"
     ]
    }
   ],
   "source": [
    "print('trainX shape == {}.'.format(trainX.shape))\n",
    "print('trainY shape == {}.'.format(trainY.shape))"
   ]
  },
  {
   "cell_type": "code",
   "execution_count": 12,
   "metadata": {},
   "outputs": [
    {
     "data": {
      "text/plain": [
       "array([[-0.56291362, -0.49267093, -0.54789303, -0.47557634, -0.48413222],\n",
       "       [-0.57347559, -0.61823662, -0.62262112, -0.63005227, -0.63744335],\n",
       "       [-0.65093   , -0.69845914, -0.75784338, -0.77399576, -0.78030082],\n",
       "       [-0.97130961, -0.9181991 , -0.99982005, -1.00570966, -1.01026734],\n",
       "       [-0.87273127, -0.89029561, -0.91441652, -0.90038516, -0.90573704],\n",
       "       [-1.01003682, -0.9181991 , -0.99626157, -0.90389597, -0.90922171],\n",
       "       [-0.73542572, -0.7821696 , -0.83968843, -0.82314719, -0.829082  ],\n",
       "       [-0.81640079, -0.85541625, -0.87171476, -0.90389597, -0.90922171],\n",
       "       [-0.94666502, -0.9286629 , -0.93576741, -0.88985271, -0.89528408],\n",
       "       [-0.84456603, -0.88331974, -0.91085804, -0.93549332, -0.94058059],\n",
       "       [-0.9325824 , -0.977494  , -0.95711829, -0.97411231, -0.97890811],\n",
       "       [-0.96074764, -0.99493368, -0.95355981, -0.98815557, -0.99284574],\n",
       "       [-1.02764009, -1.07515621, -1.11369143, -1.15316396, -1.15660948],\n",
       "       [-1.16846629, -1.14491492, -1.14927624, -1.10050171, -1.10434468]])"
      ]
     },
     "execution_count": 12,
     "metadata": {},
     "output_type": "execute_result"
    }
   ],
   "source": [
    "trainX[0]"
   ]
  },
  {
   "cell_type": "code",
   "execution_count": 23,
   "metadata": {},
   "outputs": [
    {
     "data": {
      "text/plain": [
       "array([[-1.12621843],\n",
       "       [-1.14382171],\n",
       "       [-1.09453254],\n",
       "       [-1.01707813],\n",
       "       [-1.04172271],\n",
       "       [-0.99947485],\n",
       "       [-1.03116075],\n",
       "       [-1.05580533],\n",
       "       [-1.05228468],\n",
       "       [-1.15438367],\n",
       "       [-1.07692926],\n",
       "       [-1.11213581],\n",
       "       [-0.96074764],\n",
       "       [-0.97130961],\n",
       "       [-0.97130961],\n",
       "       [-0.98891289],\n",
       "       [-1.01355747],\n",
       "       [-0.9959542 ],\n",
       "       [-0.97130961],\n",
       "       [-0.98539223],\n",
       "       [-1.04876402],\n",
       "       [-1.09805319],\n",
       "       [-0.9959542 ],\n",
       "       [-1.16846629],\n",
       "       [-1.25648267],\n",
       "       [-1.29520987],\n",
       "       [-1.30929249],\n",
       "       [-1.28464791],\n",
       "       [-1.22831743],\n",
       "       [-1.24240005],\n",
       "       [-1.19311088],\n",
       "       [-1.03820206],\n",
       "       [-1.03820206],\n",
       "       [-1.1367804 ],\n",
       "       [-1.15438367],\n",
       "       [-1.10861516],\n",
       "       [-1.17198695],\n",
       "       [-1.17902826],\n",
       "       [-1.22831743],\n",
       "       [-1.25648267],\n",
       "       [-1.22127612],\n",
       "       [-1.11565647],\n",
       "       [-1.12621843],\n",
       "       [-1.16142498],\n",
       "       [-1.16494564],\n",
       "       [-1.16494564],\n",
       "       [-1.24944136],\n",
       "       [-1.27408594],\n",
       "       [-1.2071935 ],\n",
       "       [-1.19311088],\n",
       "       [-1.23183808],\n",
       "       [-1.27408594],\n",
       "       [-1.28464791],\n",
       "       [-1.33041642],\n",
       "       [-1.3480197 ],\n",
       "       [-1.28464791],\n",
       "       [-1.30929249],\n",
       "       [-1.05932599],\n",
       "       [-1.02059878],\n",
       "       [-1.12269778],\n",
       "       [-1.20367284],\n",
       "       [-1.2459207 ],\n",
       "       [-1.30929249],\n",
       "       [-1.32337511],\n",
       "       [-1.26352398],\n",
       "       [-1.27056529],\n",
       "       [-1.29520987],\n",
       "       [-1.24944136],\n",
       "       [-1.32689577],\n",
       "       [-1.2071935 ],\n",
       "       [-1.19311088],\n",
       "       [-1.26704463],\n",
       "       [-1.21775546],\n",
       "       [-0.96778895],\n",
       "       [-1.02059878],\n",
       "       [-1.0663673 ],\n",
       "       [-1.09101188],\n",
       "       [-1.09805319],\n",
       "       [-1.00651616],\n",
       "       [-0.85512799],\n",
       "       [-0.86921061],\n",
       "       [-0.8938552 ],\n",
       "       [-0.87625192],\n",
       "       [-0.66501262],\n",
       "       [-0.83048341],\n",
       "       [-0.85160734],\n",
       "       [-0.81288013],\n",
       "       [-0.76007031],\n",
       "       [-0.87273127],\n",
       "       [-0.81640079],\n",
       "       [-0.76359096],\n",
       "       [-0.74950834],\n",
       "       [-0.65797131],\n",
       "       [-0.63332673],\n",
       "       [-0.1650796 ],\n",
       "       [-0.35167432],\n",
       "       [-0.24957532],\n",
       "       [-0.37279825],\n",
       "       [-0.3375917 ],\n",
       "       [-0.07354257],\n",
       "       [-0.12987305],\n",
       "       [ 0.05320101],\n",
       "       [-0.07002192],\n",
       "       [-0.06298061],\n",
       "       [ 0.0144738 ],\n",
       "       [ 0.31372948],\n",
       "       [ 0.25035769],\n",
       "       [ 0.257399  ],\n",
       "       [ 0.20106852],\n",
       "       [ 0.17994459],\n",
       "       [ 0.09192822],\n",
       "       [ 0.20458918],\n",
       "       [ 0.29964686],\n",
       "       [ 0.37710127],\n",
       "       [ 0.35245669],\n",
       "       [ 0.41582848],\n",
       "       [ 0.44399372],\n",
       "       [ 0.51440682],\n",
       "       [ 0.51088617],\n",
       "       [ 0.3982252 ],\n",
       "       [ 0.461597  ],\n",
       "       [ 0.39470455],\n",
       "       [ 0.33837407],\n",
       "       [ 0.22923376],\n",
       "       [ 0.31372948],\n",
       "       [ 0.30316752],\n",
       "       [ 0.36301865],\n",
       "       [ 0.31020883],\n",
       "       [ 0.29612621],\n",
       "       [ 0.26796097],\n",
       "       [ 0.29260555],\n",
       "       [ 0.37710127],\n",
       "       [ 0.21515114],\n",
       "       [ 0.35597734],\n",
       "       [ 0.61298516],\n",
       "       [ 0.51792748],\n",
       "       [ 0.45455569],\n",
       "       [ 0.59538189],\n",
       "       [ 0.69043957],\n",
       "       [ 0.63058844],\n",
       "       [ 0.62706778],\n",
       "       [ 0.58481992],\n",
       "       [ 0.59186123],\n",
       "       [ 0.55665468],\n",
       "       [ 0.40526651],\n",
       "       [ 0.46511765],\n",
       "       [ 0.77845595],\n",
       "       [ 0.44399372],\n",
       "       [ 0.56017534],\n",
       "       [ 0.41582848],\n",
       "       [ 0.36653931],\n",
       "       [ 0.37358062],\n",
       "       [ 0.5003242 ],\n",
       "       [ 0.49680355],\n",
       "       [ 0.59538189],\n",
       "       [ 0.58129927],\n",
       "       [ 0.61298516],\n",
       "       [ 0.62354713],\n",
       "       [ 0.55313403],\n",
       "       [ 0.56017534],\n",
       "       [ 0.70452219],\n",
       "       [ 0.7115635 ],\n",
       "       [ 0.7115635 ],\n",
       "       [ 0.66931564],\n",
       "       [ 0.79253857],\n",
       "       [ 0.97913329],\n",
       "       [ 1.04954639],\n",
       "       [ 1.15516604],\n",
       "       [ 1.00729853],\n",
       "       [ 1.09179425],\n",
       "       [ 1.17276932],\n",
       "       [ 1.15164539],\n",
       "       [ 1.42977713],\n",
       "       [ 1.40161189],\n",
       "       [ 1.54595875],\n",
       "       [ 1.50723155],\n",
       "       [ 1.34880207],\n",
       "       [ 1.01081918],\n",
       "       [ 0.85238971],\n",
       "       [ 1.02842246],\n",
       "       [ 1.23614111],\n",
       "       [ 1.19037259],\n",
       "       [ 1.32767814],\n",
       "       [ 1.19037259],\n",
       "       [ 1.17628997],\n",
       "       [ 1.10587687],\n",
       "       [ 1.03546377],\n",
       "       [ 0.90872019],\n",
       "       [ 1.10235621],\n",
       "       [ 1.09179425],\n",
       "       [ 1.11291818],\n",
       "       [ 1.25374438],\n",
       "       [ 1.20093456],\n",
       "       [ 1.28543028],\n",
       "       [ 1.28190962],\n",
       "       [ 1.26078569],\n",
       "       [ 1.21149652],\n",
       "       [ 1.29599224],\n",
       "       [ 1.33471945],\n",
       "       [ 1.2995129 ],\n",
       "       [ 1.27134766],\n",
       "       [ 1.37696731],\n",
       "       [ 1.34176076],\n",
       "       [ 1.23262045],\n",
       "       [ 1.26430635],\n",
       "       [ 1.0953149 ],\n",
       "       [ 1.24318242],\n",
       "       [ 1.29599224],\n",
       "       [ 1.34176076],\n",
       "       [ 1.29599224],\n",
       "       [ 1.23614111],\n",
       "       [ 1.18333128],\n",
       "       [ 1.17628997],\n",
       "       [ 1.20445521],\n",
       "       [ 1.23966176],\n",
       "       [ 1.17628997],\n",
       "       [ 1.1974139 ],\n",
       "       [ 1.17628997],\n",
       "       [ 1.2290998 ],\n",
       "       [ 1.18685194],\n",
       "       [ 1.14812473],\n",
       "       [ 1.04954639],\n",
       "       [ 1.16220735],\n",
       "       [ 1.20093456],\n",
       "       [ 1.18333128],\n",
       "       [ 1.08475294],\n",
       "       [ 1.15164539],\n",
       "       [ 1.1586867 ],\n",
       "       [ 1.22205849],\n",
       "       [ 1.19037259],\n",
       "       [ 1.16220735],\n",
       "       [ 1.33119879],\n",
       "       [ 1.57412399],\n",
       "       [ 1.55300006],\n",
       "       [ 1.53539679],\n",
       "       [ 1.46850434],\n",
       "       [ 1.52835548],\n",
       "       [ 1.47202499]])"
      ]
     },
     "execution_count": 23,
     "metadata": {},
     "output_type": "execute_result"
    }
   ],
   "source": [
    "trainY"
   ]
  },
  {
   "cell_type": "code",
   "execution_count": 12,
   "metadata": {},
   "outputs": [
    {
     "name": "stdout",
     "output_type": "stream",
     "text": [
      "trainX shape == (238, 14, 5).\n",
      "trainY shape == (238, 1).\n"
     ]
    }
   ],
   "source": [
    "print('trainX shape == {}.'.format(trainX.shape))\n",
    "print('trainY shape == {}.'.format(trainY.shape))"
   ]
  },
  {
   "cell_type": "code",
   "execution_count": 15,
   "metadata": {},
   "outputs": [
    {
     "name": "stdout",
     "output_type": "stream",
     "text": [
      "Model: \"sequential_1\"\n",
      "_________________________________________________________________\n",
      "Layer (type)                 Output Shape              Param #   \n",
      "=================================================================\n",
      "lstm_1 (LSTM)                (None, 14, 64)            17920     \n",
      "_________________________________________________________________\n",
      "lstm_2 (LSTM)                (None, 32)                12416     \n",
      "_________________________________________________________________\n",
      "dropout_1 (Dropout)          (None, 32)                0         \n",
      "_________________________________________________________________\n",
      "dense_1 (Dense)              (None, 1)                 33        \n",
      "=================================================================\n",
      "Total params: 30,369\n",
      "Trainable params: 30,369\n",
      "Non-trainable params: 0\n",
      "_________________________________________________________________\n"
     ]
    }
   ],
   "source": [
    "model = Sequential()\n",
    "model.add(LSTM(64, activation = 'relu', input_shape =(trainX.shape[1],trainX.shape[2]), return_sequences = True))\n",
    "model.add(LSTM(32, activation = 'relu', return_sequences = False))\n",
    "model.add(Dropout(0.2))\n",
    "# Adding the output layer\n",
    "model.add(Dense(trainY.shape[1]))\n",
    "\n",
    "model.compile(optimizer = 'adam', loss = 'mse')\n",
    "model.summary()"
   ]
  },
  {
   "cell_type": "code",
   "execution_count": 17,
   "metadata": {},
   "outputs": [
    {
     "name": "stdout",
     "output_type": "stream",
     "text": [
      "Train on 214 samples, validate on 24 samples\n",
      "Epoch 1/10\n",
      "214/214 [==============================] - 1s 4ms/step - loss: 0.5380 - val_loss: 0.0219\n",
      "Epoch 2/10\n",
      "214/214 [==============================] - 0s 629us/step - loss: 0.1335 - val_loss: 0.0807\n",
      "Epoch 3/10\n",
      "214/214 [==============================] - 0s 610us/step - loss: 0.0731 - val_loss: 0.0387\n",
      "Epoch 4/10\n",
      "214/214 [==============================] - 0s 605us/step - loss: 0.0637 - val_loss: 0.0336\n",
      "Epoch 5/10\n",
      "214/214 [==============================] - 0s 605us/step - loss: 0.0506 - val_loss: 0.0206\n",
      "Epoch 6/10\n",
      "214/214 [==============================] - 0s 611us/step - loss: 0.0484 - val_loss: 0.0193\n",
      "Epoch 7/10\n",
      "214/214 [==============================] - 0s 606us/step - loss: 0.0652 - val_loss: 0.0186\n",
      "Epoch 8/10\n",
      "214/214 [==============================] - 0s 601us/step - loss: 0.0653 - val_loss: 0.0287\n",
      "Epoch 9/10\n",
      "214/214 [==============================] - 0s 620us/step - loss: 0.0461 - val_loss: 0.0175\n",
      "Epoch 10/10\n",
      "214/214 [==============================] - 0s 620us/step - loss: 0.0492 - val_loss: 0.0184\n"
     ]
    },
    {
     "data": {
      "text/plain": [
       "<matplotlib.legend.Legend at 0x26a54fd5f60>"
      ]
     },
     "execution_count": 17,
     "metadata": {},
     "output_type": "execute_result"
    },
    {
     "data": {
      "image/png": "[encoded data removed]",
      "text/plain": [
       "<Figure size 432x288 with 1 Axes>"
      ]
     },
     "metadata": {
      "needs_background": "light"
     },
     "output_type": "display_data"
    }
   ],
   "source": [
    "#fit model\n",
    "\n",
    "history = model.fit(trainX, trainY, epochs =10, batch_size = 16, validation_split= 0.1, verbose =1)\n",
    "\n",
    "plt.plot(history.history['loss'], label =\"Training Loss\")\n",
    "plt.plot(history.history['val_loss'], label =\"Validation Loss\")\n",
    "plt.legend()"
   ]
  },
  {
   "cell_type": "code",
   "execution_count": 19,
   "metadata": {},
   "outputs": [],
   "source": [
    "#Forecasting\n",
    "\n",
    "n_future = 90\n",
    "\n",
    "forecast_period_dates = pd.date_range(list(train_dates)[-1], periods=n_future, freq='1d').tolist()\n",
    "forecast = model.predict(trainX[-n_future:])\n",
    "#We have 5 variables for transform, the inverse expects same dimensions\n",
    "forecast_copies = np.repeat(forecast, df_for_training.shape[1], axis = -1)\n",
    "y_pred_future = scaler.inverse_transform(forecast_copies)[:,0]"
   ]
  },
  {
   "cell_type": "code",
   "execution_count": 20,
   "metadata": {},
   "outputs": [
    {
     "data": {
      "text/plain": [
       "array([11.597264 , 11.5803   , 11.547947 , 11.505119 , 11.464317 ,\n",
       "       11.435871 , 11.425233 , 11.43422  , 11.454991 , 11.482674 ,\n",
       "       11.513649 , 11.5423565, 11.576471 , 11.611326 , 11.666367 ,\n",
       "       11.710063 , 11.766536 , 11.849651 , 11.94337  , 12.068151 ,\n",
       "       12.195462 , 12.298745 , 12.413868 , 12.527388 , 12.653879 ,\n",
       "       12.805524 , 12.945134 , 13.1062355, 13.263879 , 13.36673  ,\n",
       "       13.36842  , 13.317987 , 13.292048 , 13.268555 , 13.272909 ,\n",
       "       13.294471 , 13.296857 , 13.290403 , 13.255621 , 13.194497 ,\n",
       "       13.130932 , 13.074391 , 13.028997 , 13.025524 , 13.058323 ,\n",
       "       13.097334 , 13.137704 , 13.175808 , 13.209306 , 13.236032 ,\n",
       "       13.280938 , 13.3279085, 13.369264 , 13.417466 , 13.465717 ,\n",
       "       13.493335 , 13.506689 , 13.494137 , 13.468364 , 13.457313 ,\n",
       "       13.453428 , 13.468829 , 13.473308 , 13.462636 , 13.438011 ,\n",
       "       13.409235 , 13.39809  , 13.376215 , 13.353948 , 13.336214 ,\n",
       "       13.324773 , 13.329194 , 13.322464 , 13.290964 , 13.250134 ,\n",
       "       13.223659 , 13.213871 , 13.203511 , 13.188541 , 13.175688 ,\n",
       "       13.1695175, 13.173411 , 13.177487 , 13.190924 , 13.261515 ,\n",
       "       13.349804 , 13.458619 , 13.565637 , 13.665696 , 13.743206 ],\n",
       "      dtype=float32)"
      ]
     },
     "execution_count": 20,
     "metadata": {},
     "output_type": "execute_result"
    }
   ],
   "source": [
    "y_pred_future"
   ]
  },
  {
   "cell_type": "code",
   "execution_count": null,
   "metadata": {},
   "outputs": [],
   "source": []
  }
 ],
 "metadata": {
  "kernelspec": {
   "display_name": "Python 3",
   "language": "python",
   "name": "python3"
  },
  "language_info": {
   "codemirror_mode": {
    "name": "ipython",
    "version": 3
   },
   "file_extension": ".py",
   "mimetype": "text/x-python",
   "name": "python",
   "nbconvert_exporter": "python",
   "pygments_lexer": "ipython3",
   "version": "3.7.3"
  }
 },
 "nbformat": 4,
 "nbformat_minor": 2
}
