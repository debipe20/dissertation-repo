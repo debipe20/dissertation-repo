{
 "cells": [
  {
   "cell_type": "code",
   "execution_count": 1,
   "metadata": {},
   "outputs": [],
   "source": [
    "import pandas as pd\n",
    "import numpy as np\n",
    "from sklearn.preprocessing import MinMaxScaler\n",
    "import matplotlib.pyplot as plt\n",
    "import tensorflow as tf"
   ]
  },
  {
   "cell_type": "code",
   "execution_count": 2,
   "metadata": {},
   "outputs": [],
   "source": [
    "def findUniqueVehicleIdInDataFrame(dataframe):\n",
    "    uniqueVehicleId = []\n",
    "    for idx, row in dataframe.loc[:].iterrows():\n",
    "        if row['VehicleId'] not in uniqueVehicleId:\n",
    "            uniqueVehicleId.append(row['VehicleId'])\n",
    "\n",
    "    return uniqueVehicleId"
   ]
  },
  {
   "cell_type": "code",
   "execution_count": 10,
   "metadata": {},
   "outputs": [
    {
     "name": "stdout",
     "output_type": "stream",
     "text": [
      "Number of rows and columns: (158606, 10)\n"
     ]
    }
   ],
   "source": [
    "dataframe = pd.read_csv('data.csv')\n",
    "print(\"Number of rows and columns:\", dataframe.shape)\n",
    "\n",
    "uniqueVehicleId = findUniqueVehicleIdInDataFrame(dataframe)"
   ]
  },
  {
   "cell_type": "code",
   "execution_count": 11,
   "metadata": {},
   "outputs": [],
   "source": [
    "frames = []\n",
    "for vehicleId in uniqueVehicleId:\n",
    "    temporaryDataframe = str(vehicleId)\n",
    "    temporaryDataframe = dataframe.loc[dataframe['VehicleId'] == vehicleId]\n",
    "    frames.append(temporaryDataframe)\n",
    "df = pd.concat(frames)"
   ]
  },
  {
   "cell_type": "code",
   "execution_count": 15,
   "metadata": {},
   "outputs": [
    {
     "data": {
      "text/html": [
       "<div>\n",
       "<style scoped>\n",
       "    .dataframe tbody tr th:only-of-type {\n",
       "        vertical-align: middle;\n",
       "    }\n",
       "\n",
       "    .dataframe tbody tr th {\n",
       "        vertical-align: top;\n",
       "    }\n",
       "\n",
       "    .dataframe thead th {\n",
       "        text-align: right;\n",
       "    }\n",
       "</style>\n",
       "<table border=\"1\" class=\"dataframe\">\n",
       "  <thead>\n",
       "    <tr style=\"text-align: right;\">\n",
       "      <th></th>\n",
       "      <th>TimeStamp</th>\n",
       "      <th>DistanceToStopBar</th>\n",
       "      <th>VehicleId</th>\n",
       "      <th>VehicleType</th>\n",
       "      <th>Speed</th>\n",
       "      <th>Heading</th>\n",
       "      <th>LocationOnMap</th>\n",
       "      <th>LaneId</th>\n",
       "      <th>ApproachId</th>\n",
       "      <th>SignalGroup</th>\n",
       "    </tr>\n",
       "  </thead>\n",
       "  <tbody>\n",
       "    <tr>\n",
       "      <th>0</th>\n",
       "      <td>1623199945</td>\n",
       "      <td>345</td>\n",
       "      <td>68</td>\n",
       "      <td>Car</td>\n",
       "      <td>11.18</td>\n",
       "      <td>90.14</td>\n",
       "      <td>inbound</td>\n",
       "      <td>14</td>\n",
       "      <td>5</td>\n",
       "      <td>2</td>\n",
       "    </tr>\n",
       "    <tr>\n",
       "      <th>1</th>\n",
       "      <td>1623199945</td>\n",
       "      <td>344</td>\n",
       "      <td>68</td>\n",
       "      <td>Car</td>\n",
       "      <td>11.20</td>\n",
       "      <td>90.14</td>\n",
       "      <td>inbound</td>\n",
       "      <td>14</td>\n",
       "      <td>5</td>\n",
       "      <td>2</td>\n",
       "    </tr>\n",
       "    <tr>\n",
       "      <th>2</th>\n",
       "      <td>1623199945</td>\n",
       "      <td>343</td>\n",
       "      <td>68</td>\n",
       "      <td>Car</td>\n",
       "      <td>11.21</td>\n",
       "      <td>90.14</td>\n",
       "      <td>inbound</td>\n",
       "      <td>14</td>\n",
       "      <td>5</td>\n",
       "      <td>2</td>\n",
       "    </tr>\n",
       "    <tr>\n",
       "      <th>3</th>\n",
       "      <td>1623199945</td>\n",
       "      <td>342</td>\n",
       "      <td>68</td>\n",
       "      <td>Car</td>\n",
       "      <td>11.23</td>\n",
       "      <td>90.14</td>\n",
       "      <td>inbound</td>\n",
       "      <td>14</td>\n",
       "      <td>5</td>\n",
       "      <td>2</td>\n",
       "    </tr>\n",
       "    <tr>\n",
       "      <th>4</th>\n",
       "      <td>1623199945</td>\n",
       "      <td>341</td>\n",
       "      <td>68</td>\n",
       "      <td>Car</td>\n",
       "      <td>11.24</td>\n",
       "      <td>90.14</td>\n",
       "      <td>inbound</td>\n",
       "      <td>14</td>\n",
       "      <td>5</td>\n",
       "      <td>2</td>\n",
       "    </tr>\n",
       "  </tbody>\n",
       "</table>\n",
       "</div>"
      ],
      "text/plain": [
       "    TimeStamp  DistanceToStopBar  VehicleId VehicleType  Speed  Heading  \\\n",
       "0  1623199945                345         68         Car  11.18    90.14   \n",
       "1  1623199945                344         68         Car  11.20    90.14   \n",
       "2  1623199945                343         68         Car  11.21    90.14   \n",
       "3  1623199945                342         68         Car  11.23    90.14   \n",
       "4  1623199945                341         68         Car  11.24    90.14   \n",
       "\n",
       "  LocationOnMap  LaneId  ApproachId  SignalGroup  \n",
       "0       inbound      14           5            2  \n",
       "1       inbound      14           5            2  \n",
       "2       inbound      14           5            2  \n",
       "3       inbound      14           5            2  \n",
       "4       inbound      14           5            2  "
      ]
     },
     "execution_count": 15,
     "metadata": {},
     "output_type": "execute_result"
    }
   ],
   "source": [
    "df.head(5)"
   ]
  },
  {
   "cell_type": "code",
   "execution_count": 16,
   "metadata": {},
   "outputs": [
    {
     "data": {
      "text/html": [
       "<div>\n",
       "<style scoped>\n",
       "    .dataframe tbody tr th:only-of-type {\n",
       "        vertical-align: middle;\n",
       "    }\n",
       "\n",
       "    .dataframe tbody tr th {\n",
       "        vertical-align: top;\n",
       "    }\n",
       "\n",
       "    .dataframe thead th {\n",
       "        text-align: right;\n",
       "    }\n",
       "</style>\n",
       "<table border=\"1\" class=\"dataframe\">\n",
       "  <thead>\n",
       "    <tr style=\"text-align: right;\">\n",
       "      <th></th>\n",
       "      <th>TimeStamp</th>\n",
       "      <th>DistanceToStopBar</th>\n",
       "      <th>VehicleId</th>\n",
       "      <th>VehicleType</th>\n",
       "      <th>Speed</th>\n",
       "      <th>Heading</th>\n",
       "      <th>LocationOnMap</th>\n",
       "      <th>LaneId</th>\n",
       "      <th>ApproachId</th>\n",
       "      <th>SignalGroup</th>\n",
       "    </tr>\n",
       "  </thead>\n",
       "  <tbody>\n",
       "    <tr>\n",
       "      <th>0</th>\n",
       "      <td>1623199945</td>\n",
       "      <td>345</td>\n",
       "      <td>68</td>\n",
       "      <td>4</td>\n",
       "      <td>11.18</td>\n",
       "      <td>90.14</td>\n",
       "      <td>inbound</td>\n",
       "      <td>14</td>\n",
       "      <td>5</td>\n",
       "      <td>2</td>\n",
       "    </tr>\n",
       "    <tr>\n",
       "      <th>1</th>\n",
       "      <td>1623199945</td>\n",
       "      <td>344</td>\n",
       "      <td>68</td>\n",
       "      <td>4</td>\n",
       "      <td>11.20</td>\n",
       "      <td>90.14</td>\n",
       "      <td>inbound</td>\n",
       "      <td>14</td>\n",
       "      <td>5</td>\n",
       "      <td>2</td>\n",
       "    </tr>\n",
       "    <tr>\n",
       "      <th>2</th>\n",
       "      <td>1623199945</td>\n",
       "      <td>343</td>\n",
       "      <td>68</td>\n",
       "      <td>4</td>\n",
       "      <td>11.21</td>\n",
       "      <td>90.14</td>\n",
       "      <td>inbound</td>\n",
       "      <td>14</td>\n",
       "      <td>5</td>\n",
       "      <td>2</td>\n",
       "    </tr>\n",
       "    <tr>\n",
       "      <th>3</th>\n",
       "      <td>1623199945</td>\n",
       "      <td>342</td>\n",
       "      <td>68</td>\n",
       "      <td>4</td>\n",
       "      <td>11.23</td>\n",
       "      <td>90.14</td>\n",
       "      <td>inbound</td>\n",
       "      <td>14</td>\n",
       "      <td>5</td>\n",
       "      <td>2</td>\n",
       "    </tr>\n",
       "    <tr>\n",
       "      <th>4</th>\n",
       "      <td>1623199945</td>\n",
       "      <td>341</td>\n",
       "      <td>68</td>\n",
       "      <td>4</td>\n",
       "      <td>11.24</td>\n",
       "      <td>90.14</td>\n",
       "      <td>inbound</td>\n",
       "      <td>14</td>\n",
       "      <td>5</td>\n",
       "      <td>2</td>\n",
       "    </tr>\n",
       "  </tbody>\n",
       "</table>\n",
       "</div>"
      ],
      "text/plain": [
       "    TimeStamp  DistanceToStopBar  VehicleId  VehicleType  Speed  Heading  \\\n",
       "0  1623199945                345         68            4  11.18    90.14   \n",
       "1  1623199945                344         68            4  11.20    90.14   \n",
       "2  1623199945                343         68            4  11.21    90.14   \n",
       "3  1623199945                342         68            4  11.23    90.14   \n",
       "4  1623199945                341         68            4  11.24    90.14   \n",
       "\n",
       "  LocationOnMap  LaneId  ApproachId  SignalGroup  \n",
       "0       inbound      14           5            2  \n",
       "1       inbound      14           5            2  \n",
       "2       inbound      14           5            2  \n",
       "3       inbound      14           5            2  \n",
       "4       inbound      14           5            2  "
      ]
     },
     "execution_count": 16,
     "metadata": {},
     "output_type": "execute_result"
    }
   ],
   "source": [
    "df['VehicleType'] = df['VehicleType'].replace(['Transit'],6)\n",
    "df['VehicleType'] = df['VehicleType'].replace(['Truck'],9)\n",
    "df['VehicleType'] = df['VehicleType'].replace(['EmergencyVehicle'],2)\n",
    "df['VehicleType'] = df['VehicleType'].replace(['Car'],4)\n",
    "df.head(5)"
   ]
  },
  {
   "cell_type": "code",
   "execution_count": 17,
   "metadata": {},
   "outputs": [
    {
     "data": {
      "text/html": [
       "<div>\n",
       "<style scoped>\n",
       "    .dataframe tbody tr th:only-of-type {\n",
       "        vertical-align: middle;\n",
       "    }\n",
       "\n",
       "    .dataframe tbody tr th {\n",
       "        vertical-align: top;\n",
       "    }\n",
       "\n",
       "    .dataframe thead th {\n",
       "        text-align: right;\n",
       "    }\n",
       "</style>\n",
       "<table border=\"1\" class=\"dataframe\">\n",
       "  <thead>\n",
       "    <tr style=\"text-align: right;\">\n",
       "      <th></th>\n",
       "      <th>TimeStamp</th>\n",
       "      <th>DistanceToStopBar</th>\n",
       "      <th>VehicleId</th>\n",
       "      <th>VehicleType</th>\n",
       "      <th>Speed</th>\n",
       "      <th>Heading</th>\n",
       "      <th>LocationOnMap</th>\n",
       "      <th>LaneId</th>\n",
       "      <th>ApproachId</th>\n",
       "      <th>SignalGroup</th>\n",
       "    </tr>\n",
       "  </thead>\n",
       "  <tbody>\n",
       "    <tr>\n",
       "      <th>0</th>\n",
       "      <td>1623199945</td>\n",
       "      <td>345</td>\n",
       "      <td>68</td>\n",
       "      <td>4</td>\n",
       "      <td>11.18</td>\n",
       "      <td>90.14</td>\n",
       "      <td>2</td>\n",
       "      <td>14</td>\n",
       "      <td>5</td>\n",
       "      <td>2</td>\n",
       "    </tr>\n",
       "    <tr>\n",
       "      <th>1</th>\n",
       "      <td>1623199945</td>\n",
       "      <td>344</td>\n",
       "      <td>68</td>\n",
       "      <td>4</td>\n",
       "      <td>11.20</td>\n",
       "      <td>90.14</td>\n",
       "      <td>2</td>\n",
       "      <td>14</td>\n",
       "      <td>5</td>\n",
       "      <td>2</td>\n",
       "    </tr>\n",
       "    <tr>\n",
       "      <th>2</th>\n",
       "      <td>1623199945</td>\n",
       "      <td>343</td>\n",
       "      <td>68</td>\n",
       "      <td>4</td>\n",
       "      <td>11.21</td>\n",
       "      <td>90.14</td>\n",
       "      <td>2</td>\n",
       "      <td>14</td>\n",
       "      <td>5</td>\n",
       "      <td>2</td>\n",
       "    </tr>\n",
       "    <tr>\n",
       "      <th>3</th>\n",
       "      <td>1623199945</td>\n",
       "      <td>342</td>\n",
       "      <td>68</td>\n",
       "      <td>4</td>\n",
       "      <td>11.23</td>\n",
       "      <td>90.14</td>\n",
       "      <td>2</td>\n",
       "      <td>14</td>\n",
       "      <td>5</td>\n",
       "      <td>2</td>\n",
       "    </tr>\n",
       "    <tr>\n",
       "      <th>4</th>\n",
       "      <td>1623199945</td>\n",
       "      <td>341</td>\n",
       "      <td>68</td>\n",
       "      <td>4</td>\n",
       "      <td>11.24</td>\n",
       "      <td>90.14</td>\n",
       "      <td>2</td>\n",
       "      <td>14</td>\n",
       "      <td>5</td>\n",
       "      <td>2</td>\n",
       "    </tr>\n",
       "  </tbody>\n",
       "</table>\n",
       "</div>"
      ],
      "text/plain": [
       "    TimeStamp  DistanceToStopBar  VehicleId  VehicleType  Speed  Heading  \\\n",
       "0  1623199945                345         68            4  11.18    90.14   \n",
       "1  1623199945                344         68            4  11.20    90.14   \n",
       "2  1623199945                343         68            4  11.21    90.14   \n",
       "3  1623199945                342         68            4  11.23    90.14   \n",
       "4  1623199945                341         68            4  11.24    90.14   \n",
       "\n",
       "   LocationOnMap  LaneId  ApproachId  SignalGroup  \n",
       "0              2      14           5            2  \n",
       "1              2      14           5            2  \n",
       "2              2      14           5            2  \n",
       "3              2      14           5            2  \n",
       "4              2      14           5            2  "
      ]
     },
     "execution_count": 17,
     "metadata": {},
     "output_type": "execute_result"
    }
   ],
   "source": [
    "df['LocationOnMap'] = df['LocationOnMap'].replace(['inbound'],2)\n",
    "df['LocationOnMap'] = df['LocationOnMap'].replace(['outbound'],4)\n",
    "df['LocationOnMap'] = df['LocationOnMap'].replace(['outBound'],4)\n",
    "df['LocationOnMap'] = df['LocationOnMap'].replace(['insideIntersectionBox'],1)\n",
    "\n",
    "df.head(5)"
   ]
  },
  {
   "cell_type": "code",
   "execution_count": 18,
   "metadata": {},
   "outputs": [
    {
     "name": "stdout",
     "output_type": "stream",
     "text": [
      "126884\n"
     ]
    }
   ],
   "source": [
    "tranining_setsize = int(df.shape[0]*0.8)\n",
    "print(tranining_setsize)"
   ]
  },
  {
   "cell_type": "code",
   "execution_count": 27,
   "metadata": {},
   "outputs": [],
   "source": [
    "df_for_training = df.iloc[:tranining_setsize, 1:dataframe.shape[1]]\n",
    "df_for_testing = df.iloc[tranining_setsize:, 1:dataframe.shape[1]]"
   ]
  },
  {
   "cell_type": "code",
   "execution_count": 25,
   "metadata": {},
   "outputs": [
    {
     "data": {
      "text/html": [
       "<div>\n",
       "<style scoped>\n",
       "    .dataframe tbody tr th:only-of-type {\n",
       "        vertical-align: middle;\n",
       "    }\n",
       "\n",
       "    .dataframe tbody tr th {\n",
       "        vertical-align: top;\n",
       "    }\n",
       "\n",
       "    .dataframe thead th {\n",
       "        text-align: right;\n",
       "    }\n",
       "</style>\n",
       "<table border=\"1\" class=\"dataframe\">\n",
       "  <thead>\n",
       "    <tr style=\"text-align: right;\">\n",
       "      <th></th>\n",
       "      <th>DistanceToStopBar</th>\n",
       "      <th>VehicleId</th>\n",
       "      <th>VehicleType</th>\n",
       "      <th>Speed</th>\n",
       "      <th>Heading</th>\n",
       "      <th>LocationOnMap</th>\n",
       "      <th>LaneId</th>\n",
       "      <th>ApproachId</th>\n",
       "      <th>SignalGroup</th>\n",
       "    </tr>\n",
       "  </thead>\n",
       "  <tbody>\n",
       "    <tr>\n",
       "      <th>0</th>\n",
       "      <td>345</td>\n",
       "      <td>68</td>\n",
       "      <td>4</td>\n",
       "      <td>11.18</td>\n",
       "      <td>90.14</td>\n",
       "      <td>2</td>\n",
       "      <td>14</td>\n",
       "      <td>5</td>\n",
       "      <td>2</td>\n",
       "    </tr>\n",
       "    <tr>\n",
       "      <th>1</th>\n",
       "      <td>344</td>\n",
       "      <td>68</td>\n",
       "      <td>4</td>\n",
       "      <td>11.20</td>\n",
       "      <td>90.14</td>\n",
       "      <td>2</td>\n",
       "      <td>14</td>\n",
       "      <td>5</td>\n",
       "      <td>2</td>\n",
       "    </tr>\n",
       "    <tr>\n",
       "      <th>2</th>\n",
       "      <td>343</td>\n",
       "      <td>68</td>\n",
       "      <td>4</td>\n",
       "      <td>11.21</td>\n",
       "      <td>90.14</td>\n",
       "      <td>2</td>\n",
       "      <td>14</td>\n",
       "      <td>5</td>\n",
       "      <td>2</td>\n",
       "    </tr>\n",
       "    <tr>\n",
       "      <th>3</th>\n",
       "      <td>342</td>\n",
       "      <td>68</td>\n",
       "      <td>4</td>\n",
       "      <td>11.23</td>\n",
       "      <td>90.14</td>\n",
       "      <td>2</td>\n",
       "      <td>14</td>\n",
       "      <td>5</td>\n",
       "      <td>2</td>\n",
       "    </tr>\n",
       "    <tr>\n",
       "      <th>4</th>\n",
       "      <td>341</td>\n",
       "      <td>68</td>\n",
       "      <td>4</td>\n",
       "      <td>11.24</td>\n",
       "      <td>90.14</td>\n",
       "      <td>2</td>\n",
       "      <td>14</td>\n",
       "      <td>5</td>\n",
       "      <td>2</td>\n",
       "    </tr>\n",
       "  </tbody>\n",
       "</table>\n",
       "</div>"
      ],
      "text/plain": [
       "   DistanceToStopBar  VehicleId  VehicleType  Speed  Heading  LocationOnMap  \\\n",
       "0                345         68            4  11.18    90.14              2   \n",
       "1                344         68            4  11.20    90.14              2   \n",
       "2                343         68            4  11.21    90.14              2   \n",
       "3                342         68            4  11.23    90.14              2   \n",
       "4                341         68            4  11.24    90.14              2   \n",
       "\n",
       "   LaneId  ApproachId  SignalGroup  \n",
       "0      14           5            2  \n",
       "1      14           5            2  \n",
       "2      14           5            2  \n",
       "3      14           5            2  \n",
       "4      14           5            2  "
      ]
     },
     "execution_count": 25,
     "metadata": {},
     "output_type": "execute_result"
    }
   ],
   "source": [
    "df_for_training.head()"
   ]
  },
  {
   "cell_type": "code",
   "execution_count": 72,
   "metadata": {},
   "outputs": [],
   "source": [
    "trainX = []\n",
    "trainY = []"
   ]
  },
  {
   "cell_type": "code",
   "execution_count": 73,
   "metadata": {},
   "outputs": [],
   "source": [
    "# def split_series(datframe, n_past, n_future):\n",
    "#   #\n",
    "#   # n_past ==> no of past observations\n",
    "#   #\n",
    "#   # n_future ==> no of future observations \n",
    "#   #\n",
    "#     X, y = list(), list()\n",
    "#     for vehicleId in uniqueVehicleId:\n",
    "#         temporaryDataframe = str(vehicleId)\n",
    "#         temporaryDataframe = datframe.loc[datframe['VehicleId'] == vehicleId]\n",
    "        \n",
    "#         sc = MinMaxScaler(feature_range = (0, 1))\n",
    "#         temporaryDataframe_scaled = sc.fit_transform(temporaryDataframe)\n",
    "\n",
    "#         for window_start in range(len(temporaryDataframe_scaled)):\n",
    "#             past_end = window_start + n_past\n",
    "#             future_end = past_end + n_future\n",
    "#             if future_end > len(temporaryDataframe_scaled):\n",
    "#                 break\n",
    "#         # slicing the past and future parts of the window\n",
    "#             past, future = temporaryDataframe_scaled[window_start:past_end, :], temporaryDataframe_scaled[past_end:future_end, :]\n",
    "#             X.append(past)\n",
    "#             y.append(future)\n",
    "#     return np.array(X), np.array(y)"
   ]
  },
  {
   "cell_type": "code",
   "execution_count": 74,
   "metadata": {},
   "outputs": [],
   "source": [
    "n_past = 50\n",
    "n_future = 1 \n",
    "n_features = 9\n"
   ]
  },
  {
   "cell_type": "code",
   "execution_count": 75,
   "metadata": {},
   "outputs": [],
   "source": [
    "uniqueVehicleId = findUniqueVehicleIdInDataFrame(df_for_training)"
   ]
  },
  {
   "cell_type": "code",
   "execution_count": 76,
   "metadata": {},
   "outputs": [],
   "source": [
    "for vehicleId in uniqueVehicleId:\n",
    "    #x = len(df[df['VehicleId'] ==  vehicleId])\n",
    "\n",
    "    temporaryDataframe = str(vehicleId)\n",
    "    temporaryDataframe = df_for_training.loc[df_for_training['VehicleId'] == vehicleId]\n",
    "    \n",
    "    sc = MinMaxScaler(feature_range = (0, 1))\n",
    "    temporaryDataframe_scaled = sc.fit_transform(temporaryDataframe)\n",
    "\n",
    "    for i in range (n_past, len(temporaryDataframe_scaled) - n_future + 1):\n",
    "        trainX.append(temporaryDataframe_scaled[i - n_past:i, 0:temporaryDataframe_scaled.shape[1]])\n",
    "        trainY.append(temporaryDataframe_scaled[i + n_future -1:i +n_future, 0])"
   ]
  },
  {
   "cell_type": "code",
   "execution_count": 77,
   "metadata": {},
   "outputs": [],
   "source": [
    "trainX, trainY = np.array(trainX), np.array(trainY)"
   ]
  },
  {
   "cell_type": "code",
   "execution_count": 78,
   "metadata": {},
   "outputs": [
    {
     "name": "stdout",
     "output_type": "stream",
     "text": [
      "trainX shape == (115384, 50, 9).\n",
      "trainY shape == (115384, 1).\n"
     ]
    }
   ],
   "source": [
    "print('trainX shape == {}.'.format(trainX.shape))\n",
    "print('trainY shape == {}.'.format(trainY.shape))"
   ]
  },
  {
   "cell_type": "code",
   "execution_count": 60,
   "metadata": {},
   "outputs": [],
   "source": [
    "trainX = trainX.reshape((trainX.shape[0], trainX.shape[1],n_features))"
   ]
  },
  {
   "cell_type": "code",
   "execution_count": 61,
   "metadata": {},
   "outputs": [
    {
     "ename": "ValueError",
     "evalue": "cannot reshape array of size 1121256 into shape (124584,1,0)",
     "output_type": "error",
     "traceback": [
      "\u001b[1;31m---------------------------------------------------------------------------\u001b[0m",
      "\u001b[1;31mValueError\u001b[0m                                Traceback (most recent call last)",
      "\u001b[1;32m<ipython-input-61-4fd9d33046cd>\u001b[0m in \u001b[0;36m<module>\u001b[1;34m\u001b[0m\n\u001b[0;32m      1\u001b[0m \u001b[1;31m# trainY = trainY.reshape((trainY.shape[0], trainY.shape[1],n_features))\u001b[0m\u001b[1;33m\u001b[0m\u001b[1;33m\u001b[0m\u001b[1;33m\u001b[0m\u001b[0m\n\u001b[1;32m----> 2\u001b[1;33m \u001b[0mtrainY\u001b[0m \u001b[1;33m=\u001b[0m \u001b[0mtrainY\u001b[0m\u001b[1;33m.\u001b[0m\u001b[0mreshape\u001b[0m\u001b[1;33m(\u001b[0m\u001b[1;33m(\u001b[0m\u001b[0mtrainY\u001b[0m\u001b[1;33m.\u001b[0m\u001b[0mshape\u001b[0m\u001b[1;33m[\u001b[0m\u001b[1;36m0\u001b[0m\u001b[1;33m]\u001b[0m\u001b[1;33m,\u001b[0m \u001b[0mtrainY\u001b[0m\u001b[1;33m.\u001b[0m\u001b[0mshape\u001b[0m\u001b[1;33m[\u001b[0m\u001b[1;36m1\u001b[0m\u001b[1;33m]\u001b[0m\u001b[1;33m,\u001b[0m\u001b[1;36m0\u001b[0m\u001b[1;33m)\u001b[0m\u001b[1;33m)\u001b[0m\u001b[1;33m\u001b[0m\u001b[1;33m\u001b[0m\u001b[0m\n\u001b[0m",
      "\u001b[1;31mValueError\u001b[0m: cannot reshape array of size 1121256 into shape (124584,1,0)"
     ]
    }
   ],
   "source": [
    "# trainY = trainY.reshape((trainY.shape[0], trainY.shape[1],n_features))\n",
    "trainY = trainY.reshape((trainY.shape[0], trainY.shape[1],0))"
   ]
  },
  {
   "cell_type": "code",
   "execution_count": 62,
   "metadata": {},
   "outputs": [
    {
     "data": {
      "text/plain": [
       "array([[[0.96811594, 0.        , 0.        , ..., 0.93333333,\n",
       "         1.        , 0.4       ]],\n",
       "\n",
       "       [[0.96521739, 0.        , 0.        , ..., 0.93333333,\n",
       "         1.        , 0.4       ]],\n",
       "\n",
       "       [[0.96231884, 0.        , 0.        , ..., 0.93333333,\n",
       "         1.        , 0.4       ]],\n",
       "\n",
       "       ...,\n",
       "\n",
       "       [[0.        , 0.        , 0.        , ..., 0.        ,\n",
       "         0.        , 0.        ]],\n",
       "\n",
       "       [[0.        , 0.        , 0.        , ..., 0.        ,\n",
       "         0.        , 0.        ]],\n",
       "\n",
       "       [[0.        , 0.        , 0.        , ..., 0.        ,\n",
       "         0.        , 0.        ]]])"
      ]
     },
     "execution_count": 62,
     "metadata": {},
     "output_type": "execute_result"
    }
   ],
   "source": [
    "trainY"
   ]
  },
  {
   "cell_type": "code",
   "execution_count": 9,
   "metadata": {},
   "outputs": [
    {
     "ename": "NameError",
     "evalue": "name 'train' is not defined",
     "output_type": "error",
     "traceback": [
      "\u001b[1;31m---------------------------------------------------------------------------\u001b[0m",
      "\u001b[1;31mNameError\u001b[0m                                 Traceback (most recent call last)",
      "\u001b[1;32m<ipython-input-9-ac69e15f4246>\u001b[0m in \u001b[0;36m<module>\u001b[1;34m\u001b[0m\n\u001b[1;32m----> 1\u001b[1;33m \u001b[0mX_train\u001b[0m\u001b[1;33m,\u001b[0m \u001b[0my_train\u001b[0m \u001b[1;33m=\u001b[0m \u001b[0msplit_series\u001b[0m\u001b[1;33m(\u001b[0m\u001b[0mtrain\u001b[0m\u001b[1;33m.\u001b[0m\u001b[0mvalues\u001b[0m\u001b[1;33m,\u001b[0m\u001b[0mn_past\u001b[0m\u001b[1;33m,\u001b[0m \u001b[0mn_future\u001b[0m\u001b[1;33m)\u001b[0m\u001b[1;33m\u001b[0m\u001b[1;33m\u001b[0m\u001b[0m\n\u001b[0m\u001b[0;32m      2\u001b[0m \u001b[0mX_train\u001b[0m \u001b[1;33m=\u001b[0m \u001b[0mX_train\u001b[0m\u001b[1;33m.\u001b[0m\u001b[0mreshape\u001b[0m\u001b[1;33m(\u001b[0m\u001b[1;33m(\u001b[0m\u001b[0mX_train\u001b[0m\u001b[1;33m.\u001b[0m\u001b[0mshape\u001b[0m\u001b[1;33m[\u001b[0m\u001b[1;36m0\u001b[0m\u001b[1;33m]\u001b[0m\u001b[1;33m,\u001b[0m \u001b[0mX_train\u001b[0m\u001b[1;33m.\u001b[0m\u001b[0mshape\u001b[0m\u001b[1;33m[\u001b[0m\u001b[1;36m1\u001b[0m\u001b[1;33m]\u001b[0m\u001b[1;33m,\u001b[0m\u001b[0mn_features\u001b[0m\u001b[1;33m)\u001b[0m\u001b[1;33m)\u001b[0m\u001b[1;33m\u001b[0m\u001b[1;33m\u001b[0m\u001b[0m\n\u001b[0;32m      3\u001b[0m \u001b[0my_train\u001b[0m \u001b[1;33m=\u001b[0m \u001b[0my_train\u001b[0m\u001b[1;33m.\u001b[0m\u001b[0mreshape\u001b[0m\u001b[1;33m(\u001b[0m\u001b[1;33m(\u001b[0m\u001b[0my_train\u001b[0m\u001b[1;33m.\u001b[0m\u001b[0mshape\u001b[0m\u001b[1;33m[\u001b[0m\u001b[1;36m0\u001b[0m\u001b[1;33m]\u001b[0m\u001b[1;33m,\u001b[0m \u001b[0my_train\u001b[0m\u001b[1;33m.\u001b[0m\u001b[0mshape\u001b[0m\u001b[1;33m[\u001b[0m\u001b[1;36m1\u001b[0m\u001b[1;33m]\u001b[0m\u001b[1;33m,\u001b[0m \u001b[0mn_features\u001b[0m\u001b[1;33m)\u001b[0m\u001b[1;33m)\u001b[0m\u001b[1;33m\u001b[0m\u001b[1;33m\u001b[0m\u001b[0m\n\u001b[0;32m      4\u001b[0m \u001b[0mX_test\u001b[0m\u001b[1;33m,\u001b[0m \u001b[0my_test\u001b[0m \u001b[1;33m=\u001b[0m \u001b[0msplit_series\u001b[0m\u001b[1;33m(\u001b[0m\u001b[0mtest\u001b[0m\u001b[1;33m.\u001b[0m\u001b[0mvalues\u001b[0m\u001b[1;33m,\u001b[0m\u001b[0mn_past\u001b[0m\u001b[1;33m,\u001b[0m \u001b[0mn_future\u001b[0m\u001b[1;33m)\u001b[0m\u001b[1;33m\u001b[0m\u001b[1;33m\u001b[0m\u001b[0m\n\u001b[0;32m      5\u001b[0m \u001b[0mX_test\u001b[0m \u001b[1;33m=\u001b[0m \u001b[0mX_test\u001b[0m\u001b[1;33m.\u001b[0m\u001b[0mreshape\u001b[0m\u001b[1;33m(\u001b[0m\u001b[1;33m(\u001b[0m\u001b[0mX_test\u001b[0m\u001b[1;33m.\u001b[0m\u001b[0mshape\u001b[0m\u001b[1;33m[\u001b[0m\u001b[1;36m0\u001b[0m\u001b[1;33m]\u001b[0m\u001b[1;33m,\u001b[0m \u001b[0mX_test\u001b[0m\u001b[1;33m.\u001b[0m\u001b[0mshape\u001b[0m\u001b[1;33m[\u001b[0m\u001b[1;36m1\u001b[0m\u001b[1;33m]\u001b[0m\u001b[1;33m,\u001b[0m\u001b[0mn_features\u001b[0m\u001b[1;33m)\u001b[0m\u001b[1;33m)\u001b[0m\u001b[1;33m\u001b[0m\u001b[1;33m\u001b[0m\u001b[0m\n",
      "\u001b[1;31mNameError\u001b[0m: name 'train' is not defined"
     ]
    }
   ],
   "source": [
    "# X_train, y_train = split_series(train.values,n_past, n_future)\n",
    "# X_train = X_train.reshape((X_train.shape[0], X_train.shape[1],n_features))\n",
    "# y_train = y_train.reshape((y_train.shape[0], y_train.shape[1], n_features))\n",
    "# X_test, y_test = split_series(test.values,n_past, n_future)\n",
    "# X_test = X_test.reshape((X_test.shape[0], X_test.shape[1],n_features))\n",
    "# y_test = y_test.reshape((y_test.shape[0], y_test.shape[1], n_features))"
   ]
  },
  {
   "cell_type": "code",
   "execution_count": null,
   "metadata": {},
   "outputs": [],
   "source": []
  }
 ],
 "metadata": {
  "kernelspec": {
   "display_name": "Python 3",
   "language": "python",
   "name": "python3"
  },
  "language_info": {
   "codemirror_mode": {
    "name": "ipython",
    "version": 3
   },
   "file_extension": ".py",
   "mimetype": "text/x-python",
   "name": "python",
   "nbconvert_exporter": "python",
   "pygments_lexer": "ipython3",
   "version": "3.7.3"
  }
 },
 "nbformat": 4,
 "nbformat_minor": 2
}
