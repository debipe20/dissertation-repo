{
 "cells": [
  {
   "cell_type": "code",
   "execution_count": 1,
   "metadata": {},
   "outputs": [],
   "source": [
    "import pandas as pd\n",
    "import numpy as np\n",
    "import csv\n",
    "import math\n",
    "from sklearn.metrics import mean_squared_error\n",
    "from keras.models import Sequential\n",
    "from keras.layers import TimeDistributed, Dense, Conv2D, Flatten \n",
    "from keras.layers import MaxPooling2D, Dropout, LSTM\n",
    "from sklearn.preprocessing import StandardScaler"
   ]
  },
  {
   "cell_type": "code",
   "execution_count": 2,
   "metadata": {},
   "outputs": [],
   "source": [
    "def processDataFrame(fileName):\n",
    "    df = pd.read_csv(fileName)\n",
    "    \n",
    "    noOfCells = df['NoOfCells'][0]\n",
    "\n",
    "    columnName = list(df)[2:15]\n",
    "    print(columnName)\n",
    "    \n",
    "    df = df[columnName].astype(float)\n",
    "    print(df.head(5))\n",
    "        \n",
    "    return df, noOfCells"
   ]
  },
  {
   "cell_type": "code",
   "execution_count": 3,
   "metadata": {},
   "outputs": [],
   "source": [
    "def getTrainingSetSize(df, noOfcells):\n",
    "    trainingDataPointSize = int(df.shape[0]*0.8/noOfcells)\n",
    "    training_setsize = trainingDataPointSize*noOfcells\n",
    "    return training_setsize"
   ]
  },
  {
   "cell_type": "code",
   "execution_count": 4,
   "metadata": {},
   "outputs": [],
   "source": [
    "def getProcessedDataSet(df, noOfCells):\n",
    "    input_X = []\n",
    "    input_Y = []\n",
    "    dataPoint_X = []\n",
    "    dataPoint_Y = []\n",
    "    scaler = StandardScaler()\n",
    "\n",
    "\n",
    "    for index, rows in df.iterrows():\n",
    "        if index == 0:\n",
    "            X_row_list = [rows.PhaseStatus, rows.PhaseElapsedTime, rows.Speed, rows.DistanceToStopBar,rows.FrontCellStatus, rows.FrontCellVehicleSpeed]\n",
    "            dataPoint_X.append(X_row_list)\n",
    "            dataPoint_Y.append(rows.CellStatus)\n",
    "        \n",
    "        elif index % noOfCells != 0:\n",
    "            X_row_list = [rows.PhaseStatus, rows.PhaseElapsedTime, rows.Speed, rows.DistanceToStopBar,rows.FrontCellStatus, rows.FrontCellVehicleSpeed]\n",
    "            \n",
    "            dataPoint_X.append(X_row_list)\n",
    "            dataPoint_Y.append(rows.CellStatus)\n",
    "\n",
    "        elif index % noOfCells == 0 and len(dataPoint_X) > 0:\n",
    "            scaler = scaler.fit(dataPoint_X)\n",
    "            dataPoint_X = scaler.transform(dataPoint_X)\n",
    "            input_X.append(dataPoint_X)\n",
    "            input_Y.append(dataPoint_Y)\n",
    "            \n",
    "            dataPoint_X = []\n",
    "            dataPoint_Y = []\n",
    "            X_row_list = [rows.PhaseStatus, rows.PhaseElapsedTime, rows.Speed, rows.DistanceToStopBar,rows.FrontCellStatus, rows.FrontCellVehicleSpeed]\n",
    "            \n",
    "            dataPoint_X.append(X_row_list)\n",
    "            dataPoint_Y.append(rows.CellStatus)\n",
    "        \n",
    "        if index == len(df) - 1:\n",
    "            scaler = scaler.fit(dataPoint_X)\n",
    "            dataPoint_X = scaler.transform(dataPoint_X)\n",
    "            input_X.append(dataPoint_X)\n",
    "            input_Y.append(dataPoint_Y)  \n",
    "\n",
    "    input_X = np.array(input_X)\n",
    "    input_Y = np.array(input_Y)\n",
    "    \n",
    "    return input_X, input_Y"
   ]
  },
  {
   "cell_type": "code",
   "execution_count": 5,
   "metadata": {},
   "outputs": [],
   "source": [
    "def createTimeSeriesData(inputX, inputY, n_future, n_past):\n",
    "    timeSeriesDataX = []\n",
    "    timeSeriesDataY=[]\n",
    "    \n",
    "    for i in range (n_past, inputX.shape[0] - n_future + 1):\n",
    "        timeSeriesDataX.append(inputX[i-n_past:i,])\n",
    "        \n",
    "    timeSeriesDataY= inputY[n_past-1:inputY.shape[0]:]\n",
    "    \n",
    "    timeSeriesDataX = np.array(timeSeriesDataX)\n",
    "    timeSeriesDataX = timeSeriesDataX.reshape(timeSeriesDataX.shape[0], timeSeriesDataX.shape[1], timeSeriesDataX.shape[2], timeSeriesDataX.shape[3], 1)\n",
    "    \n",
    "    return timeSeriesDataX, timeSeriesDataY"
   ]
  },
  {
   "cell_type": "code",
   "execution_count": 6,
   "metadata": {},
   "outputs": [],
   "source": [
    "def createModel(dataShape, noOfCells):\n",
    "    model = Sequential()#add model layers\n",
    "\n",
    "    model.add(TimeDistributed(Conv2D(44, (3, 3), activation='relu'), input_shape = dataShape))\n",
    "    model.add(TimeDistributed(Dropout(0.2)))\n",
    "    model.add(TimeDistributed(Conv2D(22, (3, 3), activation='relu')))\n",
    "    model.add(TimeDistributed(Dropout(0.2)))\n",
    "    model.add(TimeDistributed(Flatten()))\n",
    "    model.add(LSTM(30, return_sequences = True))\n",
    "    model.add(Dropout(0.2))\n",
    "    model.add(LSTM(15))\n",
    "    model.add(Dropout(0.2))\n",
    "    model.add(Dense(noOfCells, kernel_initializer='uniform', activation=\"relu\"))\n",
    "    model.compile(optimizer='adam', loss='mse')\n",
    "\n",
    "\n",
    "    # look at the params before training\n",
    "    model.summary()\n",
    "    \n",
    "    return model"
   ]
  },
  {
   "cell_type": "code",
   "execution_count": 7,
   "metadata": {},
   "outputs": [],
   "source": [
    "def evaluateModel(model,noOfIteration):\n",
    "    #train the model\n",
    "    model.fit(trainX, trainY, validation_data=(testX, testY), epochs=noOfIteration)\n",
    "    # evaluate the model\n",
    "    score = model.evaluate(testX, testY, verbose=1)\n",
    "    \n",
    "    print(score)"
   ]
  },
  {
   "cell_type": "code",
   "execution_count": 8,
   "metadata": {},
   "outputs": [
    {
     "name": "stdout",
     "output_type": "stream",
     "text": [
      "['VehicleType', 'PhaseStatus', 'PhaseElapsedTime', 'Speed', 'DistanceToStopBar', 'FrontCellStatus', 'FrontCellVehicleSpeed', 'CellStatus']\n",
      "   VehicleType  PhaseStatus  PhaseElapsedTime  Speed  DistanceToStopBar  \\\n",
      "0          0.0          4.0              0.12   -1.0              11.43   \n",
      "1          0.0          4.0              0.12   -1.0              19.05   \n",
      "2          0.0          4.0              0.12   -1.0              26.67   \n",
      "3          0.0          4.0              0.12   -1.0              34.29   \n",
      "4          0.0          4.0              0.12   -1.0              41.91   \n",
      "\n",
      "   FrontCellStatus  FrontCellVehicleSpeed  CellStatus  \n",
      "0              0.0                   -1.0         0.0  \n",
      "1              0.0                   -1.0         0.0  \n",
      "2              0.0                   -1.0         0.0  \n",
      "3              0.0                   -1.0         0.0  \n",
      "4              0.0                   -1.0         0.0  \n"
     ]
    }
   ],
   "source": [
    "df_forTraining, noOfCells = processDataFrame('combined-data.txt')\n",
    "# df_forTraining, noOfCells = processDataFrame('test-data.csv')"
   ]
  },
  {
   "cell_type": "code",
   "execution_count": 9,
   "metadata": {},
   "outputs": [
    {
     "name": "stdout",
     "output_type": "stream",
     "text": [
      "(114992, 44, 6)\n",
      "(114992, 44)\n"
     ]
    }
   ],
   "source": [
    "train_inputX, train_inputY = getProcessedDataSet(df_forTraining, noOfCells)\n",
    "\n",
    "print(train_inputX.shape)\n",
    "print(train_inputY.shape)"
   ]
  },
  {
   "cell_type": "code",
   "execution_count": 10,
   "metadata": {},
   "outputs": [],
   "source": [
    "n_future = 0 #Number of days we want to predict into the future\n",
    "n_past = 200 #Number of past days we want to use to predict the future"
   ]
  },
  {
   "cell_type": "code",
   "execution_count": 11,
   "metadata": {},
   "outputs": [],
   "source": [
    "trainX,trainY = createTimeSeriesData(train_inputX, train_inputY, n_future, n_past)"
   ]
  },
  {
   "cell_type": "code",
   "execution_count": 12,
   "metadata": {},
   "outputs": [
    {
     "name": "stdout",
     "output_type": "stream",
     "text": [
      "(114793, 200, 44, 6, 1)\n",
      "(114793, 44)\n"
     ]
    }
   ],
   "source": [
    "print(trainX.shape)\n",
    "print(trainY.shape)"
   ]
  },
  {
   "cell_type": "code",
   "execution_count": 13,
   "metadata": {},
   "outputs": [
    {
     "name": "stdout",
     "output_type": "stream",
     "text": [
      "['VehicleType', 'PhaseStatus', 'PhaseElapsedTime', 'Speed', 'DistanceToStopBar', 'FrontCellStatus', 'FrontCellVehicleSpeed', 'CellStatus']\n",
      "   VehicleType  PhaseStatus  PhaseElapsedTime  Speed  DistanceToStopBar  \\\n",
      "0          0.0          4.0               0.0   -1.0              11.43   \n",
      "1          0.0          4.0               0.0   -1.0              19.05   \n",
      "2          0.0          4.0               0.0   -1.0              26.67   \n",
      "3          0.0          4.0               0.0   -1.0              34.29   \n",
      "4          0.0          4.0               0.0   -1.0              41.91   \n",
      "\n",
      "   FrontCellStatus  FrontCellVehicleSpeed  CellStatus  \n",
      "0              0.0                   -1.0         0.0  \n",
      "1              0.0                   -1.0         0.0  \n",
      "2              0.0                   -1.0         0.0  \n",
      "3              0.0                   -1.0         0.0  \n",
      "4              0.0                   -1.0         0.0  \n"
     ]
    }
   ],
   "source": [
    "df_forTesting, noOfCells = processDataFrame('vehicle-status-data-0.20.csv')"
   ]
  },
  {
   "cell_type": "code",
   "execution_count": 14,
   "metadata": {},
   "outputs": [
    {
     "name": "stdout",
     "output_type": "stream",
     "text": [
      "(11495, 44, 6)\n",
      "(11495, 44)\n"
     ]
    }
   ],
   "source": [
    "test_inputX, test_inputY = getProcessedDataSet(df_forTesting, noOfCells)\n",
    "print(test_inputX.shape)\n",
    "print(test_inputY.shape)"
   ]
  },
  {
   "cell_type": "code",
   "execution_count": 15,
   "metadata": {},
   "outputs": [],
   "source": [
    "testX,testY = createTimeSeriesData(test_inputX, test_inputY, n_future, n_past)"
   ]
  },
  {
   "cell_type": "code",
   "execution_count": 16,
   "metadata": {},
   "outputs": [
    {
     "name": "stdout",
     "output_type": "stream",
     "text": [
      "(11296, 200, 44, 6, 1)\n",
      "(11296, 44)\n"
     ]
    }
   ],
   "source": [
    "print(testX.shape)\n",
    "print(testY.shape)"
   ]
  },
  {
   "cell_type": "code",
   "execution_count": 17,
   "metadata": {},
   "outputs": [
    {
     "name": "stdout",
     "output_type": "stream",
     "text": [
      "(200, 44, 6, 1)\n",
      "44\n"
     ]
    }
   ],
   "source": [
    "input_shape=(n_past, trainX.shape[2], trainX.shape[3], 1)\n",
    "noOfCells = trainX.shape[2]\n",
    "\n",
    "print(input_shape)\n",
    "print(noOfCells)"
   ]
  },
  {
   "cell_type": "code",
   "execution_count": 18,
   "metadata": {},
   "outputs": [
    {
     "name": "stdout",
     "output_type": "stream",
     "text": [
      "Model: \"sequential\"\n",
      "_________________________________________________________________\n",
      "Layer (type)                 Output Shape              Param #   \n",
      "=================================================================\n",
      "time_distributed (TimeDistri (None, 200, 42, 4, 44)    440       \n",
      "_________________________________________________________________\n",
      "time_distributed_1 (TimeDist (None, 200, 42, 4, 44)    0         \n",
      "_________________________________________________________________\n",
      "time_distributed_2 (TimeDist (None, 200, 40, 2, 22)    8734      \n",
      "_________________________________________________________________\n",
      "time_distributed_3 (TimeDist (None, 200, 40, 2, 22)    0         \n",
      "_________________________________________________________________\n",
      "time_distributed_4 (TimeDist (None, 200, 1760)         0         \n",
      "_________________________________________________________________\n",
      "lstm (LSTM)                  (None, 200, 30)           214920    \n",
      "_________________________________________________________________\n",
      "dropout_2 (Dropout)          (None, 200, 30)           0         \n",
      "_________________________________________________________________\n",
      "lstm_1 (LSTM)                (None, 15)                2760      \n",
      "_________________________________________________________________\n",
      "dropout_3 (Dropout)          (None, 15)                0         \n",
      "_________________________________________________________________\n",
      "dense (Dense)                (None, 44)                704       \n",
      "=================================================================\n",
      "Total params: 227,558\n",
      "Trainable params: 227,558\n",
      "Non-trainable params: 0\n",
      "_________________________________________________________________\n"
     ]
    }
   ],
   "source": [
    "model = createModel(input_shape, noOfCells)"
   ]
  },
  {
   "cell_type": "code",
   "execution_count": 19,
   "metadata": {},
   "outputs": [
    {
     "name": "stdout",
     "output_type": "stream",
     "text": [
      "Epoch 1/20\n",
      "3588/3588 [==============================] - 1842s 513ms/step - loss: 0.0711 - val_loss: 0.0687\n",
      "Epoch 2/20\n",
      "3588/3588 [==============================] - 1808s 504ms/step - loss: 0.0622 - val_loss: 0.0652\n",
      "Epoch 3/20\n",
      "3588/3588 [==============================] - 1805s 503ms/step - loss: 0.0596 - val_loss: 0.0640\n",
      "Epoch 4/20\n",
      "3588/3588 [==============================] - 1805s 503ms/step - loss: 0.0584 - val_loss: 0.0630\n",
      "Epoch 5/20\n",
      "3588/3588 [==============================] - 1802s 502ms/step - loss: 0.0577 - val_loss: 0.0627\n",
      "Epoch 6/20\n",
      "3588/3588 [==============================] - 1802s 502ms/step - loss: 0.0571 - val_loss: 0.0620\n",
      "Epoch 7/20\n",
      "3588/3588 [==============================] - 1803s 502ms/step - loss: 0.0567 - val_loss: 0.0619\n",
      "Epoch 8/20\n",
      "3588/3588 [==============================] - 1803s 502ms/step - loss: 0.0564 - val_loss: 0.0619\n",
      "Epoch 9/20\n",
      "3588/3588 [==============================] - 1805s 503ms/step - loss: 0.0561 - val_loss: 0.0612\n",
      "Epoch 10/20\n",
      "3588/3588 [==============================] - 1838s 512ms/step - loss: 0.0558 - val_loss: 0.0613\n",
      "Epoch 11/20\n",
      "3588/3588 [==============================] - 1840s 513ms/step - loss: 0.0556 - val_loss: 0.0610\n",
      "Epoch 12/20\n",
      "3588/3588 [==============================] - 1846s 515ms/step - loss: 0.0555 - val_loss: 0.0607\n",
      "Epoch 13/20\n",
      "3588/3588 [==============================] - 1844s 514ms/step - loss: 0.0553 - val_loss: 0.0608\n",
      "Epoch 14/20\n",
      "3588/3588 [==============================] - 1831s 510ms/step - loss: 0.0551 - val_loss: 0.0604\n",
      "Epoch 15/20\n",
      "3588/3588 [==============================] - 1809s 504ms/step - loss: 0.0550 - val_loss: 0.0605\n",
      "Epoch 16/20\n",
      "3588/3588 [==============================] - 1849s 515ms/step - loss: 0.0549 - val_loss: 0.0605\n",
      "Epoch 17/20\n",
      "3588/3588 [==============================] - 1847s 515ms/step - loss: 0.0548 - val_loss: 0.0604\n",
      "Epoch 18/20\n",
      "3588/3588 [==============================] - 1787s 498ms/step - loss: 0.0547 - val_loss: 0.0600\n",
      "Epoch 19/20\n",
      "3588/3588 [==============================] - 1830s 510ms/step - loss: 0.0546 - val_loss: 0.0598\n",
      "Epoch 20/20\n",
      "3588/3588 [==============================] - 1834s 511ms/step - loss: 0.0545 - val_loss: 0.0600\n",
      "353/353 [==============================] - 27s 78ms/step - loss: 0.0600\n",
      "0.06003616377711296\n"
     ]
    }
   ],
   "source": [
    "noOfIteration = 20\n",
    "model_evaluation = evaluateModel(model,noOfIteration)"
   ]
  },
  {
   "cell_type": "code",
   "execution_count": 20,
   "metadata": {},
   "outputs": [],
   "source": [
    "# make predictions\n",
    "scaler = StandardScaler()\n",
    "scaler = scaler.fit(testY)\n",
    "testPredict = model.predict(testX)\n",
    "testPredict = scaler.inverse_transform(testPredict)"
   ]
  },
  {
   "cell_type": "code",
   "execution_count": 21,
   "metadata": {},
   "outputs": [],
   "source": [
    "testScore = math.sqrt(mean_squared_error(testY[:,0], testPredict[:,0]))"
   ]
  },
  {
   "cell_type": "code",
   "execution_count": 22,
   "metadata": {},
   "outputs": [
    {
     "data": {
      "text/plain": [
       "0.40863362596132313"
      ]
     },
     "execution_count": 22,
     "metadata": {},
     "output_type": "execute_result"
    }
   ],
   "source": [
    "testScore"
   ]
  },
  {
   "cell_type": "code",
   "execution_count": 33,
   "metadata": {},
   "outputs": [],
   "source": [
    "def analyzeSampleData(sample_inputX, sample_inputY, n_future, n_past, model, testY):\n",
    "    sampleX = [] \n",
    "    sampleY = []\n",
    "    fields = ['SampleCellStatus', 'PredictedCellStatus','Results', 'NoOfTrueValue', 'NoOfFalseValue']\n",
    "    filename = open(\"sample-results-0.10.csv\",'w')\n",
    "\n",
    "    csvwriter = csv.writer(filename) \n",
    "\n",
    "        # writing the fields \n",
    "    csvwriter.writerow(fields) \n",
    "    for i in range (n_past, sample_inputX.shape[0] - n_future + 1):\n",
    "        sampleX = []\n",
    "        sampleY = []\n",
    "        results = []\n",
    "        rows = []\n",
    "        sampleX.append(sample_inputX[i-n_past:i,])\n",
    "\n",
    "        sampleX = np.array(sampleX)\n",
    "        sampleX = sampleX.reshape(sampleX.shape[0], sampleX.shape[1], sampleX.shape[2], sampleX.shape[3], 1)\n",
    "\n",
    "        sampleY = sample_inputY[i-1,]\n",
    "\n",
    "        \n",
    "        scaler = StandardScaler()\n",
    "        scaler = scaler.fit(testY)\n",
    "        samplePredict = model.predict(sampleX)\n",
    "        samplePredict = scaler.inverse_transform(samplePredict)\n",
    "        \n",
    "        for index in range(len(sampleY)):\n",
    " \n",
    "            if sampleY[index] >0 and samplePredict[:,index] <= 0.3:\n",
    "                output = False\n",
    "                results.append(output)\n",
    "                \n",
    "            elif sampleY[index] <=0 and samplePredict[:,index] >=0.2:\n",
    "                output = False\n",
    "                results.append(output)\n",
    "                \n",
    "            elif sampleY[index] == samplePredict[:,index]:\n",
    "                output = True\n",
    "                results.append(output)\n",
    "                \n",
    "            else: \n",
    "                output = True\n",
    "                results.append(output)\n",
    "            filename = open(\"sample-results-0.10.csv\",'a')\n",
    "            csvwriter = csv.writer(filename)    \n",
    "            rows = [sampleY[index], samplePredict[:,index], output, results.count(True), results.count(False)]\n",
    "            csvwriter.writerow(rows)\n",
    "        filename.close()\n",
    "      \n",
    "\n",
    "    "
   ]
  },
  {
   "cell_type": "code",
   "execution_count": 34,
   "metadata": {},
   "outputs": [
    {
     "name": "stdout",
     "output_type": "stream",
     "text": [
      "['CellNo', 'NoOfConnectedVehicle', 'NoOfNonConnectedVehicle', 'ConnectedVehicleId', 'NonConnectedVehicleId', 'VehicleType', 'PhaseStatus', 'PhaseElapsedTime', 'Speed', 'DistanceToStopBar', 'FrontCellStatus', 'FrontCellVehicleSpeed', 'CellStatus']\n",
      "   CellNo  NoOfConnectedVehicle  NoOfNonConnectedVehicle  ConnectedVehicleId  \\\n",
      "0     1.0                   0.0                      5.0                 0.0   \n",
      "1     2.0                   0.0                      5.0                 0.0   \n",
      "2     3.0                   0.0                      5.0                 0.0   \n",
      "3     4.0                   0.0                      5.0                 0.0   \n",
      "4     5.0                   0.0                      5.0                 0.0   \n",
      "\n",
      "   NonConnectedVehicleId  VehicleType  PhaseStatus  PhaseElapsedTime  Speed  \\\n",
      "0                   45.0          0.0          4.0               0.2   -1.0   \n",
      "1                   46.0          0.0          4.0               0.2   -1.0   \n",
      "2                    0.0          0.0          4.0               0.2   -1.0   \n",
      "3                    0.0          0.0          4.0               0.2   -1.0   \n",
      "4                    0.0          0.0          4.0               0.2   -1.0   \n",
      "\n",
      "   DistanceToStopBar  FrontCellStatus  FrontCellVehicleSpeed  CellStatus  \n",
      "0              11.43              1.0                    0.0         1.0  \n",
      "1              19.05              0.0                   -1.0         1.0  \n",
      "2              26.67              0.0                   -1.0         0.0  \n",
      "3              34.29              0.0                   -1.0         0.0  \n",
      "4              41.91              0.0                   -1.0         0.0  \n"
     ]
    }
   ],
   "source": [
    "sample_df, noOfCells = processDataFrame('sample-vehicle-status-data-0.10.csv')"
   ]
  },
  {
   "cell_type": "code",
   "execution_count": 35,
   "metadata": {},
   "outputs": [],
   "source": [
    "sample_inputX, sample_inputY = getProcessedDataSet(sample_df, noOfCells)"
   ]
  },
  {
   "cell_type": "code",
   "execution_count": 36,
   "metadata": {},
   "outputs": [
    {
     "name": "stdout",
     "output_type": "stream",
     "text": [
      "(2741, 44, 6)\n",
      "(2741, 44)\n"
     ]
    }
   ],
   "source": [
    "print(sample_inputX.shape)\n",
    "print(sample_inputY.shape)"
   ]
  },
  {
   "cell_type": "code",
   "execution_count": 37,
   "metadata": {},
   "outputs": [],
   "source": [
    "analyzeSampleData(sample_inputX, sample_inputY, n_future, n_past, model, testY)"
   ]
  },
  {
   "cell_type": "code",
   "execution_count": null,
   "metadata": {},
   "outputs": [],
   "source": [
    "def getCurrentSignalTimingPlan"
   ]
  }
 ],
 "metadata": {
  "kernelspec": {
   "display_name": "Python 3",
   "language": "python",
   "name": "python3"
  },
  "language_info": {
   "codemirror_mode": {
    "name": "ipython",
    "version": 3
   },
   "file_extension": ".py",
   "mimetype": "text/x-python",
   "name": "python",
   "nbconvert_exporter": "python",
   "pygments_lexer": "ipython3",
   "version": "3.6.9"
  }
 },
 "nbformat": 4,
 "nbformat_minor": 2
}
