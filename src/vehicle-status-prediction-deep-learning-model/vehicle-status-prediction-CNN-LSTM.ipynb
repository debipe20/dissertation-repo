{
 "cells": [
  {
   "cell_type": "code",
   "execution_count": 1,
   "metadata": {},
   "outputs": [
    {
     "name": "stderr",
     "output_type": "stream",
     "text": [
      "Using TensorFlow backend.\n"
     ]
    }
   ],
   "source": [
    "import pandas as pd\n",
    "import numpy as np\n",
    "import math\n",
    "from sklearn.metrics import mean_squared_error\n",
    "from keras.models import Sequential\n",
    "from keras.layers import TimeDistributed, Dense, Conv2D, Flatten \n",
    "from keras.layers import MaxPooling2D, Dropout, LSTM\n",
    "from sklearn.preprocessing import StandardScaler"
   ]
  },
  {
   "cell_type": "code",
   "execution_count": 2,
   "metadata": {},
   "outputs": [
    {
     "name": "stdout",
     "output_type": "stream",
     "text": [
      "4163360\n"
     ]
    }
   ],
   "source": [
    "df = pd.read_csv('combined-data.txt')\n",
    "\n",
    "noOfcells = df['NoOfCells'][0]\n",
    "print(df.shape[0])"
   ]
  },
  {
   "cell_type": "code",
   "execution_count": 3,
   "metadata": {},
   "outputs": [
    {
     "data": {
      "text/plain": [
       "['VehicleId',\n",
       " 'VehicleType',\n",
       " 'SignalGroup',\n",
       " 'LaneId',\n",
       " 'ApproachId',\n",
       " 'LocationOnMap',\n",
       " 'PhaseStatus',\n",
       " 'PhaseElapsedTime',\n",
       " 'Speed',\n",
       " 'Heading',\n",
       " 'DistanceToStopBar',\n",
       " 'CellStatus']"
      ]
     },
     "execution_count": 3,
     "metadata": {},
     "output_type": "execute_result"
    }
   ],
   "source": [
    "#variable for training\n",
    "cols = list(df)[2:14]\n",
    "cols"
   ]
  },
  {
   "cell_type": "code",
   "execution_count": 4,
   "metadata": {},
   "outputs": [
    {
     "data": {
      "text/html": [
       "<div>\n",
       "<style scoped>\n",
       "    .dataframe tbody tr th:only-of-type {\n",
       "        vertical-align: middle;\n",
       "    }\n",
       "\n",
       "    .dataframe tbody tr th {\n",
       "        vertical-align: top;\n",
       "    }\n",
       "\n",
       "    .dataframe thead th {\n",
       "        text-align: right;\n",
       "    }\n",
       "</style>\n",
       "<table border=\"1\" class=\"dataframe\">\n",
       "  <thead>\n",
       "    <tr style=\"text-align: right;\">\n",
       "      <th></th>\n",
       "      <th>VehicleId</th>\n",
       "      <th>VehicleType</th>\n",
       "      <th>SignalGroup</th>\n",
       "      <th>LaneId</th>\n",
       "      <th>ApproachId</th>\n",
       "      <th>LocationOnMap</th>\n",
       "      <th>PhaseStatus</th>\n",
       "      <th>PhaseElapsedTime</th>\n",
       "      <th>Speed</th>\n",
       "      <th>Heading</th>\n",
       "      <th>DistanceToStopBar</th>\n",
       "      <th>CellStatus</th>\n",
       "    </tr>\n",
       "  </thead>\n",
       "  <tbody>\n",
       "    <tr>\n",
       "      <th>0</th>\n",
       "      <td>0.0</td>\n",
       "      <td>0.0</td>\n",
       "      <td>2.0</td>\n",
       "      <td>14.0</td>\n",
       "      <td>5.0</td>\n",
       "      <td>2.0</td>\n",
       "      <td>4.0</td>\n",
       "      <td>0.12</td>\n",
       "      <td>-1.0</td>\n",
       "      <td>-1.0</td>\n",
       "      <td>0.00</td>\n",
       "      <td>0.0</td>\n",
       "    </tr>\n",
       "    <tr>\n",
       "      <th>1</th>\n",
       "      <td>0.0</td>\n",
       "      <td>0.0</td>\n",
       "      <td>2.0</td>\n",
       "      <td>14.0</td>\n",
       "      <td>5.0</td>\n",
       "      <td>2.0</td>\n",
       "      <td>4.0</td>\n",
       "      <td>0.12</td>\n",
       "      <td>-1.0</td>\n",
       "      <td>-1.0</td>\n",
       "      <td>7.62</td>\n",
       "      <td>0.0</td>\n",
       "    </tr>\n",
       "    <tr>\n",
       "      <th>2</th>\n",
       "      <td>0.0</td>\n",
       "      <td>0.0</td>\n",
       "      <td>2.0</td>\n",
       "      <td>14.0</td>\n",
       "      <td>5.0</td>\n",
       "      <td>2.0</td>\n",
       "      <td>4.0</td>\n",
       "      <td>0.12</td>\n",
       "      <td>-1.0</td>\n",
       "      <td>-1.0</td>\n",
       "      <td>15.24</td>\n",
       "      <td>0.0</td>\n",
       "    </tr>\n",
       "    <tr>\n",
       "      <th>3</th>\n",
       "      <td>0.0</td>\n",
       "      <td>0.0</td>\n",
       "      <td>2.0</td>\n",
       "      <td>14.0</td>\n",
       "      <td>5.0</td>\n",
       "      <td>2.0</td>\n",
       "      <td>4.0</td>\n",
       "      <td>0.12</td>\n",
       "      <td>-1.0</td>\n",
       "      <td>-1.0</td>\n",
       "      <td>22.86</td>\n",
       "      <td>0.0</td>\n",
       "    </tr>\n",
       "    <tr>\n",
       "      <th>4</th>\n",
       "      <td>0.0</td>\n",
       "      <td>0.0</td>\n",
       "      <td>2.0</td>\n",
       "      <td>14.0</td>\n",
       "      <td>5.0</td>\n",
       "      <td>2.0</td>\n",
       "      <td>4.0</td>\n",
       "      <td>0.12</td>\n",
       "      <td>-1.0</td>\n",
       "      <td>-1.0</td>\n",
       "      <td>30.48</td>\n",
       "      <td>0.0</td>\n",
       "    </tr>\n",
       "  </tbody>\n",
       "</table>\n",
       "</div>"
      ],
      "text/plain": [
       "   VehicleId  VehicleType  SignalGroup  LaneId  ApproachId  LocationOnMap  \\\n",
       "0        0.0          0.0          2.0    14.0         5.0            2.0   \n",
       "1        0.0          0.0          2.0    14.0         5.0            2.0   \n",
       "2        0.0          0.0          2.0    14.0         5.0            2.0   \n",
       "3        0.0          0.0          2.0    14.0         5.0            2.0   \n",
       "4        0.0          0.0          2.0    14.0         5.0            2.0   \n",
       "\n",
       "   PhaseStatus  PhaseElapsedTime  Speed  Heading  DistanceToStopBar  \\\n",
       "0          4.0              0.12   -1.0     -1.0               0.00   \n",
       "1          4.0              0.12   -1.0     -1.0               7.62   \n",
       "2          4.0              0.12   -1.0     -1.0              15.24   \n",
       "3          4.0              0.12   -1.0     -1.0              22.86   \n",
       "4          4.0              0.12   -1.0     -1.0              30.48   \n",
       "\n",
       "   CellStatus  \n",
       "0         0.0  \n",
       "1         0.0  \n",
       "2         0.0  \n",
       "3         0.0  \n",
       "4         0.0  "
      ]
     },
     "execution_count": 4,
     "metadata": {},
     "output_type": "execute_result"
    }
   ],
   "source": [
    "df = df[cols].astype(float)\n",
    "\n",
    "df.head(5)"
   ]
  },
  {
   "cell_type": "code",
   "execution_count": 5,
   "metadata": {},
   "outputs": [],
   "source": [
    "def getTrainingSetSize(df, noOfcells):\n",
    "    trainingDataPointSize = int(df.shape[0]*0.8/noOfcells)\n",
    "    training_setsize = trainingDataPointSize*noOfcells\n",
    "    return training_setsize"
   ]
  },
  {
   "cell_type": "code",
   "execution_count": 6,
   "metadata": {},
   "outputs": [],
   "source": [
    "def getProcessedDataSet(df):\n",
    "    input_X = []\n",
    "    input_Y = []\n",
    "    dataPoint_X = []\n",
    "    dataPoint_Y = []\n",
    "    scaler = StandardScaler()\n",
    "\n",
    "\n",
    "    for index, rows in df.iterrows():\n",
    "        if index == 0:\n",
    "            X_row_list = [rows.VehicleId, rows.VehicleType,  rows.PhaseStatus, rows.PhaseElapsedTime, rows.Speed, rows.DistanceToStopBar]\n",
    "            dataPoint_X.append(X_row_list)\n",
    "            dataPoint_Y.append(rows.CellStatus)\n",
    "        \n",
    "        elif index % noOfcells != 0:\n",
    "            X_row_list = [rows.VehicleId, rows.VehicleType,  rows.PhaseStatus, rows.PhaseElapsedTime, rows.Speed, rows.DistanceToStopBar]\n",
    "            \n",
    "            dataPoint_X.append(X_row_list)\n",
    "            dataPoint_Y.append(rows.CellStatus)\n",
    "\n",
    "        elif index % noOfcells == 0 and len(dataPoint_X) > 0:\n",
    "            scaler = scaler.fit(dataPoint_X)\n",
    "            dataPoint_X = scaler.transform(dataPoint_X)\n",
    "            input_X.append(dataPoint_X)\n",
    "            input_Y.append(dataPoint_Y)\n",
    "            \n",
    "            dataPoint_X = []\n",
    "            dataPoint_Y = []\n",
    "            X_row_list = [rows.VehicleId, rows.VehicleType,  rows.PhaseStatus, rows.PhaseElapsedTime, rows.Speed, rows.DistanceToStopBar]\n",
    "            \n",
    "            dataPoint_X.append(X_row_list)\n",
    "            dataPoint_Y.append(rows.CellStatus)\n",
    "        \n",
    "        if index == len(df) - 1:\n",
    "            scaler = scaler.fit(dataPoint_X)\n",
    "            dataPoint_X = scaler.transform(dataPoint_X)\n",
    "            input_X.append(dataPoint_X)\n",
    "            input_Y.append(dataPoint_Y)  \n",
    "\n",
    "\n",
    "#     input_X = np.array(input_X)\n",
    "#     input_Y = np.array(input_Y)\n",
    "    \n",
    "    \n",
    "    return input_X, input_Y"
   ]
  },
  {
   "cell_type": "code",
   "execution_count": 7,
   "metadata": {},
   "outputs": [],
   "source": [
    "training_setsize = getTrainingSetSize(df, noOfcells)\n",
    "\n",
    "df_forTraining = df.iloc[:training_setsize, 0:]\n",
    "\n",
    "df_forTesting = df.iloc[training_setsize:, 0:]\n",
    "df_forTesting.reset_index(inplace=True)"
   ]
  },
  {
   "cell_type": "code",
   "execution_count": 8,
   "metadata": {},
   "outputs": [
    {
     "data": {
      "text/html": [
       "<div>\n",
       "<style scoped>\n",
       "    .dataframe tbody tr th:only-of-type {\n",
       "        vertical-align: middle;\n",
       "    }\n",
       "\n",
       "    .dataframe tbody tr th {\n",
       "        vertical-align: top;\n",
       "    }\n",
       "\n",
       "    .dataframe thead th {\n",
       "        text-align: right;\n",
       "    }\n",
       "</style>\n",
       "<table border=\"1\" class=\"dataframe\">\n",
       "  <thead>\n",
       "    <tr style=\"text-align: right;\">\n",
       "      <th></th>\n",
       "      <th>index</th>\n",
       "      <th>VehicleId</th>\n",
       "      <th>VehicleType</th>\n",
       "      <th>SignalGroup</th>\n",
       "      <th>LaneId</th>\n",
       "      <th>ApproachId</th>\n",
       "      <th>LocationOnMap</th>\n",
       "      <th>PhaseStatus</th>\n",
       "      <th>PhaseElapsedTime</th>\n",
       "      <th>Speed</th>\n",
       "      <th>Heading</th>\n",
       "      <th>DistanceToStopBar</th>\n",
       "      <th>CellStatus</th>\n",
       "    </tr>\n",
       "  </thead>\n",
       "  <tbody>\n",
       "    <tr>\n",
       "      <th>0</th>\n",
       "      <td>3330680</td>\n",
       "      <td>56.0</td>\n",
       "      <td>4.0</td>\n",
       "      <td>2.0</td>\n",
       "      <td>14.0</td>\n",
       "      <td>5.0</td>\n",
       "      <td>2.0</td>\n",
       "      <td>1.0</td>\n",
       "      <td>1.55</td>\n",
       "      <td>0.28</td>\n",
       "      <td>89.14</td>\n",
       "      <td>7.0</td>\n",
       "      <td>1.0</td>\n",
       "    </tr>\n",
       "    <tr>\n",
       "      <th>1</th>\n",
       "      <td>3330681</td>\n",
       "      <td>57.0</td>\n",
       "      <td>4.0</td>\n",
       "      <td>2.0</td>\n",
       "      <td>14.0</td>\n",
       "      <td>5.0</td>\n",
       "      <td>2.0</td>\n",
       "      <td>1.0</td>\n",
       "      <td>1.55</td>\n",
       "      <td>0.00</td>\n",
       "      <td>89.14</td>\n",
       "      <td>13.0</td>\n",
       "      <td>1.0</td>\n",
       "    </tr>\n",
       "    <tr>\n",
       "      <th>2</th>\n",
       "      <td>3330682</td>\n",
       "      <td>58.0</td>\n",
       "      <td>4.0</td>\n",
       "      <td>2.0</td>\n",
       "      <td>14.0</td>\n",
       "      <td>5.0</td>\n",
       "      <td>2.0</td>\n",
       "      <td>1.0</td>\n",
       "      <td>1.55</td>\n",
       "      <td>0.00</td>\n",
       "      <td>89.15</td>\n",
       "      <td>20.0</td>\n",
       "      <td>1.0</td>\n",
       "    </tr>\n",
       "    <tr>\n",
       "      <th>3</th>\n",
       "      <td>3330683</td>\n",
       "      <td>59.0</td>\n",
       "      <td>4.0</td>\n",
       "      <td>2.0</td>\n",
       "      <td>14.0</td>\n",
       "      <td>5.0</td>\n",
       "      <td>2.0</td>\n",
       "      <td>1.0</td>\n",
       "      <td>1.55</td>\n",
       "      <td>0.00</td>\n",
       "      <td>89.20</td>\n",
       "      <td>26.0</td>\n",
       "      <td>1.0</td>\n",
       "    </tr>\n",
       "    <tr>\n",
       "      <th>4</th>\n",
       "      <td>3330684</td>\n",
       "      <td>60.0</td>\n",
       "      <td>4.0</td>\n",
       "      <td>2.0</td>\n",
       "      <td>14.0</td>\n",
       "      <td>5.0</td>\n",
       "      <td>2.0</td>\n",
       "      <td>1.0</td>\n",
       "      <td>1.55</td>\n",
       "      <td>0.00</td>\n",
       "      <td>89.70</td>\n",
       "      <td>33.0</td>\n",
       "      <td>1.0</td>\n",
       "    </tr>\n",
       "  </tbody>\n",
       "</table>\n",
       "</div>"
      ],
      "text/plain": [
       "     index  VehicleId  VehicleType  SignalGroup  LaneId  ApproachId  \\\n",
       "0  3330680       56.0          4.0          2.0    14.0         5.0   \n",
       "1  3330681       57.0          4.0          2.0    14.0         5.0   \n",
       "2  3330682       58.0          4.0          2.0    14.0         5.0   \n",
       "3  3330683       59.0          4.0          2.0    14.0         5.0   \n",
       "4  3330684       60.0          4.0          2.0    14.0         5.0   \n",
       "\n",
       "   LocationOnMap  PhaseStatus  PhaseElapsedTime  Speed  Heading  \\\n",
       "0            2.0          1.0              1.55   0.28    89.14   \n",
       "1            2.0          1.0              1.55   0.00    89.14   \n",
       "2            2.0          1.0              1.55   0.00    89.15   \n",
       "3            2.0          1.0              1.55   0.00    89.20   \n",
       "4            2.0          1.0              1.55   0.00    89.70   \n",
       "\n",
       "   DistanceToStopBar  CellStatus  \n",
       "0                7.0         1.0  \n",
       "1               13.0         1.0  \n",
       "2               20.0         1.0  \n",
       "3               26.0         1.0  \n",
       "4               33.0         1.0  "
      ]
     },
     "execution_count": 8,
     "metadata": {},
     "output_type": "execute_result"
    }
   ],
   "source": [
    "df_forTesting.head()"
   ]
  },
  {
   "cell_type": "code",
   "execution_count": 9,
   "metadata": {},
   "outputs": [
    {
     "name": "stdout",
     "output_type": "stream",
     "text": [
      "(83267, 40, 6)\n",
      "(83267, 40)\n"
     ]
    }
   ],
   "source": [
    "inputX,inputY = getProcessedDataSet(df_forTraining)\n",
    "inputX = np.array(inputX)\n",
    "inputY = np.array(inputY)\n",
    "print(inputX.shape)\n",
    "print(inputY.shape)"
   ]
  },
  {
   "cell_type": "code",
   "execution_count": 10,
   "metadata": {},
   "outputs": [],
   "source": [
    "n_future = 1 #Number of days we want to predict into the future\n",
    "n_past = 100 #Number of past days we want to use to predict the future"
   ]
  },
  {
   "cell_type": "code",
   "execution_count": 11,
   "metadata": {},
   "outputs": [],
   "source": [
    "n_future = 1 #Number of days we want to predict into the future\n",
    "n_past = 100 #Number of past days we want to use to predict the future\n",
    "trainX = []\n",
    "for i in range (n_past, inputX.shape[0] - n_future + 1):\n",
    "    trainX.append(inputX[i-n_past:i,])\n",
    "    \n",
    "trainX = np.array(trainX)"
   ]
  },
  {
   "cell_type": "code",
   "execution_count": 12,
   "metadata": {},
   "outputs": [
    {
     "name": "stdout",
     "output_type": "stream",
     "text": [
      "(83167, 100, 40, 6, 1)\n"
     ]
    }
   ],
   "source": [
    "trainX = trainX.reshape(trainX.shape[0], trainX.shape[1], trainX.shape[2], trainX.shape[3], 1)\n",
    "print(trainX.shape)"
   ]
  },
  {
   "cell_type": "code",
   "execution_count": 13,
   "metadata": {},
   "outputs": [
    {
     "data": {
      "text/plain": [
       "array([[0., 0., 0., ..., 0., 1., 0.],\n",
       "       [0., 0., 0., ..., 0., 1., 0.],\n",
       "       [0., 0., 0., ..., 0., 1., 0.],\n",
       "       ...,\n",
       "       [1., 1., 1., ..., 1., 0., 0.],\n",
       "       [1., 1., 1., ..., 1., 0., 0.],\n",
       "       [1., 1., 1., ..., 1., 0., 0.]])"
      ]
     },
     "execution_count": 13,
     "metadata": {},
     "output_type": "execute_result"
    }
   ],
   "source": [
    "# scaler = StandardScaler()\n",
    "# scaler = scaler.fit(inputY)\n",
    "# inputY = scaler.transform(inputY)\n",
    "# print(inputY.shape)\n",
    "inputY"
   ]
  },
  {
   "cell_type": "code",
   "execution_count": 14,
   "metadata": {},
   "outputs": [
    {
     "name": "stdout",
     "output_type": "stream",
     "text": [
      "(83167, 40)\n"
     ]
    }
   ],
   "source": [
    "trainY=[]\n",
    "trainY= inputY[n_past-1:inputY.shape[0]-1:]\n",
    "print(trainY.shape)"
   ]
  },
  {
   "cell_type": "code",
   "execution_count": 15,
   "metadata": {},
   "outputs": [],
   "source": [
    "test_inputX, test_inputY = getProcessedDataSet(df_forTesting)"
   ]
  },
  {
   "cell_type": "code",
   "execution_count": 16,
   "metadata": {},
   "outputs": [
    {
     "name": "stdout",
     "output_type": "stream",
     "text": [
      "(20817, 40, 6)\n",
      "(20817, 40)\n"
     ]
    }
   ],
   "source": [
    "test_inputX = np.array(test_inputX)\n",
    "test_inputY = np.array(test_inputY)\n",
    "print(test_inputX.shape)\n",
    "print(test_inputY.shape)"
   ]
  },
  {
   "cell_type": "code",
   "execution_count": 17,
   "metadata": {},
   "outputs": [],
   "source": [
    "testX = []\n",
    "for i in range (n_past, test_inputX.shape[0] - n_future + 1):\n",
    "    \n",
    "    testX.append(test_inputX[i-n_past:i,])\n",
    "    \n",
    "testX = np.array(testX)"
   ]
  },
  {
   "cell_type": "code",
   "execution_count": 18,
   "metadata": {},
   "outputs": [
    {
     "name": "stdout",
     "output_type": "stream",
     "text": [
      "(20717, 100, 40, 6, 1)\n"
     ]
    }
   ],
   "source": [
    "testX = testX.reshape(testX.shape[0], testX.shape[1], testX.shape[2], testX.shape[3], 1)\n",
    "print(testX.shape)"
   ]
  },
  {
   "cell_type": "code",
   "execution_count": 19,
   "metadata": {},
   "outputs": [],
   "source": [
    "scaler = StandardScaler()\n",
    "scaler = scaler.fit(test_inputY)\n",
    "test_inputY = scaler.transform(test_inputY)"
   ]
  },
  {
   "cell_type": "code",
   "execution_count": 20,
   "metadata": {},
   "outputs": [],
   "source": [
    "testY=[]\n",
    "testY= test_inputY[n_past-1:test_inputY.shape[0]-1:]"
   ]
  },
  {
   "cell_type": "code",
   "execution_count": 21,
   "metadata": {},
   "outputs": [
    {
     "name": "stdout",
     "output_type": "stream",
     "text": [
      "(83167, 100, 40, 6, 1)\n",
      "(83167, 40)\n"
     ]
    }
   ],
   "source": [
    "# input_shape = (trainX.shape[1], trainX.shape[2], 1)\n",
    "print(trainX.shape)\n",
    "print(trainY.shape)"
   ]
  },
  {
   "cell_type": "code",
   "execution_count": 22,
   "metadata": {},
   "outputs": [
    {
     "name": "stdout",
     "output_type": "stream",
     "text": [
      "Model: \"sequential_1\"\n",
      "_________________________________________________________________\n",
      "Layer (type)                 Output Shape              Param #   \n",
      "=================================================================\n",
      "time_distributed_1 (TimeDist (None, 100, 38, 4, 40)    400       \n",
      "_________________________________________________________________\n",
      "time_distributed_2 (TimeDist (None, 100, 38, 4, 40)    0         \n",
      "_________________________________________________________________\n",
      "time_distributed_3 (TimeDist (None, 100, 36, 2, 20)    7220      \n",
      "_________________________________________________________________\n",
      "time_distributed_4 (TimeDist (None, 100, 36, 2, 20)    0         \n",
      "_________________________________________________________________\n",
      "time_distributed_5 (TimeDist (None, 100, 1440)         0         \n",
      "_________________________________________________________________\n",
      "lstm_1 (LSTM)                (None, 100, 30)           176520    \n",
      "_________________________________________________________________\n",
      "dropout_3 (Dropout)          (None, 100, 30)           0         \n",
      "_________________________________________________________________\n",
      "lstm_2 (LSTM)                (None, 15)                2760      \n",
      "_________________________________________________________________\n",
      "dropout_4 (Dropout)          (None, 15)                0         \n",
      "_________________________________________________________________\n",
      "dense_1 (Dense)              (None, 40)                640       \n",
      "=================================================================\n",
      "Total params: 187,540\n",
      "Trainable params: 187,540\n",
      "Non-trainable params: 0\n",
      "_________________________________________________________________\n"
     ]
    },
    {
     "name": "stderr",
     "output_type": "stream",
     "text": [
      "C:\\ProgramData\\Anaconda3\\lib\\site-packages\\ipykernel_launcher.py:12: UserWarning: Update your `Dense` call to the Keras 2 API: `Dense(40, kernel_initializer=\"uniform\")`\n",
      "  if sys.path[0] == '':\n"
     ]
    }
   ],
   "source": [
    "model = Sequential()#add model layers\n",
    "\n",
    "model.add(TimeDistributed(Conv2D(40, (3, 3), activation='relu'), input_shape=(100, trainX.shape[2], trainX.shape[3], 1)))\n",
    "model.add(TimeDistributed(Dropout(0.2)))\n",
    "model.add(TimeDistributed(Conv2D(20, (3, 3), activation='relu')))\n",
    "model.add(TimeDistributed(Dropout(0.2)))\n",
    "model.add(TimeDistributed(Flatten()))\n",
    "model.add(LSTM(30, return_sequences = True))\n",
    "model.add(Dropout(0.2))\n",
    "model.add(LSTM(15))\n",
    "model.add(Dropout(0.2))\n",
    "model.add(Dense(40, init='uniform'))\n",
    "model.compile(optimizer='adam', loss='mse')\n",
    "\n",
    "# model.add(TimeDistributed(Conv2D(64, (3, 3), activation='relu'), input_shape=(100, trainX.shape[2], trainX.shape[3], 1)))\n",
    "# model.add(TimeDistributed(MaxPooling2D((2, 2), strides=(1, 1),data_format='channels_last')))\n",
    "\n",
    "# # model.add(TimeDistributed(Conv2D(128, (4,4), activation='relu')))\n",
    "# # model.add(TimeDistributed(MaxPooling2D((2, 2), strides=(2, 2),data_format='channels_last')))\n",
    "\n",
    "# # model.add(TimeDistributed(Conv2D(256, (4,4), activation='relu')))\n",
    "# # model.add(TimeDistributed(MaxPooling2D((2, 2), strides=(2, 2), data_format='channels_last')))\n",
    "\n",
    "# # extract features and dropout \n",
    "# model.add(TimeDistributed(Flatten()))\n",
    "# model.add(Dropout(0.5))\n",
    "    \n",
    "# # input to LSTM\n",
    "# model.add(LSTM(256, return_sequences=False, dropout=0.5))\n",
    "# model.add(Dense(256, activation='relu'))\n",
    "# model.add(Dropout(.5))\n",
    "\n",
    "# # classifier with sigmoid activation for multilabel\n",
    "# model.add(Dense(2, activation='sigmoid'))\n",
    "\n",
    "# # compile the model with binary_crossentropy loss for multilabel\n",
    "# model.compile(optimizer='rmsprop', loss='binary_crossentropy')\n",
    "\n",
    "# look at the params before training\n",
    "model.summary()"
   ]
  },
  {
   "cell_type": "code",
   "execution_count": 23,
   "metadata": {},
   "outputs": [
    {
     "name": "stdout",
     "output_type": "stream",
     "text": [
      "Train on 83167 samples, validate on 20717 samples\n",
      "Epoch 1/20\n",
      "83167/83167 [==============================] - 1993s 24ms/step - loss: 0.0704 - val_loss: 0.8612\n",
      "Epoch 2/20\n",
      "83167/83167 [==============================] - 2020s 24ms/step - loss: 0.0608 - val_loss: 0.8500\n",
      "Epoch 3/20\n",
      "83167/83167 [==============================] - 2053s 25ms/step - loss: 0.0588 - val_loss: 0.8434\n",
      "Epoch 4/20\n",
      "83167/83167 [==============================] - 2055s 25ms/step - loss: 0.0580 - val_loss: 0.8418\n",
      "Epoch 5/20\n",
      "83167/83167 [==============================] - 2020s 24ms/step - loss: 0.0575 - val_loss: 0.8414\n",
      "Epoch 6/20\n",
      "83167/83167 [==============================] - 2014s 24ms/step - loss: 0.0571 - val_loss: 0.8398\n",
      "Epoch 7/20\n",
      "83167/83167 [==============================] - 2031s 24ms/step - loss: 0.0568 - val_loss: 0.8394\n",
      "Epoch 8/20\n",
      "83167/83167 [==============================] - 2044s 25ms/step - loss: 0.0567 - val_loss: 0.8375\n",
      "Epoch 9/20\n",
      "83167/83167 [==============================] - 2042s 25ms/step - loss: 0.0565 - val_loss: 0.8375\n",
      "Epoch 10/20\n",
      "83167/83167 [==============================] - 2034s 24ms/step - loss: 0.0563 - val_loss: 0.8379\n",
      "Epoch 11/20\n",
      "83167/83167 [==============================] - 2030s 24ms/step - loss: 0.0562 - val_loss: 0.8359\n",
      "Epoch 12/20\n",
      "83167/83167 [==============================] - 2021s 24ms/step - loss: 0.0561 - val_loss: 0.8379\n",
      "Epoch 13/20\n",
      "83167/83167 [==============================] - 2020s 24ms/step - loss: 0.0560 - val_loss: 0.8364\n",
      "Epoch 14/20\n",
      "83167/83167 [==============================] - 2025s 24ms/step - loss: 0.0560 - val_loss: 0.8367\n",
      "Epoch 15/20\n",
      "83167/83167 [==============================] - 2021s 24ms/step - loss: 0.0559 - val_loss: 0.8346\n",
      "Epoch 16/20\n",
      "83167/83167 [==============================] - 2011s 24ms/step - loss: 0.0559 - val_loss: 0.8360\n",
      "Epoch 17/20\n",
      "83167/83167 [==============================] - 2010s 24ms/step - loss: 0.0558 - val_loss: 0.8369\n",
      "Epoch 18/20\n",
      "83167/83167 [==============================] - 2004s 24ms/step - loss: 0.0557 - val_loss: 0.8340\n",
      "Epoch 19/20\n",
      "83167/83167 [==============================] - 1996s 24ms/step - loss: 0.0557 - val_loss: 0.8348\n",
      "Epoch 20/20\n",
      "83167/83167 [==============================] - 1992s 24ms/step - loss: 0.0557 - val_loss: 0.8362\n"
     ]
    },
    {
     "data": {
      "text/plain": [
       "<keras.callbacks.callbacks.History at 0x2bc804b5828>"
      ]
     },
     "execution_count": 23,
     "metadata": {},
     "output_type": "execute_result"
    }
   ],
   "source": [
    "#train the model\n",
    "model.fit(trainX, trainY, validation_data=(testX, testY), epochs=20)"
   ]
  },
  {
   "cell_type": "code",
   "execution_count": 24,
   "metadata": {},
   "outputs": [
    {
     "name": "stdout",
     "output_type": "stream",
     "text": [
      "20717/20717 [==============================] - 73s 4ms/step\n"
     ]
    }
   ],
   "source": [
    "# evaluate the model\n",
    "score = model.evaluate(testX, testY, verbose=1)"
   ]
  },
  {
   "cell_type": "code",
   "execution_count": 25,
   "metadata": {},
   "outputs": [
    {
     "data": {
      "text/plain": [
       "0.8362384101032215"
      ]
     },
     "execution_count": 25,
     "metadata": {},
     "output_type": "execute_result"
    }
   ],
   "source": [
    "score"
   ]
  },
  {
   "cell_type": "code",
   "execution_count": 26,
   "metadata": {},
   "outputs": [
    {
     "name": "stdout",
     "output_type": "stream",
     "text": [
      "testY shape == (20717, 40).\n"
     ]
    }
   ],
   "source": [
    "# make predictions\n",
    "testPredict = model.predict(testX)\n",
    "testPredict = scaler.inverse_transform(testPredict)\n",
    "testY = scaler.inverse_transform(testY)\n",
    "print('testY shape == {}.'.format(testY.shape))"
   ]
  },
  {
   "cell_type": "code",
   "execution_count": 27,
   "metadata": {},
   "outputs": [],
   "source": [
    "testScore = math.sqrt(mean_squared_error(testY[:,0], testPredict[:,0]))"
   ]
  },
  {
   "cell_type": "code",
   "execution_count": 28,
   "metadata": {},
   "outputs": [
    {
     "data": {
      "text/plain": [
       "0.3888073867675357"
      ]
     },
     "execution_count": 28,
     "metadata": {},
     "output_type": "execute_result"
    }
   ],
   "source": [
    "testScore"
   ]
  },
  {
   "cell_type": "code",
   "execution_count": 32,
   "metadata": {},
   "outputs": [],
   "source": [
    "sample_df = pd.read_csv('vehicle-status-data-0.20.csv')"
   ]
  },
  {
   "cell_type": "code",
   "execution_count": 33,
   "metadata": {},
   "outputs": [
    {
     "data": {
      "text/html": [
       "<div>\n",
       "<style scoped>\n",
       "    .dataframe tbody tr th:only-of-type {\n",
       "        vertical-align: middle;\n",
       "    }\n",
       "\n",
       "    .dataframe tbody tr th {\n",
       "        vertical-align: top;\n",
       "    }\n",
       "\n",
       "    .dataframe thead th {\n",
       "        text-align: right;\n",
       "    }\n",
       "</style>\n",
       "<table border=\"1\" class=\"dataframe\">\n",
       "  <thead>\n",
       "    <tr style=\"text-align: right;\">\n",
       "      <th></th>\n",
       "      <th>VehicleId</th>\n",
       "      <th>VehicleType</th>\n",
       "      <th>SignalGroup</th>\n",
       "      <th>LaneId</th>\n",
       "      <th>ApproachId</th>\n",
       "      <th>LocationOnMap</th>\n",
       "      <th>PhaseStatus</th>\n",
       "      <th>PhaseElapsedTime</th>\n",
       "      <th>Speed</th>\n",
       "      <th>Heading</th>\n",
       "      <th>DistanceToStopBar</th>\n",
       "      <th>CellStatus</th>\n",
       "    </tr>\n",
       "  </thead>\n",
       "  <tbody>\n",
       "    <tr>\n",
       "      <th>0</th>\n",
       "      <td>0.0</td>\n",
       "      <td>0.0</td>\n",
       "      <td>2.0</td>\n",
       "      <td>14.0</td>\n",
       "      <td>5.0</td>\n",
       "      <td>2.0</td>\n",
       "      <td>4.0</td>\n",
       "      <td>0.12</td>\n",
       "      <td>-1.0</td>\n",
       "      <td>-1.0</td>\n",
       "      <td>0.00</td>\n",
       "      <td>0.0</td>\n",
       "    </tr>\n",
       "    <tr>\n",
       "      <th>1</th>\n",
       "      <td>0.0</td>\n",
       "      <td>0.0</td>\n",
       "      <td>2.0</td>\n",
       "      <td>14.0</td>\n",
       "      <td>5.0</td>\n",
       "      <td>2.0</td>\n",
       "      <td>4.0</td>\n",
       "      <td>0.12</td>\n",
       "      <td>-1.0</td>\n",
       "      <td>-1.0</td>\n",
       "      <td>7.62</td>\n",
       "      <td>0.0</td>\n",
       "    </tr>\n",
       "    <tr>\n",
       "      <th>2</th>\n",
       "      <td>0.0</td>\n",
       "      <td>0.0</td>\n",
       "      <td>2.0</td>\n",
       "      <td>14.0</td>\n",
       "      <td>5.0</td>\n",
       "      <td>2.0</td>\n",
       "      <td>4.0</td>\n",
       "      <td>0.12</td>\n",
       "      <td>-1.0</td>\n",
       "      <td>-1.0</td>\n",
       "      <td>15.24</td>\n",
       "      <td>0.0</td>\n",
       "    </tr>\n",
       "    <tr>\n",
       "      <th>3</th>\n",
       "      <td>0.0</td>\n",
       "      <td>0.0</td>\n",
       "      <td>2.0</td>\n",
       "      <td>14.0</td>\n",
       "      <td>5.0</td>\n",
       "      <td>2.0</td>\n",
       "      <td>4.0</td>\n",
       "      <td>0.12</td>\n",
       "      <td>-1.0</td>\n",
       "      <td>-1.0</td>\n",
       "      <td>22.86</td>\n",
       "      <td>0.0</td>\n",
       "    </tr>\n",
       "    <tr>\n",
       "      <th>4</th>\n",
       "      <td>0.0</td>\n",
       "      <td>0.0</td>\n",
       "      <td>2.0</td>\n",
       "      <td>14.0</td>\n",
       "      <td>5.0</td>\n",
       "      <td>2.0</td>\n",
       "      <td>4.0</td>\n",
       "      <td>0.12</td>\n",
       "      <td>-1.0</td>\n",
       "      <td>-1.0</td>\n",
       "      <td>30.48</td>\n",
       "      <td>0.0</td>\n",
       "    </tr>\n",
       "  </tbody>\n",
       "</table>\n",
       "</div>"
      ],
      "text/plain": [
       "   VehicleId  VehicleType  SignalGroup  LaneId  ApproachId  LocationOnMap  \\\n",
       "0        0.0          0.0          2.0    14.0         5.0            2.0   \n",
       "1        0.0          0.0          2.0    14.0         5.0            2.0   \n",
       "2        0.0          0.0          2.0    14.0         5.0            2.0   \n",
       "3        0.0          0.0          2.0    14.0         5.0            2.0   \n",
       "4        0.0          0.0          2.0    14.0         5.0            2.0   \n",
       "\n",
       "   PhaseStatus  PhaseElapsedTime  Speed  Heading  DistanceToStopBar  \\\n",
       "0          4.0              0.12   -1.0     -1.0               0.00   \n",
       "1          4.0              0.12   -1.0     -1.0               7.62   \n",
       "2          4.0              0.12   -1.0     -1.0              15.24   \n",
       "3          4.0              0.12   -1.0     -1.0              22.86   \n",
       "4          4.0              0.12   -1.0     -1.0              30.48   \n",
       "\n",
       "   CellStatus  \n",
       "0         0.0  \n",
       "1         0.0  \n",
       "2         0.0  \n",
       "3         0.0  \n",
       "4         0.0  "
      ]
     },
     "execution_count": 33,
     "metadata": {},
     "output_type": "execute_result"
    }
   ],
   "source": [
    "#variable for training\n",
    "cols = list(sample_df)[2:14]\n",
    "sample_df = sample_df[cols].astype(float)\n",
    "\n",
    "sample_df.head(5)"
   ]
  },
  {
   "cell_type": "code",
   "execution_count": 51,
   "metadata": {},
   "outputs": [],
   "source": [
    "sampleX,sampleY = getProcessedDataSet(sample_df)"
   ]
  },
  {
   "cell_type": "code",
   "execution_count": 52,
   "metadata": {},
   "outputs": [
    {
     "name": "stdout",
     "output_type": "stream",
     "text": [
      "(9837, 40, 6)\n",
      "(9837, 40)\n"
     ]
    }
   ],
   "source": [
    "sampleX = np.array(sampleX)\n",
    "sampleY = np.array(sampleY)\n",
    "print(sampleX.shape)\n",
    "print(sampleY.shape)"
   ]
  },
  {
   "cell_type": "code",
   "execution_count": 53,
   "metadata": {},
   "outputs": [],
   "source": [
    "# scaler = StandardScaler()\n",
    "# scaler = scaler.fit(sampleY)\n",
    "# # sampleY = scaler.transform(sampleY)\n",
    "# print(sampleY.shape)"
   ]
  },
  {
   "cell_type": "code",
   "execution_count": 54,
   "metadata": {},
   "outputs": [],
   "source": [
    "predictionSampleX=[]\n",
    "for i in range (n_past, sampleX.shape[0] - n_future + 1):\n",
    "    predictionSampleX.append(sampleX[i-n_past:i,])    \n",
    "\n",
    "predictionSampleX = np.array(predictionSampleX)"
   ]
  },
  {
   "cell_type": "code",
   "execution_count": 55,
   "metadata": {},
   "outputs": [
    {
     "name": "stdout",
     "output_type": "stream",
     "text": [
      "predictionSampleX shape == (9737, 100, 40, 6).\n",
      "predictionSampleY shape == (9737, 40).\n"
     ]
    }
   ],
   "source": [
    "predictionSampleY=[]\n",
    "predictionSampleY= sampleY[n_past-1:sampleY.shape[0]-1:]\n",
    "print('predictionSampleX shape == {}.'.format(predictionSampleX.shape))\n",
    "print('predictionSampleY shape == {}.'.format(predictionSampleY.shape))"
   ]
  },
  {
   "cell_type": "code",
   "execution_count": 56,
   "metadata": {},
   "outputs": [
    {
     "name": "stdout",
     "output_type": "stream",
     "text": [
      "predictionSampleX shape == (9737, 100, 40, 6, 1).\n"
     ]
    }
   ],
   "source": [
    "predictionSampleX = predictionSampleX.reshape(predictionSampleX.shape[0], predictionSampleX.shape[1], predictionSampleX.shape[2], predictionSampleX.shape[3], 1)\n",
    "print('predictionSampleX shape == {}.'.format(predictionSampleX.shape))"
   ]
  },
  {
   "cell_type": "code",
   "execution_count": 57,
   "metadata": {},
   "outputs": [
    {
     "data": {
      "text/plain": [
       "array([[1., 1., 1., ..., 0., 0., 0.],\n",
       "       [1., 1., 1., ..., 0., 0., 0.],\n",
       "       [1., 1., 1., ..., 0., 0., 0.],\n",
       "       ...,\n",
       "       [0., 1., 1., ..., 0., 0., 0.],\n",
       "       [1., 0., 1., ..., 0., 0., 0.],\n",
       "       [1., 0., 1., ..., 0., 0., 0.]])"
      ]
     },
     "execution_count": 57,
     "metadata": {},
     "output_type": "execute_result"
    }
   ],
   "source": [
    "predictionSampleY"
   ]
  },
  {
   "cell_type": "code",
   "execution_count": 58,
   "metadata": {},
   "outputs": [
    {
     "name": "stdout",
     "output_type": "stream",
     "text": [
      "[[0.9602231  0.9485737  0.9713126  ... 0.04144568 0.04620755 0.05508861]\n",
      " [0.9630804  0.9460144  0.9781457  ... 0.03969185 0.0455633  0.05472898]\n",
      " [0.9394448  0.92801714 0.93221676 ... 0.08259769 0.08311874 0.06747714]\n",
      " ...\n",
      " [0.09635562 0.97541213 0.92279625 ... 0.08764454 0.0640429  0.04833072]\n",
      " [0.9617469  0.1345338  0.8912692  ... 0.07143436 0.05434237 0.03554437]\n",
      " [0.9491525  0.13955495 0.8950623  ... 0.09249301 0.0807277  0.04605099]]\n"
     ]
    }
   ],
   "source": [
    "samplePredict = model.predict(predictionSampleX)\n",
    "print(samplePredict)"
   ]
  },
  {
   "cell_type": "code",
   "execution_count": 59,
   "metadata": {},
   "outputs": [
    {
     "name": "stdout",
     "output_type": "stream",
     "text": [
      "predictionSampleY shape == (9737, 40).\n"
     ]
    }
   ],
   "source": [
    "samplePredict = scaler.inverse_transform(samplePredict)\n",
    "predictionSampleY = scaler.inverse_transform(predictionSampleY)\n",
    "print('predictionSampleY shape == {}.'.format(predictionSampleY.shape))"
   ]
  },
  {
   "cell_type": "code",
   "execution_count": 60,
   "metadata": {},
   "outputs": [
    {
     "data": {
      "text/plain": [
       "array([[1.0181992 , 0.9523477 , 0.89200014, ..., 0.09211352, 0.09493516,\n",
       "        0.08343454],\n",
       "       [1.0196233 , 0.95106924, 0.89536536, ..., 0.09163551, 0.09475816,\n",
       "        0.08334313],\n",
       "       [1.0078427 , 0.94207895, 0.872746  , ..., 0.10332968, 0.1050758 ,\n",
       "        0.08658354],\n",
       "       ...,\n",
       "       [0.5876219 , 0.9657545 , 0.8681065 , ..., 0.10470522, 0.09983508,\n",
       "        0.08171678],\n",
       "       [1.0189587 , 0.54570425, 0.8525799 , ..., 0.10028707, 0.09717005,\n",
       "        0.07846665],\n",
       "       [1.0126812 , 0.54821247, 0.85444796, ..., 0.10602669, 0.1044189 ,\n",
       "        0.08113729]], dtype=float32)"
      ]
     },
     "execution_count": 60,
     "metadata": {},
     "output_type": "execute_result"
    }
   ],
   "source": [
    "samplePredict"
   ]
  },
  {
   "cell_type": "code",
   "execution_count": 61,
   "metadata": {},
   "outputs": [
    {
     "data": {
      "text/plain": [
       "array([[1.03802514, 0.97803706, 0.90612827, ..., 0.08081732, 0.08224052,\n",
       "        0.06943174],\n",
       "       [1.03802514, 0.97803706, 0.90612827, ..., 0.08081732, 0.08224052,\n",
       "        0.06943174],\n",
       "       [1.03802514, 0.97803706, 0.90612827, ..., 0.08081732, 0.08224052,\n",
       "        0.06943174],\n",
       "       ...,\n",
       "       [0.53959541, 0.97803706, 0.90612827, ..., 0.08081732, 0.08224052,\n",
       "        0.06943174],\n",
       "       [1.03802514, 0.47849954, 0.90612827, ..., 0.08081732, 0.08224052,\n",
       "        0.06943174],\n",
       "       [1.03802514, 0.47849954, 0.90612827, ..., 0.08081732, 0.08224052,\n",
       "        0.06943174]])"
      ]
     },
     "execution_count": 61,
     "metadata": {},
     "output_type": "execute_result"
    }
   ],
   "source": [
    "predictionSampleY"
   ]
  },
  {
   "cell_type": "code",
   "execution_count": 62,
   "metadata": {},
   "outputs": [],
   "source": [
    "predictionSampleScore = math.sqrt(mean_squared_error(predictionSampleY[:,0], samplePredict[:,0]))"
   ]
  },
  {
   "cell_type": "code",
   "execution_count": 63,
   "metadata": {},
   "outputs": [
    {
     "data": {
      "text/plain": [
       "0.03808314194476248"
      ]
     },
     "execution_count": 63,
     "metadata": {},
     "output_type": "execute_result"
    }
   ],
   "source": [
    "predictionSampleScore"
   ]
  },
  {
   "cell_type": "code",
   "execution_count": 67,
   "metadata": {},
   "outputs": [
    {
     "name": "stdout",
     "output_type": "stream",
     "text": [
      "4000\n"
     ]
    }
   ],
   "source": [
    "sample_Df = pd.read_csv('prediction-sample-data.csv')\n",
    "\n",
    "noOfcells = sample_Df['NoOfCells'][0]\n",
    "print(sample_Df.shape[0])"
   ]
  },
  {
   "cell_type": "code",
   "execution_count": 68,
   "metadata": {},
   "outputs": [
    {
     "data": {
      "text/plain": [
       "['VehicleId',\n",
       " 'VehicleType',\n",
       " 'SignalGroup',\n",
       " 'LaneId',\n",
       " 'ApproachId',\n",
       " 'LocationOnMap',\n",
       " 'PhaseStatus',\n",
       " 'PhaseElapsedTime',\n",
       " 'Speed',\n",
       " 'Heading',\n",
       " 'DistanceToStopBar',\n",
       " 'CellStatus']"
      ]
     },
     "execution_count": 68,
     "metadata": {},
     "output_type": "execute_result"
    }
   ],
   "source": [
    "cols = list(sample_Df)[2:14]\n",
    "cols"
   ]
  },
  {
   "cell_type": "code",
   "execution_count": 69,
   "metadata": {},
   "outputs": [
    {
     "data": {
      "text/html": [
       "<div>\n",
       "<style scoped>\n",
       "    .dataframe tbody tr th:only-of-type {\n",
       "        vertical-align: middle;\n",
       "    }\n",
       "\n",
       "    .dataframe tbody tr th {\n",
       "        vertical-align: top;\n",
       "    }\n",
       "\n",
       "    .dataframe thead th {\n",
       "        text-align: right;\n",
       "    }\n",
       "</style>\n",
       "<table border=\"1\" class=\"dataframe\">\n",
       "  <thead>\n",
       "    <tr style=\"text-align: right;\">\n",
       "      <th></th>\n",
       "      <th>VehicleId</th>\n",
       "      <th>VehicleType</th>\n",
       "      <th>SignalGroup</th>\n",
       "      <th>LaneId</th>\n",
       "      <th>ApproachId</th>\n",
       "      <th>LocationOnMap</th>\n",
       "      <th>PhaseStatus</th>\n",
       "      <th>PhaseElapsedTime</th>\n",
       "      <th>Speed</th>\n",
       "      <th>Heading</th>\n",
       "      <th>DistanceToStopBar</th>\n",
       "      <th>CellStatus</th>\n",
       "    </tr>\n",
       "  </thead>\n",
       "  <tbody>\n",
       "    <tr>\n",
       "      <th>0</th>\n",
       "      <td>31.0</td>\n",
       "      <td>4.0</td>\n",
       "      <td>2.0</td>\n",
       "      <td>14.0</td>\n",
       "      <td>5.0</td>\n",
       "      <td>2.0</td>\n",
       "      <td>4.0</td>\n",
       "      <td>18.79</td>\n",
       "      <td>0.67</td>\n",
       "      <td>89.14</td>\n",
       "      <td>1.0</td>\n",
       "      <td>1.0</td>\n",
       "    </tr>\n",
       "    <tr>\n",
       "      <th>1</th>\n",
       "      <td>32.0</td>\n",
       "      <td>4.0</td>\n",
       "      <td>2.0</td>\n",
       "      <td>14.0</td>\n",
       "      <td>5.0</td>\n",
       "      <td>2.0</td>\n",
       "      <td>4.0</td>\n",
       "      <td>18.79</td>\n",
       "      <td>4.44</td>\n",
       "      <td>89.14</td>\n",
       "      <td>12.0</td>\n",
       "      <td>1.0</td>\n",
       "    </tr>\n",
       "    <tr>\n",
       "      <th>2</th>\n",
       "      <td>0.0</td>\n",
       "      <td>0.0</td>\n",
       "      <td>2.0</td>\n",
       "      <td>14.0</td>\n",
       "      <td>5.0</td>\n",
       "      <td>2.0</td>\n",
       "      <td>4.0</td>\n",
       "      <td>18.79</td>\n",
       "      <td>-1.00</td>\n",
       "      <td>-1.00</td>\n",
       "      <td>0.0</td>\n",
       "      <td>0.0</td>\n",
       "    </tr>\n",
       "    <tr>\n",
       "      <th>3</th>\n",
       "      <td>33.0</td>\n",
       "      <td>4.0</td>\n",
       "      <td>2.0</td>\n",
       "      <td>14.0</td>\n",
       "      <td>5.0</td>\n",
       "      <td>2.0</td>\n",
       "      <td>4.0</td>\n",
       "      <td>18.79</td>\n",
       "      <td>7.18</td>\n",
       "      <td>89.18</td>\n",
       "      <td>25.0</td>\n",
       "      <td>1.0</td>\n",
       "    </tr>\n",
       "    <tr>\n",
       "      <th>4</th>\n",
       "      <td>0.0</td>\n",
       "      <td>0.0</td>\n",
       "      <td>2.0</td>\n",
       "      <td>14.0</td>\n",
       "      <td>5.0</td>\n",
       "      <td>2.0</td>\n",
       "      <td>4.0</td>\n",
       "      <td>18.79</td>\n",
       "      <td>-1.00</td>\n",
       "      <td>-1.00</td>\n",
       "      <td>0.0</td>\n",
       "      <td>0.0</td>\n",
       "    </tr>\n",
       "  </tbody>\n",
       "</table>\n",
       "</div>"
      ],
      "text/plain": [
       "   VehicleId  VehicleType  SignalGroup  LaneId  ApproachId  LocationOnMap  \\\n",
       "0       31.0          4.0          2.0    14.0         5.0            2.0   \n",
       "1       32.0          4.0          2.0    14.0         5.0            2.0   \n",
       "2        0.0          0.0          2.0    14.0         5.0            2.0   \n",
       "3       33.0          4.0          2.0    14.0         5.0            2.0   \n",
       "4        0.0          0.0          2.0    14.0         5.0            2.0   \n",
       "\n",
       "   PhaseStatus  PhaseElapsedTime  Speed  Heading  DistanceToStopBar  \\\n",
       "0          4.0             18.79   0.67    89.14                1.0   \n",
       "1          4.0             18.79   4.44    89.14               12.0   \n",
       "2          4.0             18.79  -1.00    -1.00                0.0   \n",
       "3          4.0             18.79   7.18    89.18               25.0   \n",
       "4          4.0             18.79  -1.00    -1.00                0.0   \n",
       "\n",
       "   CellStatus  \n",
       "0         1.0  \n",
       "1         1.0  \n",
       "2         0.0  \n",
       "3         1.0  \n",
       "4         0.0  "
      ]
     },
     "execution_count": 69,
     "metadata": {},
     "output_type": "execute_result"
    }
   ],
   "source": [
    "sample_Df = sample_Df[cols].astype(float)\n",
    "\n",
    "sample_Df.head(5)"
   ]
  },
  {
   "cell_type": "code",
   "execution_count": 70,
   "metadata": {},
   "outputs": [
    {
     "name": "stdout",
     "output_type": "stream",
     "text": [
      "(100, 40, 6)\n",
      "(100, 40)\n"
     ]
    }
   ],
   "source": [
    "sample_inputX, sample_inputY = getProcessedDataSet(sample_Df)\n",
    "sample_inputX = np.array(sample_inputX)\n",
    "sample_inputY = np.array(sample_inputY)\n",
    "print(sample_inputX.shape)\n",
    "print(sample_inputY.shape)"
   ]
  },
  {
   "cell_type": "code",
   "execution_count": 71,
   "metadata": {},
   "outputs": [
    {
     "name": "stdout",
     "output_type": "stream",
     "text": [
      "[]\n"
     ]
    }
   ],
   "source": [
    "n_future = 1 #Number of days we want to predict into the future\n",
    "n_past = 100 #Number of past days we want to use to predict the future\n",
    "sampleX = []\n",
    "for i in range (n_past, sample_inputX.shape[0] - n_future + 1):\n",
    "    sampleX.append(sample_inputX[i-n_past:i,])\n",
    "    \n",
    "sampleX = np.array(sampleX)\n",
    "print(sampleX)"
   ]
  },
  {
   "cell_type": "code",
   "execution_count": 72,
   "metadata": {},
   "outputs": [
    {
     "name": "stdout",
     "output_type": "stream",
     "text": [
      "(1, 100, 40, 6, 1)\n"
     ]
    }
   ],
   "source": [
    "sampleX = sample_inputX.reshape(1, sample_inputX.shape[0], sample_inputX.shape[1], sample_inputX.shape[2], 1)\n",
    "print(sampleX.shape)"
   ]
  },
  {
   "cell_type": "code",
   "execution_count": 73,
   "metadata": {},
   "outputs": [],
   "source": [
    "samplePrediction = model.predict(sampleX)"
   ]
  },
  {
   "cell_type": "code",
   "execution_count": 74,
   "metadata": {
    "scrolled": true
   },
   "outputs": [
    {
     "data": {
      "text/plain": [
       "array([[ 9.5997381e-01,  1.0337105e+00,  9.5625204e-01,  9.6662784e-01,\n",
       "         9.5631260e-01,  9.4086850e-01,  8.6684823e-01,  8.2404900e-01,\n",
       "         8.3637089e-02,  7.2162665e-02,  6.4147472e-02,  1.2329131e-02,\n",
       "        -6.8371221e-03,  5.4844521e-02,  4.9463253e-02,  5.7829302e-02,\n",
       "         9.9703498e-02,  7.6690726e-02,  5.7222210e-02,  9.0006843e-02,\n",
       "         4.1198902e-02,  3.4353942e-02,  7.9938546e-03,  5.0706111e-02,\n",
       "        -4.4753775e-03, -7.9254061e-04,  2.0731576e-02,  1.6481154e-02,\n",
       "         4.8128515e-04, -1.8740557e-02,  3.7844405e-02,  3.1452712e-02,\n",
       "         1.6696431e-02,  5.6938179e-02,  5.0752200e-02,  8.5204430e-02,\n",
       "         8.2632586e-02,  1.1954935e-01,  8.3294928e-02,  5.2072488e-02]],\n",
       "      dtype=float32)"
      ]
     },
     "execution_count": 74,
     "metadata": {},
     "output_type": "execute_result"
    }
   ],
   "source": [
    "samplePrediction"
   ]
  },
  {
   "cell_type": "code",
   "execution_count": 75,
   "metadata": {},
   "outputs": [],
   "source": [
    "samplePrediction = scaler.inverse_transform(samplePrediction)"
   ]
  },
  {
   "cell_type": "code",
   "execution_count": 76,
   "metadata": {},
   "outputs": [
    {
     "data": {
      "text/plain": [
       "array([[1.0180749 , 0.9948767 , 0.884583  , 0.8419657 , 0.7752515 ,\n",
       "        0.6657973 , 0.56146663, 0.42514566, 0.15370353, 0.1395399 ,\n",
       "        0.1084322 , 0.101973  , 0.09052688, 0.09576543, 0.0993242 ,\n",
       "        0.08958975, 0.11395538, 0.1037638 , 0.08843028, 0.10523334,\n",
       "        0.0947471 , 0.08128144, 0.08371641, 0.08507782, 0.08020329,\n",
       "        0.08232739, 0.07743625, 0.08687261, 0.0711819 , 0.07798085,\n",
       "        0.09220748, 0.07988799, 0.0856808 , 0.09644663, 0.08365647,\n",
       "        0.10541912, 0.09124674, 0.11340102, 0.10512421, 0.08266788]],\n",
       "      dtype=float32)"
      ]
     },
     "execution_count": 76,
     "metadata": {},
     "output_type": "execute_result"
    }
   ],
   "source": [
    "samplePrediction"
   ]
  },
  {
   "cell_type": "code",
   "execution_count": 81,
   "metadata": {},
   "outputs": [
    {
     "data": {
      "text/html": [
       "<div>\n",
       "<style scoped>\n",
       "    .dataframe tbody tr th:only-of-type {\n",
       "        vertical-align: middle;\n",
       "    }\n",
       "\n",
       "    .dataframe tbody tr th {\n",
       "        vertical-align: top;\n",
       "    }\n",
       "\n",
       "    .dataframe thead th {\n",
       "        text-align: right;\n",
       "    }\n",
       "</style>\n",
       "<table border=\"1\" class=\"dataframe\">\n",
       "  <thead>\n",
       "    <tr style=\"text-align: right;\">\n",
       "      <th></th>\n",
       "      <th>VehicleId</th>\n",
       "      <th>VehicleType</th>\n",
       "      <th>SignalGroup</th>\n",
       "      <th>LaneId</th>\n",
       "      <th>ApproachId</th>\n",
       "      <th>LocationOnMap</th>\n",
       "      <th>PhaseStatus</th>\n",
       "      <th>PhaseElapsedTime</th>\n",
       "      <th>Speed</th>\n",
       "      <th>Heading</th>\n",
       "      <th>DistanceToStopBar</th>\n",
       "      <th>CellStatus</th>\n",
       "    </tr>\n",
       "  </thead>\n",
       "  <tbody>\n",
       "    <tr>\n",
       "      <th>3960</th>\n",
       "      <td>31.0</td>\n",
       "      <td>4.0</td>\n",
       "      <td>2.0</td>\n",
       "      <td>14.0</td>\n",
       "      <td>5.0</td>\n",
       "      <td>2.0</td>\n",
       "      <td>4.0</td>\n",
       "      <td>36.16</td>\n",
       "      <td>0.00</td>\n",
       "      <td>89.14</td>\n",
       "      <td>1.0</td>\n",
       "      <td>1.0</td>\n",
       "    </tr>\n",
       "    <tr>\n",
       "      <th>3961</th>\n",
       "      <td>33.0</td>\n",
       "      <td>4.0</td>\n",
       "      <td>2.0</td>\n",
       "      <td>14.0</td>\n",
       "      <td>5.0</td>\n",
       "      <td>2.0</td>\n",
       "      <td>4.0</td>\n",
       "      <td>36.16</td>\n",
       "      <td>0.00</td>\n",
       "      <td>89.14</td>\n",
       "      <td>14.0</td>\n",
       "      <td>1.0</td>\n",
       "    </tr>\n",
       "    <tr>\n",
       "      <th>3962</th>\n",
       "      <td>34.0</td>\n",
       "      <td>4.0</td>\n",
       "      <td>2.0</td>\n",
       "      <td>14.0</td>\n",
       "      <td>5.0</td>\n",
       "      <td>2.0</td>\n",
       "      <td>4.0</td>\n",
       "      <td>36.16</td>\n",
       "      <td>0.00</td>\n",
       "      <td>89.15</td>\n",
       "      <td>21.0</td>\n",
       "      <td>1.0</td>\n",
       "    </tr>\n",
       "    <tr>\n",
       "      <th>3963</th>\n",
       "      <td>35.0</td>\n",
       "      <td>4.0</td>\n",
       "      <td>2.0</td>\n",
       "      <td>14.0</td>\n",
       "      <td>5.0</td>\n",
       "      <td>2.0</td>\n",
       "      <td>4.0</td>\n",
       "      <td>36.16</td>\n",
       "      <td>0.00</td>\n",
       "      <td>89.21</td>\n",
       "      <td>27.0</td>\n",
       "      <td>1.0</td>\n",
       "    </tr>\n",
       "    <tr>\n",
       "      <th>3964</th>\n",
       "      <td>36.0</td>\n",
       "      <td>4.0</td>\n",
       "      <td>2.0</td>\n",
       "      <td>14.0</td>\n",
       "      <td>5.0</td>\n",
       "      <td>2.0</td>\n",
       "      <td>4.0</td>\n",
       "      <td>36.16</td>\n",
       "      <td>0.00</td>\n",
       "      <td>89.79</td>\n",
       "      <td>33.0</td>\n",
       "      <td>1.0</td>\n",
       "    </tr>\n",
       "    <tr>\n",
       "      <th>3965</th>\n",
       "      <td>37.0</td>\n",
       "      <td>4.0</td>\n",
       "      <td>2.0</td>\n",
       "      <td>14.0</td>\n",
       "      <td>5.0</td>\n",
       "      <td>2.0</td>\n",
       "      <td>4.0</td>\n",
       "      <td>36.16</td>\n",
       "      <td>0.00</td>\n",
       "      <td>90.13</td>\n",
       "      <td>40.0</td>\n",
       "      <td>1.0</td>\n",
       "    </tr>\n",
       "    <tr>\n",
       "      <th>3966</th>\n",
       "      <td>38.0</td>\n",
       "      <td>4.0</td>\n",
       "      <td>2.0</td>\n",
       "      <td>14.0</td>\n",
       "      <td>5.0</td>\n",
       "      <td>2.0</td>\n",
       "      <td>4.0</td>\n",
       "      <td>36.16</td>\n",
       "      <td>0.06</td>\n",
       "      <td>90.13</td>\n",
       "      <td>46.0</td>\n",
       "      <td>1.0</td>\n",
       "    </tr>\n",
       "    <tr>\n",
       "      <th>3967</th>\n",
       "      <td>39.0</td>\n",
       "      <td>4.0</td>\n",
       "      <td>2.0</td>\n",
       "      <td>14.0</td>\n",
       "      <td>5.0</td>\n",
       "      <td>2.0</td>\n",
       "      <td>4.0</td>\n",
       "      <td>36.16</td>\n",
       "      <td>5.15</td>\n",
       "      <td>90.13</td>\n",
       "      <td>59.0</td>\n",
       "      <td>1.0</td>\n",
       "    </tr>\n",
       "    <tr>\n",
       "      <th>3968</th>\n",
       "      <td>0.0</td>\n",
       "      <td>0.0</td>\n",
       "      <td>2.0</td>\n",
       "      <td>14.0</td>\n",
       "      <td>5.0</td>\n",
       "      <td>2.0</td>\n",
       "      <td>4.0</td>\n",
       "      <td>36.16</td>\n",
       "      <td>-1.00</td>\n",
       "      <td>-1.00</td>\n",
       "      <td>0.0</td>\n",
       "      <td>0.0</td>\n",
       "    </tr>\n",
       "    <tr>\n",
       "      <th>3969</th>\n",
       "      <td>0.0</td>\n",
       "      <td>0.0</td>\n",
       "      <td>2.0</td>\n",
       "      <td>14.0</td>\n",
       "      <td>5.0</td>\n",
       "      <td>2.0</td>\n",
       "      <td>4.0</td>\n",
       "      <td>36.16</td>\n",
       "      <td>-1.00</td>\n",
       "      <td>-1.00</td>\n",
       "      <td>0.0</td>\n",
       "      <td>0.0</td>\n",
       "    </tr>\n",
       "    <tr>\n",
       "      <th>3970</th>\n",
       "      <td>0.0</td>\n",
       "      <td>0.0</td>\n",
       "      <td>2.0</td>\n",
       "      <td>14.0</td>\n",
       "      <td>5.0</td>\n",
       "      <td>2.0</td>\n",
       "      <td>4.0</td>\n",
       "      <td>36.16</td>\n",
       "      <td>-1.00</td>\n",
       "      <td>-1.00</td>\n",
       "      <td>0.0</td>\n",
       "      <td>0.0</td>\n",
       "    </tr>\n",
       "    <tr>\n",
       "      <th>3971</th>\n",
       "      <td>0.0</td>\n",
       "      <td>0.0</td>\n",
       "      <td>2.0</td>\n",
       "      <td>14.0</td>\n",
       "      <td>5.0</td>\n",
       "      <td>2.0</td>\n",
       "      <td>4.0</td>\n",
       "      <td>36.16</td>\n",
       "      <td>-1.00</td>\n",
       "      <td>-1.00</td>\n",
       "      <td>0.0</td>\n",
       "      <td>0.0</td>\n",
       "    </tr>\n",
       "    <tr>\n",
       "      <th>3972</th>\n",
       "      <td>0.0</td>\n",
       "      <td>0.0</td>\n",
       "      <td>2.0</td>\n",
       "      <td>14.0</td>\n",
       "      <td>5.0</td>\n",
       "      <td>2.0</td>\n",
       "      <td>4.0</td>\n",
       "      <td>36.16</td>\n",
       "      <td>-1.00</td>\n",
       "      <td>-1.00</td>\n",
       "      <td>0.0</td>\n",
       "      <td>0.0</td>\n",
       "    </tr>\n",
       "    <tr>\n",
       "      <th>3973</th>\n",
       "      <td>0.0</td>\n",
       "      <td>0.0</td>\n",
       "      <td>2.0</td>\n",
       "      <td>14.0</td>\n",
       "      <td>5.0</td>\n",
       "      <td>2.0</td>\n",
       "      <td>4.0</td>\n",
       "      <td>36.16</td>\n",
       "      <td>-1.00</td>\n",
       "      <td>-1.00</td>\n",
       "      <td>0.0</td>\n",
       "      <td>0.0</td>\n",
       "    </tr>\n",
       "    <tr>\n",
       "      <th>3974</th>\n",
       "      <td>0.0</td>\n",
       "      <td>0.0</td>\n",
       "      <td>2.0</td>\n",
       "      <td>14.0</td>\n",
       "      <td>5.0</td>\n",
       "      <td>2.0</td>\n",
       "      <td>4.0</td>\n",
       "      <td>36.16</td>\n",
       "      <td>-1.00</td>\n",
       "      <td>-1.00</td>\n",
       "      <td>0.0</td>\n",
       "      <td>0.0</td>\n",
       "    </tr>\n",
       "    <tr>\n",
       "      <th>3975</th>\n",
       "      <td>0.0</td>\n",
       "      <td>0.0</td>\n",
       "      <td>2.0</td>\n",
       "      <td>14.0</td>\n",
       "      <td>5.0</td>\n",
       "      <td>2.0</td>\n",
       "      <td>4.0</td>\n",
       "      <td>36.16</td>\n",
       "      <td>-1.00</td>\n",
       "      <td>-1.00</td>\n",
       "      <td>0.0</td>\n",
       "      <td>0.0</td>\n",
       "    </tr>\n",
       "    <tr>\n",
       "      <th>3976</th>\n",
       "      <td>0.0</td>\n",
       "      <td>0.0</td>\n",
       "      <td>2.0</td>\n",
       "      <td>14.0</td>\n",
       "      <td>5.0</td>\n",
       "      <td>2.0</td>\n",
       "      <td>4.0</td>\n",
       "      <td>36.16</td>\n",
       "      <td>-1.00</td>\n",
       "      <td>-1.00</td>\n",
       "      <td>0.0</td>\n",
       "      <td>0.0</td>\n",
       "    </tr>\n",
       "    <tr>\n",
       "      <th>3977</th>\n",
       "      <td>0.0</td>\n",
       "      <td>0.0</td>\n",
       "      <td>2.0</td>\n",
       "      <td>14.0</td>\n",
       "      <td>5.0</td>\n",
       "      <td>2.0</td>\n",
       "      <td>4.0</td>\n",
       "      <td>36.16</td>\n",
       "      <td>-1.00</td>\n",
       "      <td>-1.00</td>\n",
       "      <td>0.0</td>\n",
       "      <td>0.0</td>\n",
       "    </tr>\n",
       "    <tr>\n",
       "      <th>3978</th>\n",
       "      <td>0.0</td>\n",
       "      <td>0.0</td>\n",
       "      <td>2.0</td>\n",
       "      <td>14.0</td>\n",
       "      <td>5.0</td>\n",
       "      <td>2.0</td>\n",
       "      <td>4.0</td>\n",
       "      <td>36.16</td>\n",
       "      <td>-1.00</td>\n",
       "      <td>-1.00</td>\n",
       "      <td>0.0</td>\n",
       "      <td>0.0</td>\n",
       "    </tr>\n",
       "    <tr>\n",
       "      <th>3979</th>\n",
       "      <td>0.0</td>\n",
       "      <td>0.0</td>\n",
       "      <td>2.0</td>\n",
       "      <td>14.0</td>\n",
       "      <td>5.0</td>\n",
       "      <td>2.0</td>\n",
       "      <td>4.0</td>\n",
       "      <td>36.16</td>\n",
       "      <td>-1.00</td>\n",
       "      <td>-1.00</td>\n",
       "      <td>0.0</td>\n",
       "      <td>0.0</td>\n",
       "    </tr>\n",
       "    <tr>\n",
       "      <th>3980</th>\n",
       "      <td>0.0</td>\n",
       "      <td>0.0</td>\n",
       "      <td>2.0</td>\n",
       "      <td>14.0</td>\n",
       "      <td>5.0</td>\n",
       "      <td>2.0</td>\n",
       "      <td>4.0</td>\n",
       "      <td>36.16</td>\n",
       "      <td>-1.00</td>\n",
       "      <td>-1.00</td>\n",
       "      <td>0.0</td>\n",
       "      <td>0.0</td>\n",
       "    </tr>\n",
       "    <tr>\n",
       "      <th>3981</th>\n",
       "      <td>0.0</td>\n",
       "      <td>0.0</td>\n",
       "      <td>2.0</td>\n",
       "      <td>14.0</td>\n",
       "      <td>5.0</td>\n",
       "      <td>2.0</td>\n",
       "      <td>4.0</td>\n",
       "      <td>36.16</td>\n",
       "      <td>-1.00</td>\n",
       "      <td>-1.00</td>\n",
       "      <td>0.0</td>\n",
       "      <td>0.0</td>\n",
       "    </tr>\n",
       "    <tr>\n",
       "      <th>3982</th>\n",
       "      <td>0.0</td>\n",
       "      <td>0.0</td>\n",
       "      <td>2.0</td>\n",
       "      <td>14.0</td>\n",
       "      <td>5.0</td>\n",
       "      <td>2.0</td>\n",
       "      <td>4.0</td>\n",
       "      <td>36.16</td>\n",
       "      <td>-1.00</td>\n",
       "      <td>-1.00</td>\n",
       "      <td>0.0</td>\n",
       "      <td>0.0</td>\n",
       "    </tr>\n",
       "    <tr>\n",
       "      <th>3983</th>\n",
       "      <td>0.0</td>\n",
       "      <td>0.0</td>\n",
       "      <td>2.0</td>\n",
       "      <td>14.0</td>\n",
       "      <td>5.0</td>\n",
       "      <td>2.0</td>\n",
       "      <td>4.0</td>\n",
       "      <td>36.16</td>\n",
       "      <td>-1.00</td>\n",
       "      <td>-1.00</td>\n",
       "      <td>0.0</td>\n",
       "      <td>0.0</td>\n",
       "    </tr>\n",
       "    <tr>\n",
       "      <th>3984</th>\n",
       "      <td>0.0</td>\n",
       "      <td>0.0</td>\n",
       "      <td>2.0</td>\n",
       "      <td>14.0</td>\n",
       "      <td>5.0</td>\n",
       "      <td>2.0</td>\n",
       "      <td>4.0</td>\n",
       "      <td>36.16</td>\n",
       "      <td>-1.00</td>\n",
       "      <td>-1.00</td>\n",
       "      <td>0.0</td>\n",
       "      <td>0.0</td>\n",
       "    </tr>\n",
       "    <tr>\n",
       "      <th>3985</th>\n",
       "      <td>0.0</td>\n",
       "      <td>0.0</td>\n",
       "      <td>2.0</td>\n",
       "      <td>14.0</td>\n",
       "      <td>5.0</td>\n",
       "      <td>2.0</td>\n",
       "      <td>4.0</td>\n",
       "      <td>36.16</td>\n",
       "      <td>-1.00</td>\n",
       "      <td>-1.00</td>\n",
       "      <td>0.0</td>\n",
       "      <td>0.0</td>\n",
       "    </tr>\n",
       "    <tr>\n",
       "      <th>3986</th>\n",
       "      <td>0.0</td>\n",
       "      <td>0.0</td>\n",
       "      <td>2.0</td>\n",
       "      <td>14.0</td>\n",
       "      <td>5.0</td>\n",
       "      <td>2.0</td>\n",
       "      <td>4.0</td>\n",
       "      <td>36.16</td>\n",
       "      <td>-1.00</td>\n",
       "      <td>-1.00</td>\n",
       "      <td>0.0</td>\n",
       "      <td>0.0</td>\n",
       "    </tr>\n",
       "    <tr>\n",
       "      <th>3987</th>\n",
       "      <td>0.0</td>\n",
       "      <td>0.0</td>\n",
       "      <td>2.0</td>\n",
       "      <td>14.0</td>\n",
       "      <td>5.0</td>\n",
       "      <td>2.0</td>\n",
       "      <td>4.0</td>\n",
       "      <td>36.16</td>\n",
       "      <td>-1.00</td>\n",
       "      <td>-1.00</td>\n",
       "      <td>0.0</td>\n",
       "      <td>0.0</td>\n",
       "    </tr>\n",
       "    <tr>\n",
       "      <th>3988</th>\n",
       "      <td>0.0</td>\n",
       "      <td>0.0</td>\n",
       "      <td>2.0</td>\n",
       "      <td>14.0</td>\n",
       "      <td>5.0</td>\n",
       "      <td>2.0</td>\n",
       "      <td>4.0</td>\n",
       "      <td>36.16</td>\n",
       "      <td>-1.00</td>\n",
       "      <td>-1.00</td>\n",
       "      <td>0.0</td>\n",
       "      <td>0.0</td>\n",
       "    </tr>\n",
       "    <tr>\n",
       "      <th>3989</th>\n",
       "      <td>0.0</td>\n",
       "      <td>0.0</td>\n",
       "      <td>2.0</td>\n",
       "      <td>14.0</td>\n",
       "      <td>5.0</td>\n",
       "      <td>2.0</td>\n",
       "      <td>4.0</td>\n",
       "      <td>36.16</td>\n",
       "      <td>-1.00</td>\n",
       "      <td>-1.00</td>\n",
       "      <td>0.0</td>\n",
       "      <td>0.0</td>\n",
       "    </tr>\n",
       "    <tr>\n",
       "      <th>3990</th>\n",
       "      <td>0.0</td>\n",
       "      <td>0.0</td>\n",
       "      <td>2.0</td>\n",
       "      <td>14.0</td>\n",
       "      <td>5.0</td>\n",
       "      <td>2.0</td>\n",
       "      <td>4.0</td>\n",
       "      <td>36.16</td>\n",
       "      <td>-1.00</td>\n",
       "      <td>-1.00</td>\n",
       "      <td>0.0</td>\n",
       "      <td>0.0</td>\n",
       "    </tr>\n",
       "    <tr>\n",
       "      <th>3991</th>\n",
       "      <td>0.0</td>\n",
       "      <td>0.0</td>\n",
       "      <td>2.0</td>\n",
       "      <td>14.0</td>\n",
       "      <td>5.0</td>\n",
       "      <td>2.0</td>\n",
       "      <td>4.0</td>\n",
       "      <td>36.16</td>\n",
       "      <td>-1.00</td>\n",
       "      <td>-1.00</td>\n",
       "      <td>0.0</td>\n",
       "      <td>0.0</td>\n",
       "    </tr>\n",
       "    <tr>\n",
       "      <th>3992</th>\n",
       "      <td>0.0</td>\n",
       "      <td>0.0</td>\n",
       "      <td>2.0</td>\n",
       "      <td>14.0</td>\n",
       "      <td>5.0</td>\n",
       "      <td>2.0</td>\n",
       "      <td>4.0</td>\n",
       "      <td>36.16</td>\n",
       "      <td>-1.00</td>\n",
       "      <td>-1.00</td>\n",
       "      <td>0.0</td>\n",
       "      <td>0.0</td>\n",
       "    </tr>\n",
       "    <tr>\n",
       "      <th>3993</th>\n",
       "      <td>0.0</td>\n",
       "      <td>0.0</td>\n",
       "      <td>2.0</td>\n",
       "      <td>14.0</td>\n",
       "      <td>5.0</td>\n",
       "      <td>2.0</td>\n",
       "      <td>4.0</td>\n",
       "      <td>36.16</td>\n",
       "      <td>-1.00</td>\n",
       "      <td>-1.00</td>\n",
       "      <td>0.0</td>\n",
       "      <td>0.0</td>\n",
       "    </tr>\n",
       "    <tr>\n",
       "      <th>3994</th>\n",
       "      <td>0.0</td>\n",
       "      <td>0.0</td>\n",
       "      <td>2.0</td>\n",
       "      <td>14.0</td>\n",
       "      <td>5.0</td>\n",
       "      <td>2.0</td>\n",
       "      <td>4.0</td>\n",
       "      <td>36.16</td>\n",
       "      <td>-1.00</td>\n",
       "      <td>-1.00</td>\n",
       "      <td>0.0</td>\n",
       "      <td>0.0</td>\n",
       "    </tr>\n",
       "    <tr>\n",
       "      <th>3995</th>\n",
       "      <td>0.0</td>\n",
       "      <td>0.0</td>\n",
       "      <td>2.0</td>\n",
       "      <td>14.0</td>\n",
       "      <td>5.0</td>\n",
       "      <td>2.0</td>\n",
       "      <td>4.0</td>\n",
       "      <td>36.16</td>\n",
       "      <td>-1.00</td>\n",
       "      <td>-1.00</td>\n",
       "      <td>0.0</td>\n",
       "      <td>0.0</td>\n",
       "    </tr>\n",
       "    <tr>\n",
       "      <th>3996</th>\n",
       "      <td>0.0</td>\n",
       "      <td>0.0</td>\n",
       "      <td>2.0</td>\n",
       "      <td>14.0</td>\n",
       "      <td>5.0</td>\n",
       "      <td>2.0</td>\n",
       "      <td>4.0</td>\n",
       "      <td>36.16</td>\n",
       "      <td>-1.00</td>\n",
       "      <td>-1.00</td>\n",
       "      <td>0.0</td>\n",
       "      <td>0.0</td>\n",
       "    </tr>\n",
       "    <tr>\n",
       "      <th>3997</th>\n",
       "      <td>0.0</td>\n",
       "      <td>0.0</td>\n",
       "      <td>2.0</td>\n",
       "      <td>14.0</td>\n",
       "      <td>5.0</td>\n",
       "      <td>2.0</td>\n",
       "      <td>4.0</td>\n",
       "      <td>36.16</td>\n",
       "      <td>-1.00</td>\n",
       "      <td>-1.00</td>\n",
       "      <td>0.0</td>\n",
       "      <td>0.0</td>\n",
       "    </tr>\n",
       "    <tr>\n",
       "      <th>3998</th>\n",
       "      <td>0.0</td>\n",
       "      <td>0.0</td>\n",
       "      <td>2.0</td>\n",
       "      <td>14.0</td>\n",
       "      <td>5.0</td>\n",
       "      <td>2.0</td>\n",
       "      <td>4.0</td>\n",
       "      <td>36.16</td>\n",
       "      <td>-1.00</td>\n",
       "      <td>-1.00</td>\n",
       "      <td>0.0</td>\n",
       "      <td>0.0</td>\n",
       "    </tr>\n",
       "    <tr>\n",
       "      <th>3999</th>\n",
       "      <td>0.0</td>\n",
       "      <td>0.0</td>\n",
       "      <td>2.0</td>\n",
       "      <td>14.0</td>\n",
       "      <td>5.0</td>\n",
       "      <td>2.0</td>\n",
       "      <td>4.0</td>\n",
       "      <td>36.16</td>\n",
       "      <td>-1.00</td>\n",
       "      <td>-1.00</td>\n",
       "      <td>0.0</td>\n",
       "      <td>0.0</td>\n",
       "    </tr>\n",
       "  </tbody>\n",
       "</table>\n",
       "</div>"
      ],
      "text/plain": [
       "      VehicleId  VehicleType  SignalGroup  LaneId  ApproachId  LocationOnMap  \\\n",
       "3960       31.0          4.0          2.0    14.0         5.0            2.0   \n",
       "3961       33.0          4.0          2.0    14.0         5.0            2.0   \n",
       "3962       34.0          4.0          2.0    14.0         5.0            2.0   \n",
       "3963       35.0          4.0          2.0    14.0         5.0            2.0   \n",
       "3964       36.0          4.0          2.0    14.0         5.0            2.0   \n",
       "3965       37.0          4.0          2.0    14.0         5.0            2.0   \n",
       "3966       38.0          4.0          2.0    14.0         5.0            2.0   \n",
       "3967       39.0          4.0          2.0    14.0         5.0            2.0   \n",
       "3968        0.0          0.0          2.0    14.0         5.0            2.0   \n",
       "3969        0.0          0.0          2.0    14.0         5.0            2.0   \n",
       "3970        0.0          0.0          2.0    14.0         5.0            2.0   \n",
       "3971        0.0          0.0          2.0    14.0         5.0            2.0   \n",
       "3972        0.0          0.0          2.0    14.0         5.0            2.0   \n",
       "3973        0.0          0.0          2.0    14.0         5.0            2.0   \n",
       "3974        0.0          0.0          2.0    14.0         5.0            2.0   \n",
       "3975        0.0          0.0          2.0    14.0         5.0            2.0   \n",
       "3976        0.0          0.0          2.0    14.0         5.0            2.0   \n",
       "3977        0.0          0.0          2.0    14.0         5.0            2.0   \n",
       "3978        0.0          0.0          2.0    14.0         5.0            2.0   \n",
       "3979        0.0          0.0          2.0    14.0         5.0            2.0   \n",
       "3980        0.0          0.0          2.0    14.0         5.0            2.0   \n",
       "3981        0.0          0.0          2.0    14.0         5.0            2.0   \n",
       "3982        0.0          0.0          2.0    14.0         5.0            2.0   \n",
       "3983        0.0          0.0          2.0    14.0         5.0            2.0   \n",
       "3984        0.0          0.0          2.0    14.0         5.0            2.0   \n",
       "3985        0.0          0.0          2.0    14.0         5.0            2.0   \n",
       "3986        0.0          0.0          2.0    14.0         5.0            2.0   \n",
       "3987        0.0          0.0          2.0    14.0         5.0            2.0   \n",
       "3988        0.0          0.0          2.0    14.0         5.0            2.0   \n",
       "3989        0.0          0.0          2.0    14.0         5.0            2.0   \n",
       "3990        0.0          0.0          2.0    14.0         5.0            2.0   \n",
       "3991        0.0          0.0          2.0    14.0         5.0            2.0   \n",
       "3992        0.0          0.0          2.0    14.0         5.0            2.0   \n",
       "3993        0.0          0.0          2.0    14.0         5.0            2.0   \n",
       "3994        0.0          0.0          2.0    14.0         5.0            2.0   \n",
       "3995        0.0          0.0          2.0    14.0         5.0            2.0   \n",
       "3996        0.0          0.0          2.0    14.0         5.0            2.0   \n",
       "3997        0.0          0.0          2.0    14.0         5.0            2.0   \n",
       "3998        0.0          0.0          2.0    14.0         5.0            2.0   \n",
       "3999        0.0          0.0          2.0    14.0         5.0            2.0   \n",
       "\n",
       "      PhaseStatus  PhaseElapsedTime  Speed  Heading  DistanceToStopBar  \\\n",
       "3960          4.0             36.16   0.00    89.14                1.0   \n",
       "3961          4.0             36.16   0.00    89.14               14.0   \n",
       "3962          4.0             36.16   0.00    89.15               21.0   \n",
       "3963          4.0             36.16   0.00    89.21               27.0   \n",
       "3964          4.0             36.16   0.00    89.79               33.0   \n",
       "3965          4.0             36.16   0.00    90.13               40.0   \n",
       "3966          4.0             36.16   0.06    90.13               46.0   \n",
       "3967          4.0             36.16   5.15    90.13               59.0   \n",
       "3968          4.0             36.16  -1.00    -1.00                0.0   \n",
       "3969          4.0             36.16  -1.00    -1.00                0.0   \n",
       "3970          4.0             36.16  -1.00    -1.00                0.0   \n",
       "3971          4.0             36.16  -1.00    -1.00                0.0   \n",
       "3972          4.0             36.16  -1.00    -1.00                0.0   \n",
       "3973          4.0             36.16  -1.00    -1.00                0.0   \n",
       "3974          4.0             36.16  -1.00    -1.00                0.0   \n",
       "3975          4.0             36.16  -1.00    -1.00                0.0   \n",
       "3976          4.0             36.16  -1.00    -1.00                0.0   \n",
       "3977          4.0             36.16  -1.00    -1.00                0.0   \n",
       "3978          4.0             36.16  -1.00    -1.00                0.0   \n",
       "3979          4.0             36.16  -1.00    -1.00                0.0   \n",
       "3980          4.0             36.16  -1.00    -1.00                0.0   \n",
       "3981          4.0             36.16  -1.00    -1.00                0.0   \n",
       "3982          4.0             36.16  -1.00    -1.00                0.0   \n",
       "3983          4.0             36.16  -1.00    -1.00                0.0   \n",
       "3984          4.0             36.16  -1.00    -1.00                0.0   \n",
       "3985          4.0             36.16  -1.00    -1.00                0.0   \n",
       "3986          4.0             36.16  -1.00    -1.00                0.0   \n",
       "3987          4.0             36.16  -1.00    -1.00                0.0   \n",
       "3988          4.0             36.16  -1.00    -1.00                0.0   \n",
       "3989          4.0             36.16  -1.00    -1.00                0.0   \n",
       "3990          4.0             36.16  -1.00    -1.00                0.0   \n",
       "3991          4.0             36.16  -1.00    -1.00                0.0   \n",
       "3992          4.0             36.16  -1.00    -1.00                0.0   \n",
       "3993          4.0             36.16  -1.00    -1.00                0.0   \n",
       "3994          4.0             36.16  -1.00    -1.00                0.0   \n",
       "3995          4.0             36.16  -1.00    -1.00                0.0   \n",
       "3996          4.0             36.16  -1.00    -1.00                0.0   \n",
       "3997          4.0             36.16  -1.00    -1.00                0.0   \n",
       "3998          4.0             36.16  -1.00    -1.00                0.0   \n",
       "3999          4.0             36.16  -1.00    -1.00                0.0   \n",
       "\n",
       "      CellStatus  \n",
       "3960         1.0  \n",
       "3961         1.0  \n",
       "3962         1.0  \n",
       "3963         1.0  \n",
       "3964         1.0  \n",
       "3965         1.0  \n",
       "3966         1.0  \n",
       "3967         1.0  \n",
       "3968         0.0  \n",
       "3969         0.0  \n",
       "3970         0.0  \n",
       "3971         0.0  \n",
       "3972         0.0  \n",
       "3973         0.0  \n",
       "3974         0.0  \n",
       "3975         0.0  \n",
       "3976         0.0  \n",
       "3977         0.0  \n",
       "3978         0.0  \n",
       "3979         0.0  \n",
       "3980         0.0  \n",
       "3981         0.0  \n",
       "3982         0.0  \n",
       "3983         0.0  \n",
       "3984         0.0  \n",
       "3985         0.0  \n",
       "3986         0.0  \n",
       "3987         0.0  \n",
       "3988         0.0  \n",
       "3989         0.0  \n",
       "3990         0.0  \n",
       "3991         0.0  \n",
       "3992         0.0  \n",
       "3993         0.0  \n",
       "3994         0.0  \n",
       "3995         0.0  \n",
       "3996         0.0  \n",
       "3997         0.0  \n",
       "3998         0.0  \n",
       "3999         0.0  "
      ]
     },
     "execution_count": 81,
     "metadata": {},
     "output_type": "execute_result"
    }
   ],
   "source": [
    "sample_Df.tail(40)"
   ]
  },
  {
   "cell_type": "code",
   "execution_count": null,
   "metadata": {},
   "outputs": [],
   "source": []
  }
 ],
 "metadata": {
  "kernelspec": {
   "display_name": "Python 3",
   "language": "python",
   "name": "python3"
  },
  "language_info": {
   "codemirror_mode": {
    "name": "ipython",
    "version": 3
   },
   "file_extension": ".py",
   "mimetype": "text/x-python",
   "name": "python",
   "nbconvert_exporter": "python",
   "pygments_lexer": "ipython3",
   "version": "3.7.3"
  }
 },
 "nbformat": 4,
 "nbformat_minor": 2
}
