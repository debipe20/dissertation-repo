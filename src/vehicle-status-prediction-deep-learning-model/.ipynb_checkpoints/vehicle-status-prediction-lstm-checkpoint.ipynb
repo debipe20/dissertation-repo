{
 "cells": [
  {
   "cell_type": "code",
   "execution_count": 1,
   "metadata": {},
   "outputs": [
    {
     "name": "stderr",
     "output_type": "stream",
     "text": [
      "Using TensorFlow backend.\n"
     ]
    }
   ],
   "source": [
    "import pandas as pd\n",
    "import numpy as np\n",
    "import matplotlib.pyplot as plt\n",
    "import seaborn as sns\n",
    "from keras.models import Sequential\n",
    "from keras.layers import Dense, Conv2D, Flatten \n",
    "from keras.layers import MaxPooling2D, Dropout\n",
    "from sklearn.preprocessing import StandardScaler\n",
    "from keras.layers import LSTM\n",
    "from sklearn.preprocessing import StandardScaler"
   ]
  },
  {
   "cell_type": "code",
   "execution_count": 2,
   "metadata": {},
   "outputs": [
    {
     "name": "stdout",
     "output_type": "stream",
     "text": [
      "940\n"
     ]
    }
   ],
   "source": [
    "# df = pd.read_csv('vehicle-status-prediction-data.txt')\n",
    "df = pd.read_csv('test-data.txt')\n",
    "\n",
    "noOfcells = df['NoOfCells'][0]\n",
    "print(df.shape[0])"
   ]
  },
  {
   "cell_type": "code",
   "execution_count": 3,
   "metadata": {},
   "outputs": [
    {
     "data": {
      "text/plain": [
       "['OutputVehicleId',\n",
       " 'OutputVehicleType',\n",
       " 'OutputSignalGroup',\n",
       " 'OutputLaneId',\n",
       " 'OutputApproachId',\n",
       " 'OutputLocationOnMap',\n",
       " 'OutputPhaseStatus',\n",
       " 'OutputSpeed',\n",
       " 'OutputHeading',\n",
       " 'OutputDistanceToStopBar',\n",
       " 'OutputStoppedDelay',\n",
       " 'OutputCellStatus']"
      ]
     },
     "execution_count": 3,
     "metadata": {},
     "output_type": "execute_result"
    }
   ],
   "source": [
    "#variable for training\n",
    "cols = list(df)[14:26]\n",
    "cols"
   ]
  },
  {
   "cell_type": "code",
   "execution_count": 4,
   "metadata": {},
   "outputs": [
    {
     "data": {
      "text/html": [
       "<div>\n",
       "<style scoped>\n",
       "    .dataframe tbody tr th:only-of-type {\n",
       "        vertical-align: middle;\n",
       "    }\n",
       "\n",
       "    .dataframe tbody tr th {\n",
       "        vertical-align: top;\n",
       "    }\n",
       "\n",
       "    .dataframe thead th {\n",
       "        text-align: right;\n",
       "    }\n",
       "</style>\n",
       "<table border=\"1\" class=\"dataframe\">\n",
       "  <thead>\n",
       "    <tr style=\"text-align: right;\">\n",
       "      <th></th>\n",
       "      <th>OutputVehicleId</th>\n",
       "      <th>OutputVehicleType</th>\n",
       "      <th>OutputSignalGroup</th>\n",
       "      <th>OutputLaneId</th>\n",
       "      <th>OutputApproachId</th>\n",
       "      <th>OutputLocationOnMap</th>\n",
       "      <th>OutputPhaseStatus</th>\n",
       "      <th>OutputSpeed</th>\n",
       "      <th>OutputHeading</th>\n",
       "      <th>OutputDistanceToStopBar</th>\n",
       "      <th>OutputStoppedDelay</th>\n",
       "      <th>OutputCellStatus</th>\n",
       "    </tr>\n",
       "  </thead>\n",
       "  <tbody>\n",
       "    <tr>\n",
       "      <th>0</th>\n",
       "      <td>0.0</td>\n",
       "      <td>0.0</td>\n",
       "      <td>2.0</td>\n",
       "      <td>14.0</td>\n",
       "      <td>5.0</td>\n",
       "      <td>2.0</td>\n",
       "      <td>4.0</td>\n",
       "      <td>0.0</td>\n",
       "      <td>0.00</td>\n",
       "      <td>0.0</td>\n",
       "      <td>0.0</td>\n",
       "      <td>0.0</td>\n",
       "    </tr>\n",
       "    <tr>\n",
       "      <th>1</th>\n",
       "      <td>0.0</td>\n",
       "      <td>0.0</td>\n",
       "      <td>2.0</td>\n",
       "      <td>14.0</td>\n",
       "      <td>5.0</td>\n",
       "      <td>2.0</td>\n",
       "      <td>4.0</td>\n",
       "      <td>0.0</td>\n",
       "      <td>0.00</td>\n",
       "      <td>0.0</td>\n",
       "      <td>0.0</td>\n",
       "      <td>0.0</td>\n",
       "    </tr>\n",
       "    <tr>\n",
       "      <th>2</th>\n",
       "      <td>72.0</td>\n",
       "      <td>4.0</td>\n",
       "      <td>2.0</td>\n",
       "      <td>14.0</td>\n",
       "      <td>5.0</td>\n",
       "      <td>2.0</td>\n",
       "      <td>4.0</td>\n",
       "      <td>9.3</td>\n",
       "      <td>89.14</td>\n",
       "      <td>16.0</td>\n",
       "      <td>0.0</td>\n",
       "      <td>1.0</td>\n",
       "    </tr>\n",
       "    <tr>\n",
       "      <th>3</th>\n",
       "      <td>0.0</td>\n",
       "      <td>0.0</td>\n",
       "      <td>2.0</td>\n",
       "      <td>14.0</td>\n",
       "      <td>5.0</td>\n",
       "      <td>2.0</td>\n",
       "      <td>4.0</td>\n",
       "      <td>0.0</td>\n",
       "      <td>0.00</td>\n",
       "      <td>0.0</td>\n",
       "      <td>0.0</td>\n",
       "      <td>0.0</td>\n",
       "    </tr>\n",
       "    <tr>\n",
       "      <th>4</th>\n",
       "      <td>0.0</td>\n",
       "      <td>0.0</td>\n",
       "      <td>2.0</td>\n",
       "      <td>14.0</td>\n",
       "      <td>5.0</td>\n",
       "      <td>2.0</td>\n",
       "      <td>4.0</td>\n",
       "      <td>0.0</td>\n",
       "      <td>0.00</td>\n",
       "      <td>0.0</td>\n",
       "      <td>0.0</td>\n",
       "      <td>0.0</td>\n",
       "    </tr>\n",
       "  </tbody>\n",
       "</table>\n",
       "</div>"
      ],
      "text/plain": [
       "   OutputVehicleId  OutputVehicleType  OutputSignalGroup  OutputLaneId  \\\n",
       "0              0.0                0.0                2.0          14.0   \n",
       "1              0.0                0.0                2.0          14.0   \n",
       "2             72.0                4.0                2.0          14.0   \n",
       "3              0.0                0.0                2.0          14.0   \n",
       "4              0.0                0.0                2.0          14.0   \n",
       "\n",
       "   OutputApproachId  OutputLocationOnMap  OutputPhaseStatus  OutputSpeed  \\\n",
       "0               5.0                  2.0                4.0          0.0   \n",
       "1               5.0                  2.0                4.0          0.0   \n",
       "2               5.0                  2.0                4.0          9.3   \n",
       "3               5.0                  2.0                4.0          0.0   \n",
       "4               5.0                  2.0                4.0          0.0   \n",
       "\n",
       "   OutputHeading  OutputDistanceToStopBar  OutputStoppedDelay  \\\n",
       "0           0.00                      0.0                 0.0   \n",
       "1           0.00                      0.0                 0.0   \n",
       "2          89.14                     16.0                 0.0   \n",
       "3           0.00                      0.0                 0.0   \n",
       "4           0.00                      0.0                 0.0   \n",
       "\n",
       "   OutputCellStatus  \n",
       "0               0.0  \n",
       "1               0.0  \n",
       "2               1.0  \n",
       "3               0.0  \n",
       "4               0.0  "
      ]
     },
     "execution_count": 4,
     "metadata": {},
     "output_type": "execute_result"
    }
   ],
   "source": [
    "df = df[cols].astype(float)\n",
    "\n",
    "df.head(5)"
   ]
  },
  {
   "cell_type": "code",
   "execution_count": 5,
   "metadata": {},
   "outputs": [],
   "source": [
    "def getTrainingSetSize(df, noOfcells):\n",
    "    trainingDataPointSize = int(df.shape[0]*0.8/noOfcells)\n",
    "    training_setsize = trainingDataPointSize*noOfcells\n",
    "    return training_setsize"
   ]
  },
  {
   "cell_type": "code",
   "execution_count": 6,
   "metadata": {},
   "outputs": [],
   "source": [
    "# scaler = StandardScaler()\n",
    "# scaler = scaler.fit(df)\n",
    "# df = scaler.transform(df)\n",
    "# print(df)"
   ]
  },
  {
   "cell_type": "code",
   "execution_count": 7,
   "metadata": {},
   "outputs": [],
   "source": [
    "def getProcessedDataSet(df):\n",
    "    input_X = []\n",
    "    input_Y = []\n",
    "    dataPoint_X = []\n",
    "    dataPoint_Y = []\n",
    "    scaler = StandardScaler()\n",
    "    for index, rows in df.iterrows():\n",
    "        if index == 0:\n",
    "            X_row_list = [rows.OutputVehicleId, rows.OutputVehicleType, rows.OutputSignalGroup, rows.OutputLaneId, rows.OutputApproachId, rows.OutputPhaseStatus, rows.OutputSpeed, rows.OutputHeading, rows.OutputDistanceToStopBar]\n",
    "            dataPoint_X.append(X_row_list)\n",
    "            dataPoint_Y.append(rows.OutputCellStatus)\n",
    "        \n",
    "        elif index % noOfcells != 0:\n",
    "            X_row_list = [rows.OutputVehicleId, rows.OutputVehicleType, rows.OutputSignalGroup, rows.OutputLaneId, rows.OutputApproachId, rows.OutputPhaseStatus, rows.OutputSpeed, rows.OutputHeading, rows.OutputDistanceToStopBar]\n",
    "            \n",
    "            dataPoint_X.append(X_row_list)            \n",
    "            dataPoint_Y.append(rows.OutputCellStatus)\n",
    "\n",
    "        elif index % noOfcells == 0 and len(dataPoint_X) > 0:\n",
    "            scaler = scaler.fit(dataPoint_X)\n",
    "            dataPoint_X = scaler.transform(dataPoint_X)\n",
    "            \n",
    "            flatList_X = [item for sublist in dataPoint_X for item in sublist]\n",
    "#             flatList_Y = [item for sublist in dataPoint_Y for item in sublist]\n",
    "            \n",
    "            input_X.append(flatList_X)\n",
    "            input_Y.append(dataPoint_Y)\n",
    "            \n",
    "            dataPoint_X = []\n",
    "            dataPoint_Y = []\n",
    "            \n",
    "            X_row_list = [rows.OutputVehicleId, rows.OutputVehicleType, rows.OutputSignalGroup, rows.OutputLaneId, rows.OutputApproachId, rows.OutputPhaseStatus, rows.OutputSpeed, rows.OutputHeading, rows.OutputDistanceToStopBar]\n",
    "            dataPoint_X.append(X_row_list)\n",
    "            dataPoint_Y.append(rows.OutputCellStatus)\n",
    "        \n",
    "        if index == len(df) - 1:\n",
    "            scaler = scaler.fit(dataPoint_X)\n",
    "            dataPoint_X = scaler.transform(dataPoint_X)\n",
    "            \n",
    "            flatList_X = [item for sublist in dataPoint_X for item in sublist]\n",
    "#             flatList_Y = [item for sublist in dataPoint_Y for item in sublist]\n",
    "            \n",
    "            input_X.append(flatList_X)\n",
    "            input_Y.append(dataPoint_Y)  \n",
    "\n",
    "\n",
    "#     input_X = np.array(input_X)\n",
    "#     input_Y = np.array(input_Y)\n",
    "    \n",
    "    \n",
    "    return input_X, input_Y"
   ]
  },
  {
   "cell_type": "code",
   "execution_count": 8,
   "metadata": {},
   "outputs": [
    {
     "name": "stdout",
     "output_type": "stream",
     "text": [
      "752\n"
     ]
    }
   ],
   "source": [
    "training_setsize = getTrainingSetSize(df, noOfcells)\n",
    "print(training_setsize)"
   ]
  },
  {
   "cell_type": "code",
   "execution_count": 9,
   "metadata": {},
   "outputs": [],
   "source": [
    "df_forTraining = df.iloc[:training_setsize, 0:] # 1 means startfrom column 1"
   ]
  },
  {
   "cell_type": "code",
   "execution_count": 10,
   "metadata": {},
   "outputs": [
    {
     "data": {
      "text/html": [
       "<div>\n",
       "<style scoped>\n",
       "    .dataframe tbody tr th:only-of-type {\n",
       "        vertical-align: middle;\n",
       "    }\n",
       "\n",
       "    .dataframe tbody tr th {\n",
       "        vertical-align: top;\n",
       "    }\n",
       "\n",
       "    .dataframe thead th {\n",
       "        text-align: right;\n",
       "    }\n",
       "</style>\n",
       "<table border=\"1\" class=\"dataframe\">\n",
       "  <thead>\n",
       "    <tr style=\"text-align: right;\">\n",
       "      <th></th>\n",
       "      <th>OutputVehicleId</th>\n",
       "      <th>OutputVehicleType</th>\n",
       "      <th>OutputSignalGroup</th>\n",
       "      <th>OutputLaneId</th>\n",
       "      <th>OutputApproachId</th>\n",
       "      <th>OutputLocationOnMap</th>\n",
       "      <th>OutputPhaseStatus</th>\n",
       "      <th>OutputSpeed</th>\n",
       "      <th>OutputHeading</th>\n",
       "      <th>OutputDistanceToStopBar</th>\n",
       "      <th>OutputStoppedDelay</th>\n",
       "      <th>OutputCellStatus</th>\n",
       "    </tr>\n",
       "  </thead>\n",
       "  <tbody>\n",
       "    <tr>\n",
       "      <th>0</th>\n",
       "      <td>0.0</td>\n",
       "      <td>0.0</td>\n",
       "      <td>2.0</td>\n",
       "      <td>14.0</td>\n",
       "      <td>5.0</td>\n",
       "      <td>2.0</td>\n",
       "      <td>4.0</td>\n",
       "      <td>0.0</td>\n",
       "      <td>0.00</td>\n",
       "      <td>0.0</td>\n",
       "      <td>0.0</td>\n",
       "      <td>0.0</td>\n",
       "    </tr>\n",
       "    <tr>\n",
       "      <th>1</th>\n",
       "      <td>0.0</td>\n",
       "      <td>0.0</td>\n",
       "      <td>2.0</td>\n",
       "      <td>14.0</td>\n",
       "      <td>5.0</td>\n",
       "      <td>2.0</td>\n",
       "      <td>4.0</td>\n",
       "      <td>0.0</td>\n",
       "      <td>0.00</td>\n",
       "      <td>0.0</td>\n",
       "      <td>0.0</td>\n",
       "      <td>0.0</td>\n",
       "    </tr>\n",
       "    <tr>\n",
       "      <th>2</th>\n",
       "      <td>72.0</td>\n",
       "      <td>4.0</td>\n",
       "      <td>2.0</td>\n",
       "      <td>14.0</td>\n",
       "      <td>5.0</td>\n",
       "      <td>2.0</td>\n",
       "      <td>4.0</td>\n",
       "      <td>9.3</td>\n",
       "      <td>89.14</td>\n",
       "      <td>16.0</td>\n",
       "      <td>0.0</td>\n",
       "      <td>1.0</td>\n",
       "    </tr>\n",
       "    <tr>\n",
       "      <th>3</th>\n",
       "      <td>0.0</td>\n",
       "      <td>0.0</td>\n",
       "      <td>2.0</td>\n",
       "      <td>14.0</td>\n",
       "      <td>5.0</td>\n",
       "      <td>2.0</td>\n",
       "      <td>4.0</td>\n",
       "      <td>0.0</td>\n",
       "      <td>0.00</td>\n",
       "      <td>0.0</td>\n",
       "      <td>0.0</td>\n",
       "      <td>0.0</td>\n",
       "    </tr>\n",
       "    <tr>\n",
       "      <th>4</th>\n",
       "      <td>0.0</td>\n",
       "      <td>0.0</td>\n",
       "      <td>2.0</td>\n",
       "      <td>14.0</td>\n",
       "      <td>5.0</td>\n",
       "      <td>2.0</td>\n",
       "      <td>4.0</td>\n",
       "      <td>0.0</td>\n",
       "      <td>0.00</td>\n",
       "      <td>0.0</td>\n",
       "      <td>0.0</td>\n",
       "      <td>0.0</td>\n",
       "    </tr>\n",
       "  </tbody>\n",
       "</table>\n",
       "</div>"
      ],
      "text/plain": [
       "   OutputVehicleId  OutputVehicleType  OutputSignalGroup  OutputLaneId  \\\n",
       "0              0.0                0.0                2.0          14.0   \n",
       "1              0.0                0.0                2.0          14.0   \n",
       "2             72.0                4.0                2.0          14.0   \n",
       "3              0.0                0.0                2.0          14.0   \n",
       "4              0.0                0.0                2.0          14.0   \n",
       "\n",
       "   OutputApproachId  OutputLocationOnMap  OutputPhaseStatus  OutputSpeed  \\\n",
       "0               5.0                  2.0                4.0          0.0   \n",
       "1               5.0                  2.0                4.0          0.0   \n",
       "2               5.0                  2.0                4.0          9.3   \n",
       "3               5.0                  2.0                4.0          0.0   \n",
       "4               5.0                  2.0                4.0          0.0   \n",
       "\n",
       "   OutputHeading  OutputDistanceToStopBar  OutputStoppedDelay  \\\n",
       "0           0.00                      0.0                 0.0   \n",
       "1           0.00                      0.0                 0.0   \n",
       "2          89.14                     16.0                 0.0   \n",
       "3           0.00                      0.0                 0.0   \n",
       "4           0.00                      0.0                 0.0   \n",
       "\n",
       "   OutputCellStatus  \n",
       "0               0.0  \n",
       "1               0.0  \n",
       "2               1.0  \n",
       "3               0.0  \n",
       "4               0.0  "
      ]
     },
     "execution_count": 10,
     "metadata": {},
     "output_type": "execute_result"
    }
   ],
   "source": [
    "df_forTraining.head(5)"
   ]
  },
  {
   "cell_type": "code",
   "execution_count": 11,
   "metadata": {},
   "outputs": [],
   "source": [
    "df_forTesting = df.iloc[training_setsize:, 0:]\n",
    "df_forTesting.reset_index(inplace=True)"
   ]
  },
  {
   "cell_type": "code",
   "execution_count": 12,
   "metadata": {},
   "outputs": [
    {
     "data": {
      "text/html": [
       "<div>\n",
       "<style scoped>\n",
       "    .dataframe tbody tr th:only-of-type {\n",
       "        vertical-align: middle;\n",
       "    }\n",
       "\n",
       "    .dataframe tbody tr th {\n",
       "        vertical-align: top;\n",
       "    }\n",
       "\n",
       "    .dataframe thead th {\n",
       "        text-align: right;\n",
       "    }\n",
       "</style>\n",
       "<table border=\"1\" class=\"dataframe\">\n",
       "  <thead>\n",
       "    <tr style=\"text-align: right;\">\n",
       "      <th></th>\n",
       "      <th>index</th>\n",
       "      <th>OutputVehicleId</th>\n",
       "      <th>OutputVehicleType</th>\n",
       "      <th>OutputSignalGroup</th>\n",
       "      <th>OutputLaneId</th>\n",
       "      <th>OutputApproachId</th>\n",
       "      <th>OutputLocationOnMap</th>\n",
       "      <th>OutputPhaseStatus</th>\n",
       "      <th>OutputSpeed</th>\n",
       "      <th>OutputHeading</th>\n",
       "      <th>OutputDistanceToStopBar</th>\n",
       "      <th>OutputStoppedDelay</th>\n",
       "      <th>OutputCellStatus</th>\n",
       "    </tr>\n",
       "  </thead>\n",
       "  <tbody>\n",
       "    <tr>\n",
       "      <th>0</th>\n",
       "      <td>752</td>\n",
       "      <td>0.0</td>\n",
       "      <td>0.0</td>\n",
       "      <td>2.0</td>\n",
       "      <td>14.0</td>\n",
       "      <td>5.0</td>\n",
       "      <td>2.0</td>\n",
       "      <td>4.0</td>\n",
       "      <td>0.00</td>\n",
       "      <td>0.00</td>\n",
       "      <td>0.0</td>\n",
       "      <td>0.0</td>\n",
       "      <td>0.0</td>\n",
       "    </tr>\n",
       "    <tr>\n",
       "      <th>1</th>\n",
       "      <td>753</td>\n",
       "      <td>73.0</td>\n",
       "      <td>4.0</td>\n",
       "      <td>2.0</td>\n",
       "      <td>14.0</td>\n",
       "      <td>5.0</td>\n",
       "      <td>2.0</td>\n",
       "      <td>4.0</td>\n",
       "      <td>2.82</td>\n",
       "      <td>89.14</td>\n",
       "      <td>9.0</td>\n",
       "      <td>0.0</td>\n",
       "      <td>1.0</td>\n",
       "    </tr>\n",
       "    <tr>\n",
       "      <th>2</th>\n",
       "      <td>754</td>\n",
       "      <td>0.0</td>\n",
       "      <td>0.0</td>\n",
       "      <td>2.0</td>\n",
       "      <td>14.0</td>\n",
       "      <td>5.0</td>\n",
       "      <td>2.0</td>\n",
       "      <td>4.0</td>\n",
       "      <td>0.00</td>\n",
       "      <td>0.00</td>\n",
       "      <td>0.0</td>\n",
       "      <td>0.0</td>\n",
       "      <td>0.0</td>\n",
       "    </tr>\n",
       "    <tr>\n",
       "      <th>3</th>\n",
       "      <td>755</td>\n",
       "      <td>0.0</td>\n",
       "      <td>0.0</td>\n",
       "      <td>2.0</td>\n",
       "      <td>14.0</td>\n",
       "      <td>5.0</td>\n",
       "      <td>2.0</td>\n",
       "      <td>4.0</td>\n",
       "      <td>0.00</td>\n",
       "      <td>0.00</td>\n",
       "      <td>0.0</td>\n",
       "      <td>0.0</td>\n",
       "      <td>0.0</td>\n",
       "    </tr>\n",
       "    <tr>\n",
       "      <th>4</th>\n",
       "      <td>756</td>\n",
       "      <td>0.0</td>\n",
       "      <td>0.0</td>\n",
       "      <td>2.0</td>\n",
       "      <td>14.0</td>\n",
       "      <td>5.0</td>\n",
       "      <td>2.0</td>\n",
       "      <td>4.0</td>\n",
       "      <td>0.00</td>\n",
       "      <td>0.00</td>\n",
       "      <td>0.0</td>\n",
       "      <td>0.0</td>\n",
       "      <td>0.0</td>\n",
       "    </tr>\n",
       "  </tbody>\n",
       "</table>\n",
       "</div>"
      ],
      "text/plain": [
       "   index  OutputVehicleId  OutputVehicleType  OutputSignalGroup  OutputLaneId  \\\n",
       "0    752              0.0                0.0                2.0          14.0   \n",
       "1    753             73.0                4.0                2.0          14.0   \n",
       "2    754              0.0                0.0                2.0          14.0   \n",
       "3    755              0.0                0.0                2.0          14.0   \n",
       "4    756              0.0                0.0                2.0          14.0   \n",
       "\n",
       "   OutputApproachId  OutputLocationOnMap  OutputPhaseStatus  OutputSpeed  \\\n",
       "0               5.0                  2.0                4.0         0.00   \n",
       "1               5.0                  2.0                4.0         2.82   \n",
       "2               5.0                  2.0                4.0         0.00   \n",
       "3               5.0                  2.0                4.0         0.00   \n",
       "4               5.0                  2.0                4.0         0.00   \n",
       "\n",
       "   OutputHeading  OutputDistanceToStopBar  OutputStoppedDelay  \\\n",
       "0           0.00                      0.0                 0.0   \n",
       "1          89.14                      9.0                 0.0   \n",
       "2           0.00                      0.0                 0.0   \n",
       "3           0.00                      0.0                 0.0   \n",
       "4           0.00                      0.0                 0.0   \n",
       "\n",
       "   OutputCellStatus  \n",
       "0               0.0  \n",
       "1               1.0  \n",
       "2               0.0  \n",
       "3               0.0  \n",
       "4               0.0  "
      ]
     },
     "execution_count": 12,
     "metadata": {},
     "output_type": "execute_result"
    }
   ],
   "source": [
    "df_forTesting.head()"
   ]
  },
  {
   "cell_type": "code",
   "execution_count": 13,
   "metadata": {},
   "outputs": [
    {
     "ename": "ValueError",
     "evalue": "Expected 2D array, got 1D array instead:\narray=[0. 0. 1. 0. 0. 0. 0. 0. 0. 1. 0. 0. 0. 0. 0. 0. 1. 0. 0. 0. 0. 0. 0. 1.\n 0. 0. 0. 0. 0. 0. 0. 0. 0. 0. 0. 0. 0. 0. 0. 1. 0. 0. 0. 0. 0. 0. 0.].\nReshape your data either using array.reshape(-1, 1) if your data has a single feature or array.reshape(1, -1) if it contains a single sample.",
     "output_type": "error",
     "traceback": [
      "\u001b[1;31m---------------------------------------------------------------------------\u001b[0m",
      "\u001b[1;31mValueError\u001b[0m                                Traceback (most recent call last)",
      "\u001b[1;32m<ipython-input-13-db7eafff0769>\u001b[0m in \u001b[0;36m<module>\u001b[1;34m\u001b[0m\n\u001b[1;32m----> 1\u001b[1;33m \u001b[0minputX\u001b[0m\u001b[1;33m,\u001b[0m\u001b[0minputY\u001b[0m \u001b[1;33m=\u001b[0m \u001b[0mgetProcessedDataSet\u001b[0m\u001b[1;33m(\u001b[0m\u001b[0mdf_forTraining\u001b[0m\u001b[1;33m)\u001b[0m\u001b[1;33m\u001b[0m\u001b[1;33m\u001b[0m\u001b[0m\n\u001b[0m\u001b[0;32m      2\u001b[0m \u001b[1;33m\u001b[0m\u001b[0m\n\u001b[0;32m      3\u001b[0m \u001b[1;31m# print(trainX.shape)\u001b[0m\u001b[1;33m\u001b[0m\u001b[1;33m\u001b[0m\u001b[1;33m\u001b[0m\u001b[0m\n\u001b[0;32m      4\u001b[0m \u001b[1;31m# print(trainY.shape)\u001b[0m\u001b[1;33m\u001b[0m\u001b[1;33m\u001b[0m\u001b[1;33m\u001b[0m\u001b[0m\n",
      "\u001b[1;32m<ipython-input-7-ead5ce53fe3a>\u001b[0m in \u001b[0;36mgetProcessedDataSet\u001b[1;34m(df)\u001b[0m\n\u001b[0;32m     20\u001b[0m             \u001b[0mscaler\u001b[0m \u001b[1;33m=\u001b[0m \u001b[0mscaler\u001b[0m\u001b[1;33m.\u001b[0m\u001b[0mfit\u001b[0m\u001b[1;33m(\u001b[0m\u001b[0mdataPoint_X\u001b[0m\u001b[1;33m)\u001b[0m\u001b[1;33m\u001b[0m\u001b[1;33m\u001b[0m\u001b[0m\n\u001b[0;32m     21\u001b[0m             \u001b[0mdataPoint_X\u001b[0m \u001b[1;33m=\u001b[0m \u001b[0mscaler\u001b[0m\u001b[1;33m.\u001b[0m\u001b[0mtransform\u001b[0m\u001b[1;33m(\u001b[0m\u001b[0mdataPoint_X\u001b[0m\u001b[1;33m)\u001b[0m\u001b[1;33m\u001b[0m\u001b[1;33m\u001b[0m\u001b[0m\n\u001b[1;32m---> 22\u001b[1;33m             \u001b[0mdataPoint_Y\u001b[0m \u001b[1;33m=\u001b[0m \u001b[0mscaler\u001b[0m\u001b[1;33m.\u001b[0m\u001b[0mtransform\u001b[0m\u001b[1;33m(\u001b[0m\u001b[0mdataPoint_Y\u001b[0m\u001b[1;33m)\u001b[0m\u001b[1;33m\u001b[0m\u001b[1;33m\u001b[0m\u001b[0m\n\u001b[0m\u001b[0;32m     23\u001b[0m \u001b[1;33m\u001b[0m\u001b[0m\n\u001b[0;32m     24\u001b[0m             \u001b[0mflatList_X\u001b[0m \u001b[1;33m=\u001b[0m \u001b[1;33m[\u001b[0m\u001b[0mitem\u001b[0m \u001b[1;32mfor\u001b[0m \u001b[0msublist\u001b[0m \u001b[1;32min\u001b[0m \u001b[0mdataPoint_X\u001b[0m \u001b[1;32mfor\u001b[0m \u001b[0mitem\u001b[0m \u001b[1;32min\u001b[0m \u001b[0msublist\u001b[0m\u001b[1;33m]\u001b[0m\u001b[1;33m\u001b[0m\u001b[1;33m\u001b[0m\u001b[0m\n",
      "\u001b[1;32mC:\\ProgramData\\Anaconda3\\lib\\site-packages\\sklearn\\preprocessing\\data.py\u001b[0m in \u001b[0;36mtransform\u001b[1;34m(self, X, copy)\u001b[0m\n\u001b[0;32m    756\u001b[0m         X = check_array(X, accept_sparse='csr', copy=copy,\n\u001b[0;32m    757\u001b[0m                         \u001b[0mestimator\u001b[0m\u001b[1;33m=\u001b[0m\u001b[0mself\u001b[0m\u001b[1;33m,\u001b[0m \u001b[0mdtype\u001b[0m\u001b[1;33m=\u001b[0m\u001b[0mFLOAT_DTYPES\u001b[0m\u001b[1;33m,\u001b[0m\u001b[1;33m\u001b[0m\u001b[1;33m\u001b[0m\u001b[0m\n\u001b[1;32m--> 758\u001b[1;33m                         force_all_finite='allow-nan')\n\u001b[0m\u001b[0;32m    759\u001b[0m \u001b[1;33m\u001b[0m\u001b[0m\n\u001b[0;32m    760\u001b[0m         \u001b[1;32mif\u001b[0m \u001b[0msparse\u001b[0m\u001b[1;33m.\u001b[0m\u001b[0missparse\u001b[0m\u001b[1;33m(\u001b[0m\u001b[0mX\u001b[0m\u001b[1;33m)\u001b[0m\u001b[1;33m:\u001b[0m\u001b[1;33m\u001b[0m\u001b[1;33m\u001b[0m\u001b[0m\n",
      "\u001b[1;32mC:\\ProgramData\\Anaconda3\\lib\\site-packages\\sklearn\\utils\\validation.py\u001b[0m in \u001b[0;36mcheck_array\u001b[1;34m(array, accept_sparse, accept_large_sparse, dtype, order, copy, force_all_finite, ensure_2d, allow_nd, ensure_min_samples, ensure_min_features, warn_on_dtype, estimator)\u001b[0m\n\u001b[0;32m    519\u001b[0m                     \u001b[1;34m\"Reshape your data either using array.reshape(-1, 1) if \"\u001b[0m\u001b[1;33m\u001b[0m\u001b[1;33m\u001b[0m\u001b[0m\n\u001b[0;32m    520\u001b[0m                     \u001b[1;34m\"your data has a single feature or array.reshape(1, -1) \"\u001b[0m\u001b[1;33m\u001b[0m\u001b[1;33m\u001b[0m\u001b[0m\n\u001b[1;32m--> 521\u001b[1;33m                     \"if it contains a single sample.\".format(array))\n\u001b[0m\u001b[0;32m    522\u001b[0m \u001b[1;33m\u001b[0m\u001b[0m\n\u001b[0;32m    523\u001b[0m         \u001b[1;31m# in the future np.flexible dtypes will be handled like object dtypes\u001b[0m\u001b[1;33m\u001b[0m\u001b[1;33m\u001b[0m\u001b[1;33m\u001b[0m\u001b[0m\n",
      "\u001b[1;31mValueError\u001b[0m: Expected 2D array, got 1D array instead:\narray=[0. 0. 1. 0. 0. 0. 0. 0. 0. 1. 0. 0. 0. 0. 0. 0. 1. 0. 0. 0. 0. 0. 0. 1.\n 0. 0. 0. 0. 0. 0. 0. 0. 0. 0. 0. 0. 0. 0. 0. 1. 0. 0. 0. 0. 0. 0. 0.].\nReshape your data either using array.reshape(-1, 1) if your data has a single feature or array.reshape(1, -1) if it contains a single sample."
     ]
    }
   ],
   "source": [
    "inputX,inputY = getProcessedDataSet(df_forTraining)\n",
    "\n",
    "# print(trainX.shape)\n",
    "# print(trainY.shape)"
   ]
  },
  {
   "cell_type": "code",
   "execution_count": null,
   "metadata": {},
   "outputs": [],
   "source": [
    "inputX"
   ]
  },
  {
   "cell_type": "code",
   "execution_count": null,
   "metadata": {},
   "outputs": [],
   "source": [
    "len(inputX)"
   ]
  },
  {
   "cell_type": "code",
   "execution_count": null,
   "metadata": {},
   "outputs": [],
   "source": [
    "inputX = np.array(inputX)\n",
    "inputY = np.array(inputY)\n",
    "print(inputX.shape)\n",
    "print(inputY.shape)"
   ]
  },
  {
   "cell_type": "code",
   "execution_count": null,
   "metadata": {},
   "outputs": [],
   "source": [
    "inputY"
   ]
  },
  {
   "cell_type": "code",
   "execution_count": null,
   "metadata": {},
   "outputs": [],
   "source": [
    "n_future = 1 #Number of days we want to predict into the future\n",
    "n_past = 2 #Number of past days we want to use to predict the future"
   ]
  },
  {
   "cell_type": "code",
   "execution_count": null,
   "metadata": {},
   "outputs": [],
   "source": [
    "trainX = []\n",
    "trainY = []"
   ]
  },
  {
   "cell_type": "code",
   "execution_count": null,
   "metadata": {},
   "outputs": [],
   "source": [
    "print(inputX.shape[0])"
   ]
  },
  {
   "cell_type": "code",
   "execution_count": null,
   "metadata": {},
   "outputs": [],
   "source": [
    "for i in range (n_past, inputX.shape[0] - n_future + 1):\n",
    "    \n",
    "\n",
    "    trainX.append(inputX[i-n_past:i,])\n",
    "#     trainX.append(inputX[i - n_past:i, 0:inputX[1]])\n",
    "\n",
    "    \n",
    "trainX = np.array(trainX)\n",
    "\n"
   ]
  },
  {
   "cell_type": "code",
   "execution_count": null,
   "metadata": {},
   "outputs": [],
   "source": [
    "inputY[2]"
   ]
  },
  {
   "cell_type": "code",
   "execution_count": null,
   "metadata": {},
   "outputs": [],
   "source": [
    "trainY=[]\n",
    "# for i in range (n_past, inputY.shape[0] - n_future + 1):\n",
    "    \n",
    "#     print(inputY[i + n_future -1::i +n_future])\n",
    "\n",
    "# list.append(arr[0:2:])\n",
    "trainY= inputY[n_past-1:inputY.shape[0]-1:]\n",
    "\n",
    "\n",
    "    \n",
    "# trainY = np.array(trainY)"
   ]
  },
  {
   "cell_type": "code",
   "execution_count": null,
   "metadata": {},
   "outputs": [],
   "source": [
    "print('trainX shape == {}.'.format(trainX.shape))\n",
    "print('trainY shape == {}.'.format(trainY.shape))"
   ]
  },
  {
   "cell_type": "code",
   "execution_count": null,
   "metadata": {},
   "outputs": [],
   "source": [
    "trainY[0]"
   ]
  },
  {
   "cell_type": "code",
   "execution_count": null,
   "metadata": {},
   "outputs": [],
   "source": [
    "model = Sequential()\n",
    "model.add(LSTM(64, activation = 'relu', input_shape =(trainX.shape[1],trainX.shape[2]), return_sequences = True))\n",
    "model.add(LSTM(32, activation = 'relu', return_sequences = False))\n",
    "model.add(Dropout(0.2))\n",
    "# Adding the output layer\n",
    "model.add(Dense(trainY.shape[1]))\n",
    "\n",
    "model.compile(optimizer = 'adam', loss = 'mse')\n",
    "model.summary()"
   ]
  },
  {
   "cell_type": "code",
   "execution_count": null,
   "metadata": {},
   "outputs": [],
   "source": [
    "history = model.fit(trainX, trainY, epochs =10, batch_size = 16, validation_split= 0.1, verbose =1)\n",
    "\n"
   ]
  },
  {
   "cell_type": "code",
   "execution_count": null,
   "metadata": {},
   "outputs": [],
   "source": [
    "test_inputX, test_inputY = getProcessedDataSet(df_forTesting)"
   ]
  },
  {
   "cell_type": "code",
   "execution_count": null,
   "metadata": {},
   "outputs": [],
   "source": [
    "test_inputX = np.array(test_inputX)\n",
    "test_inputY = np.array(test_inputY)\n",
    "print(test_inputX.shape)\n",
    "print(test_inputY.shape)"
   ]
  },
  {
   "cell_type": "code",
   "execution_count": null,
   "metadata": {},
   "outputs": [],
   "source": [
    "testX = []\n",
    "for i in range (n_past, test_inputX.shape[0] - n_future + 1):\n",
    "    \n",
    "    testX.append(test_inputX[i-n_past:i,])\n",
    "    \n",
    "testX = np.array(testX)\n"
   ]
  },
  {
   "cell_type": "code",
   "execution_count": null,
   "metadata": {},
   "outputs": [],
   "source": [
    "testY=[]\n",
    "testY= test_inputY[n_past-1:test_inputY.shape[0]-1:]"
   ]
  },
  {
   "cell_type": "code",
   "execution_count": null,
   "metadata": {},
   "outputs": [],
   "source": [
    "print('testX shape == {}.'.format(testX.shape))\n",
    "print('testY shape == {}.'.format(testY.shape))"
   ]
  },
  {
   "cell_type": "code",
   "execution_count": null,
   "metadata": {},
   "outputs": [],
   "source": [
    "# make predictions\n",
    "\n",
    "trainPredict = model.predict(trainX)\n",
    "testPredict = model.predict(testX)"
   ]
  },
  {
   "cell_type": "code",
   "execution_count": null,
   "metadata": {},
   "outputs": [],
   "source": [
    "# invert predictions\n",
    "scaler = StandardScaler()\n",
    "trainPredict = scaler.inverse_transform(trainPredict)\n",
    "# trainY = scaler.inverse_transform([trainY])"
   ]
  },
  {
   "cell_type": "code",
   "execution_count": null,
   "metadata": {},
   "outputs": [],
   "source": [
    "testPredict = scaler.inverse_transform(testPredict)\n",
    "# testY = scaler.inverse_transform([testY])"
   ]
  },
  {
   "cell_type": "code",
   "execution_count": null,
   "metadata": {},
   "outputs": [],
   "source": [
    "import math\n",
    "from sklearn.metrics import mean_squared_error\n",
    "trainScore = math.sqrt(mean_squared_error(trainY[0], trainPredict[:,0]))"
   ]
  },
  {
   "cell_type": "code",
   "execution_count": null,
   "metadata": {},
   "outputs": [],
   "source": []
  }
 ],
 "metadata": {
  "kernelspec": {
   "display_name": "Python 3",
   "language": "python",
   "name": "python3"
  },
  "language_info": {
   "codemirror_mode": {
    "name": "ipython",
    "version": 3
   },
   "file_extension": ".py",
   "mimetype": "text/x-python",
   "name": "python",
   "nbconvert_exporter": "python",
   "pygments_lexer": "ipython3",
   "version": "3.7.3"
  }
 },
 "nbformat": 4,
 "nbformat_minor": 2
}
